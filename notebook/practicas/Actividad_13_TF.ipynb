{
 "cells": [
  {
   "cell_type": "code",
   "execution_count": 45,
   "metadata": {},
   "outputs": [
    {
     "name": "stdout",
     "output_type": "stream",
     "text": [
      "GPUs disponibles [PhysicalDevice(name='/physical_device:GPU:0', device_type='GPU')]\n"
     ]
    }
   ],
   "source": [
    "import tensorflow as tf\n",
    "import numpy as np\n",
    "print(f\"GPUs disponibles {tf.config.list_physical_devices('GPU')}\")"
   ]
  },
  {
   "cell_type": "code",
   "execution_count": 46,
   "metadata": {},
   "outputs": [
    {
     "name": "stdout",
     "output_type": "stream",
     "text": [
      "Tensor a: [1 2 3]\n",
      "Tensor b: [4 5 6]\n"
     ]
    }
   ],
   "source": [
    "a = np.array([1,2,3], dtype=np.int32)\n",
    "b = [4, 5, 6]\n",
    "\n",
    "t_a = tf.convert_to_tensor(a)\n",
    "t_b = tf.convert_to_tensor(b)\n",
    "\n",
    "print(f\"Tensor a: {t_a}\")\n",
    "print(f\"Tensor b: {t_b}\")"
   ]
  },
  {
   "cell_type": "code",
   "execution_count": 47,
   "metadata": {},
   "outputs": [
    {
     "name": "stdout",
     "output_type": "stream",
     "text": [
      "Es a un tensor True\n",
      "Es b un tensor True\n"
     ]
    }
   ],
   "source": [
    "print(f\"Es a un tensor {tf.is_tensor(t_a)}\")\n",
    "print(f\"Es b un tensor {tf.is_tensor(t_b)}\")"
   ]
  },
  {
   "cell_type": "code",
   "execution_count": 48,
   "metadata": {},
   "outputs": [
    {
     "name": "stdout",
     "output_type": "stream",
     "text": [
      "Tensor de unos [[1. 1. 1.]\n",
      " [1. 1. 1.]]\n",
      "Tensor de unos como array de Numpy: [[1. 1. 1.]\n",
      " [1. 1. 1.]]\n"
     ]
    }
   ],
   "source": [
    "t_ones = tf.ones((2,3))\n",
    "print(f\"Tensor de unos {t_ones}\")\n",
    "\n",
    "print(f\"Tensor de unos como array de Numpy: {t_ones.numpy()}\")"
   ]
  },
  {
   "cell_type": "code",
   "execution_count": 49,
   "metadata": {},
   "outputs": [
    {
     "name": "stdout",
     "output_type": "stream",
     "text": [
      "Tensor constante: [1.2       5.        3.1415927]\n"
     ]
    }
   ],
   "source": [
    "const_tensor = tf.constant([1.2, 5, np.pi], dtype=tf.float32)\n",
    "print(f\"Tensor constante: {const_tensor}\")"
   ]
  },
  {
   "cell_type": "code",
   "execution_count": 50,
   "metadata": {},
   "outputs": [
    {
     "name": "stdout",
     "output_type": "stream",
     "text": [
      "Tensor lleno: [[3 3 3]\n",
      " [3 3 3]]\n"
     ]
    }
   ],
   "source": [
    "tensor_lleno = tf.fill((2,3), 3)\n",
    "print(f\"Tensor lleno: {tensor_lleno}\")"
   ]
  },
  {
   "cell_type": "code",
   "execution_count": 51,
   "metadata": {},
   "outputs": [
    {
     "name": "stdout",
     "output_type": "stream",
     "text": [
      "One hot tensor: [[1. 0. 0. 0.]\n",
      " [0. 1. 0. 0.]\n",
      " [0. 0. 1. 0.]\n",
      " [0. 0. 0. 1.]]\n"
     ]
    }
   ],
   "source": [
    "one_hot_tensor = tf.one_hot([0,1,2,3], 4)\n",
    "print(f\"One hot tensor: {one_hot_tensor}\")"
   ]
  },
  {
   "cell_type": "code",
   "execution_count": 52,
   "metadata": {},
   "outputs": [
    {
     "name": "stdout",
     "output_type": "stream",
     "text": [
      "Tensor a convertido a int64: [1 2 3]\n"
     ]
    }
   ],
   "source": [
    "t_a_new = tf.cast(t_a, tf.int64)\n",
    "print(f\"Tensor a convertido a int64: {t_a_new}\")"
   ]
  },
  {
   "cell_type": "code",
   "execution_count": 53,
   "metadata": {},
   "outputs": [
    {
     "name": "stdout",
     "output_type": "stream",
     "text": [
      "Tensor original: [[0.2364521  0.23877335 0.50363123 0.77354    0.61077476]\n",
      " [0.8721783  0.2728473  0.6183162  0.20251584 0.8700757 ]\n",
      " [0.4924059  0.49692988 0.03011882 0.6857647  0.63157225]]\n",
      "Tensor transpuesto: [[0.2364521  0.8721783  0.4924059 ]\n",
      " [0.23877335 0.2728473  0.49692988]\n",
      " [0.50363123 0.6183162  0.03011882]\n",
      " [0.77354    0.20251584 0.6857647 ]\n",
      " [0.61077476 0.8700757  0.63157225]]\n"
     ]
    }
   ],
   "source": [
    "t = tf.random.uniform(shape=(3,5))\n",
    "t_tr = tf.transpose(t)\n",
    "\n",
    "print(f\"Tensor original: {t}\")\n",
    "print(f\"Tensor transpuesto: {t_tr}\")"
   ]
  },
  {
   "cell_type": "code",
   "execution_count": 54,
   "metadata": {},
   "outputs": [
    {
     "name": "stdout",
     "output_type": "stream",
     "text": [
      "Tensor original: [0. 0. 0. 0. 0. 0. 0. 0. 0. 0. 0. 0. 0. 0. 0. 0. 0. 0. 0. 0. 0. 0. 0. 0.\n",
      " 0. 0. 0. 0. 0. 0.]\n",
      "Tensor reshaped: [[0. 0. 0. 0. 0. 0.]\n",
      " [0. 0. 0. 0. 0. 0.]\n",
      " [0. 0. 0. 0. 0. 0.]\n",
      " [0. 0. 0. 0. 0. 0.]\n",
      " [0. 0. 0. 0. 0. 0.]]\n"
     ]
    }
   ],
   "source": [
    "t = tf.zeros((30,))\n",
    "t_reshape = tf.reshape(t, shape=(5,6))\n",
    "print(f\"Tensor original: {t}\")\n",
    "print(f\"Tensor reshaped: {t_reshape}\")"
   ]
  },
  {
   "cell_type": "code",
   "execution_count": 55,
   "metadata": {},
   "outputs": [
    {
     "name": "stdout",
     "output_type": "stream",
     "text": [
      "Tensor original: [[[[[0.]\n",
      "    [0.]\n",
      "    [0.]\n",
      "    [0.]]]\n",
      "\n",
      "\n",
      "  [[[0.]\n",
      "    [0.]\n",
      "    [0.]\n",
      "    [0.]]]]]\n",
      "Tensor squeezed: [[[0. 0. 0. 0.]\n",
      "  [0. 0. 0. 0.]]]\n"
     ]
    }
   ],
   "source": [
    "t = tf.zeros((1, 2, 1, 4, 1))\n",
    "t_sqz = tf.squeeze(t, axis=(2,4))\n",
    "print(f\"Tensor original: {t}\")\n",
    "print(f\"Tensor squeezed: {t_sqz}\")"
   ]
  },
  {
   "cell_type": "code",
   "execution_count": 56,
   "metadata": {},
   "outputs": [
    {
     "name": "stdout",
     "output_type": "stream",
     "text": [
      "t3 = [[-0.26996347 -0.87363994]\n",
      " [-0.01652765 -0.17496566]\n",
      " [-0.296179   -0.13944869]\n",
      " [-0.727211    0.13463593]\n",
      " [-0.40087393  0.00445271]]\n"
     ]
    }
   ],
   "source": [
    "tf.random.set_seed(1)\n",
    "\n",
    "t1 = tf.random.uniform(shape=(5,2), minval=-1.0, maxval=1.0)\n",
    "t2 = tf.random.normal(shape=(5,2), mean=0.0, stddev=1.0)\n",
    "\n",
    "t3 = tf.multiply(t1, t2).numpy()\n",
    "\n",
    "print(f\"t3 = {t3}\")"
   ]
  },
  {
   "cell_type": "code",
   "execution_count": 57,
   "metadata": {},
   "outputs": [
    {
     "name": "stdout",
     "output_type": "stream",
     "text": [
      "Media de t1 [0.08957257 0.2074099 ]\n"
     ]
    }
   ],
   "source": [
    "t4 = tf.math.reduce_mean(t1, axis=0)\n",
    "print(f\"Media de t1 {t4}\")"
   ]
  },
  {
   "cell_type": "code",
   "execution_count": 58,
   "metadata": {},
   "outputs": [
    {
     "name": "stdout",
     "output_type": "stream",
     "text": [
      "Producto punto de t1 y t2: [[-1.1436034   1.1154622  -0.86957175 -0.32104328  0.8555104 ]\n",
      " [ 0.24801862 -0.19149332  0.2504958  -0.06440266 -0.33072042]\n",
      " [-0.47782418  0.40717945 -0.4356277   0.02238923  0.5270062 ]\n",
      " [ 0.5247931  -0.23352589  0.74080014 -0.5925751  -1.1940589 ]\n",
      " [-0.09918738  0.26019517  0.12526006 -0.4623127  -0.39642122]]\n"
     ]
    }
   ],
   "source": [
    "t5 = tf.linalg.matmul(t1, t2, transpose_b=True)\n",
    "print(f\"Producto punto de t1 y t2: {t5}\")"
   ]
  },
  {
   "cell_type": "code",
   "execution_count": 59,
   "metadata": {},
   "outputs": [
    {
     "name": "stdout",
     "output_type": "stream",
     "text": [
      "Tensor original [0.8292774  0.634228   0.5147276  0.39108086 0.5809028  0.04848182]\n",
      "Tensor dividido en 3 partes: [<tf.Tensor: shape=(2,), dtype=float32, numpy=array([0.8292774, 0.634228 ], dtype=float32)>, <tf.Tensor: shape=(2,), dtype=float32, numpy=array([0.5147276 , 0.39108086], dtype=float32)>, <tf.Tensor: shape=(2,), dtype=float32, numpy=array([0.5809028 , 0.04848182], dtype=float32)>]\n"
     ]
    }
   ],
   "source": [
    "t = tf.random.uniform((6,))\n",
    "\n",
    "print(f\"Tensor original {t}\")\n",
    "\n",
    "t_splits = tf.split(t, 3)\n",
    "print(f\"Tensor dividido en 3 partes: {t_splits}\")"
   ]
  },
  {
   "cell_type": "code",
   "execution_count": 60,
   "metadata": {},
   "outputs": [
    {
     "name": "stdout",
     "output_type": "stream",
     "text": [
      "Tensor A: [1. 1. 1.]\n",
      "Tensor B: [0. 0.]\n",
      "Tensor C: [1. 1. 1. 0. 0.]\n"
     ]
    }
   ],
   "source": [
    "A = tf.ones((3,))\n",
    "B = tf.zeros((2,))\n",
    "\n",
    "C = tf.concat([A, B], axis=0)\n",
    "\n",
    "print(f\"Tensor A: {A}\")\n",
    "print(f\"Tensor B: {B}\")\n",
    "print(f\"Tensor C: {C}\")"
   ]
  },
  {
   "cell_type": "code",
   "execution_count": 61,
   "metadata": {},
   "outputs": [
    {
     "name": "stdout",
     "output_type": "stream",
     "text": [
      "Tensor A: [1. 1. 1.]\n",
      "Tensor B: [0. 0. 0.]\n",
      "Tensor apilado: [[1. 0.]\n",
      " [1. 0.]\n",
      " [1. 0.]]\n"
     ]
    }
   ],
   "source": [
    "B = tf.zeros((3,))\n",
    "\n",
    "S = tf.stack([A, B], axis=1)\n",
    "\n",
    "print(f\"Tensor A: {A}\")\n",
    "print(f\"Tensor B: {B}\")\n",
    "print(f\"Tensor apilado: {S}\")"
   ]
  }
 ],
 "metadata": {
  "kernelspec": {
   "display_name": ".venv",
   "language": "python",
   "name": "python3"
  },
  "language_info": {
   "codemirror_mode": {
    "name": "ipython",
    "version": 3
   },
   "file_extension": ".py",
   "mimetype": "text/x-python",
   "name": "python",
   "nbconvert_exporter": "python",
   "pygments_lexer": "ipython3",
   "version": "3.12.9"
  }
 },
 "nbformat": 4,
 "nbformat_minor": 2
}
