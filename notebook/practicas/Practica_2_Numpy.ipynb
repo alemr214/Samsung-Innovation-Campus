{
  "cells": [
    {
      "cell_type": "markdown",
      "metadata": {
        "id": "Odky_PrxCCqL"
      },
      "source": [
        "# Objetivo\n",
        "\n",
        "El objetivo de este ejercicio es aplicar funciones estadísticas sobre una matriz de calificaciones utilizando la librería Numpy de Python. Analizarás datos de estudiantes y sus calificaciones en diferentes asignaturas y calcularás diversas estadísticas."
      ]
    },
    {
      "cell_type": "code",
      "execution_count": null,
      "metadata": {
        "id": "eAxHkGhjWvTP"
      },
      "outputs": [],
      "source": [
        "# Importar librerías necesarias\n",
        "import numpy as np\n",
        "import matplotlib.pyplot as plt"
      ]
    },
    {
      "cell_type": "markdown",
      "metadata": {
        "id": "o_jpXCvPCQsq"
      },
      "source": [
        "---\n",
        "\n",
        "## Crear la matriz de calificaciones\n",
        "\n",
        "Utilizar Numpy para crear una matriz 5x4 que contenga las calificaciones de 5 estudiantes en 4 asignaturas. Imprime la matriz para asegurar que se haya creado correctamente.\n",
        "\n",
        "**Matriz**:\n",
        "\n",
        "```\n",
        "Estudiante 1: [7, 8, 6, 5]\n",
        "Estudiante 2: [9, 7, 8, 6]\n",
        "Estudiante 3: [6, 5, 9, 7]\n",
        "Estudiante 4: [8, 6, 7, 8]\n",
        "Estudiante 5: [5, 4, 6, 5]\n",
        "```"
      ]
    },
    {
      "cell_type": "code",
      "execution_count": null,
      "metadata": {
        "colab": {
          "base_uri": "https://localhost:8080/"
        },
        "id": "HXsD0bljWvTQ",
        "outputId": "426a2e29-e83b-43a1-caab-91a5d1a95e04"
      },
      "outputs": [
        {
          "output_type": "execute_result",
          "data": {
            "text/plain": [
              "array([[7, 8, 6, 5],\n",
              "       [9, 7, 8, 6],\n",
              "       [6, 5, 9, 7],\n",
              "       [8, 6, 7, 8],\n",
              "       [5, 4, 6, 5]])"
            ]
          },
          "metadata": {},
          "execution_count": 2
        }
      ],
      "source": [
        "matriz_calificaciones = np.array([\n",
        "    [7, 8, 6, 5],\n",
        "    [9, 7, 8, 6],\n",
        "    [6, 5, 9, 7],\n",
        "    [8, 6, 7, 8],\n",
        "    [5, 4, 6, 5]\n",
        "])\n",
        "\n",
        "matriz_calificaciones # Impresión de la matriz"
      ]
    },
    {
      "cell_type": "markdown",
      "source": [
        "---"
      ],
      "metadata": {
        "id": "X9XnDytFj7HN"
      }
    },
    {
      "cell_type": "markdown",
      "metadata": {
        "id": "39oI_Wd4DL9t"
      },
      "source": [
        "## Calcular estadísticas básicas\n",
        "\n",
        "1. Media por asignaturas:\n",
        "  - Calcular la media de las calificaciones por cada asignatura (es decir, la media de cada columna de la matriz).\n",
        "2. Varianza por estudiante:\n",
        "  - Calcula la varianza de las calificaciones por cada estudiante (es decir, la varianza por cada fila de la matriz).\n",
        "3. Desviación estandar de la matriz completa:\n",
        "  - Calcula la desviación estándar de todas las calificaciones en la matriz.\n",
        "\n",
        "- Funciones a utilizar:\n",
        "\n",
        "```\n",
        "np.mean()\n",
        "np.var()\n",
        "np.std()\n",
        "```\n",
        "\n",
        "---"
      ]
    },
    {
      "cell_type": "code",
      "execution_count": null,
      "metadata": {
        "id": "Qvw55E4-EK0h",
        "colab": {
          "base_uri": "https://localhost:8080/"
        },
        "outputId": "18f78905-a7c9-4a83-d794-7072cb0a3cc0"
      },
      "outputs": [
        {
          "output_type": "stream",
          "name": "stdout",
          "text": [
            "La media por asignaturas es:\n",
            "\n",
            "Asignatura 1: 7.0\n",
            "\n",
            "Asignatura 2: 6.0\n",
            "\n",
            "Asignatura 3: 7.2\n",
            "\n",
            "Asignatura 4: 6.2\n",
            "\n",
            "La varianza por estudiante es:\n",
            "\n",
            "Estudiante 1: 1.25\n",
            "\n",
            "Estudiante 2: 1.25\n",
            "\n",
            "Estudiante 3: 2.19\n",
            "\n",
            "Estudiante 4: 0.69\n",
            "\n",
            "Estudiante 5: 0.5\n",
            "\n",
            "La desviación estándar de la matriz completa es: 1.39\n"
          ]
        }
      ],
      "source": [
        "def mensaje_arreglo_unidimensional(array: list, atributo: str) -> None:\n",
        "  \"\"\"\n",
        "  Función para modularizar la impresión de los datos en el mensaje de salida\n",
        "  Asinatura 1: Dato\n",
        "  Asinatura 2: Dato\n",
        "  ...\n",
        "  Asinatura n: Dato\n",
        "  -------------------------\n",
        "  Estudiante 1: Dato\n",
        "  Estudiante 2: Dato\n",
        "  ...\n",
        "  Estudiante n: Dato\n",
        "  \"\"\"\n",
        "  for contador, elemento in enumerate(array, start=1):  # Recorre un arreglo unidimensional, y crea un contador\n",
        "    print(f\"{atributo} {contador}: {elemento}\\n\") # Mensaje de salida\n",
        "\n",
        "\n",
        "media_asignaturas = np.mean(matriz_calificaciones, axis=0).round(2) # Calcular la media por asinaturas (por columna, a traves del atributo `axis=0`)\n",
        "varianza_estudiantes = np.var(matriz_calificaciones, axis=1).round(2)  # Calcular la varianza por estudiantes (por fila, a traves del atributo `axis=1`)\n",
        "desviacion_estandar_total = np.std(matriz_calificaciones).round(2) # Calcular la desviación estandar de todas las calificaciones y redondearla a 2 decimales]\\\n",
        "\n",
        "# Mensajes de salida en consola\n",
        "print(\"La media por asignaturas es:\\n\")\n",
        "mensaje_arreglo_unidimensional(media_asignaturas, \"Asignatura\")\n",
        "\n",
        "print(\"La varianza por estudiante es:\\n\")\n",
        "mensaje_arreglo_unidimensional(varianza_estudiantes, \"Estudiante\")\n",
        "\n",
        "print(\"La desviación estándar de la matriz completa es:\", desviacion_estandar_total)"
      ]
    },
    {
      "cell_type": "markdown",
      "source": [
        "---\n",
        "### Gráfico media asignatura\n",
        "\n",
        "Generar un gráfico para visualizar la media de las asignaturas"
      ],
      "metadata": {
        "id": "MhGQ9XHKgudK"
      }
    },
    {
      "cell_type": "code",
      "source": [
        "def generar_etiquetas_grafico(nombre_etiqueta: str, cantidad_etiquetas: list) -> list:\n",
        "    \"\"\"\n",
        "    Función para generar etiquetas de manera automática que se utilizará en un gráfico con la librería Matplotlib\n",
        "\n",
        "    Salida -> [\"Estudiante 1\", \"Estudiante 2\", ..., \"Estudiante n\"]\n",
        "    Salida -> [\"Asignatura 1\", \"Asignatura 2\", ..., \"Asignatura n\"]\n",
        "    \"\"\"\n",
        "    etiquetas = []\n",
        "    for contador in range(1, len(cantidad_etiquetas)+1):\n",
        "        etiquetas.append(f\"{nombre_etiqueta} {contador}\")\n",
        "    return etiquetas\n",
        "\n",
        "\n",
        "bars_asignaturas = plt.bar(generar_etiquetas_grafico(\"Asignatura\", media_asignaturas), media_asignaturas)\n",
        "\n",
        "for bar in bars_asignaturas:\n",
        "    yval = bar.get_height()  # Obtiene la altura de la barra (el valor)\n",
        "    plt.text(bar.get_x() + bar.get_width() / 2, yval + 0.1,  # Posición (x, y)\n",
        "             str(yval),  # Valor como texto\n",
        "             ha='center', va='bottom', fontsize=10)  # Alineación y estilo\n",
        "\n",
        "plt.title(\"Media por asignaturas\")\n",
        "plt.xlabel(\"Asignaturas\")\n",
        "plt.ylabel(\"Calificaciones\")\n",
        "plt.show()"
      ],
      "metadata": {
        "colab": {
          "base_uri": "https://localhost:8080/",
          "height": 472
        },
        "id": "fvO8iRnGbifp",
        "outputId": "67e2f2a9-0f07-4170-d78a-c1bb96a0589a"
      },
      "execution_count": null,
      "outputs": [
        {
          "output_type": "display_data",
          "data": {
            "text/plain": [
              "<Figure size 640x480 with 1 Axes>"
            ],
            "image/png": "[encoded data removed]"
          },
          "metadata": {}
        }
      ]
    },
    {
      "cell_type": "markdown",
      "source": [
        "---\n",
        "### Gráfico varianza estudiante\n",
        "\n",
        "Generar un gráfico para visualizar la varianza de los estudiantes"
      ],
      "metadata": {
        "id": "Jmqtb6eZkwf7"
      }
    },
    {
      "cell_type": "code",
      "source": [
        "bars_estudiantes = plt.bar(generar_etiquetas_grafico(\"Estudiante\", varianza_estudiantes), varianza_estudiantes)\n",
        "\n",
        "for bar in bars_estudiantes:\n",
        "    yval = bar.get_height()  # Obtiene la altura de la barra (el valor)\n",
        "    plt.text(bar.get_x() + bar.get_width() / 2, yval + 0.1,  # Posición (x, y)\n",
        "             str(yval),  # Valor como texto\n",
        "             ha='center', va='bottom', fontsize=10)  # Alineación y estilo\n",
        "\n",
        "plt.title(\"Varianza por estudiantes\")\n",
        "plt.xlabel(\"Estudiantes\")\n",
        "plt.ylabel(\"Varianza\")\n",
        "plt.show()"
      ],
      "metadata": {
        "colab": {
          "base_uri": "https://localhost:8080/",
          "height": 472
        },
        "id": "MDR6djL0k4bE",
        "outputId": "6dd1ad07-049a-40a7-cf9b-077fef7be8d4"
      },
      "execution_count": null,
      "outputs": [
        {
          "output_type": "display_data",
          "data": {
            "text/plain": [
              "<Figure size 640x480 with 1 Axes>"
            ],
            "image/png": "[encoded data removed]"
          },
          "metadata": {}
        }
      ]
    },
    {
      "cell_type": "markdown",
      "metadata": {
        "id": "k0WNtZXREHgt"
      },
      "source": [
        "---\n",
        "## Obtener valores únicos y ordenarlos\n",
        "\n",
        "Utiliza `np.unique()` para obtener los valores únicos de las calificaciones en toda la matriz. Luego, utiliza `sorted(set())` para odenar esos valores de menor a mayor."
      ]
    },
    {
      "cell_type": "code",
      "execution_count": null,
      "metadata": {
        "id": "HWsJLNPHERHD",
        "colab": {
          "base_uri": "https://localhost:8080/"
        },
        "outputId": "795f4a54-ec2f-409b-db75-efa5c7f053a4"
      },
      "outputs": [
        {
          "output_type": "stream",
          "name": "stdout",
          "text": [
            "Valores únicos y ordenados: [4, 5, 6, 7, 8, 9]\n"
          ]
        }
      ],
      "source": [
        "valores_unicos = np.unique(matriz_calificaciones)  # Obtiene los valores únicos de la matriz\n",
        "valores_ordenados = sorted(set(valores_unicos))  # Ordena los valores únicos de menor a mayor\n",
        "print(\"Valores únicos y ordenados:\", valores_ordenados)  # Imprime los valores únicos y ordenados"
      ]
    },
    {
      "cell_type": "markdown",
      "metadata": {
        "id": "TyYa3i3UWvTR"
      },
      "source": [
        "---\n",
        "## Filtrar estudiantes con calificaciones mayores a 6\n",
        "\n",
        "1. Filtrar los estudiantes que tienen calificaciones mayores a 6 en todas las asignaturas.\n",
        "\n",
        "2. Luego, modifica la matriz reemplazando todas las calificaciones menores o iguales a 6 por 10.\n",
        "\n",
        "Funciones a utilizar:\n",
        "`np.all()` para filtrar por filas.\n",
        "`np.where()` para reemplazar valores."
      ]
    },
    {
      "cell_type": "code",
      "execution_count": null,
      "metadata": {
        "id": "9cbwt8z1WvTR",
        "colab": {
          "base_uri": "https://localhost:8080/"
        },
        "outputId": "595a315f-6453-47e9-8040-4dc55b23fddb"
      },
      "outputs": [
        {
          "output_type": "stream",
          "name": "stdout",
          "text": [
            "\n",
            "Matriz modificada (calificaciones menores o iguales a 6 reemplazadas por 10):\n",
            "\n",
            "Estudiante 1: [ 7  8 10 10]\n",
            "Estudiante 2: [ 9  7  8 10]\n",
            "Estudiante 3: [10 10  9  7]\n",
            "Estudiante 4: [ 8 10  7  8]\n",
            "Estudiante 5: [10 10 10 10]\n"
          ]
        }
      ],
      "source": [
        "# Filtrar estudiantes con calificaciones mayores a 6 en todas las asignaturas\n",
        "for contador, fila in enumerate(matriz_calificaciones, start=1):\n",
        "    if np.all(fila > 6):\n",
        "        print(f\"Estudiante {contador} tiene calificaciones mayores a 6 en todas las asignaturas.\")\n",
        "\n",
        "# Reemplazar calificaciones menores o iguales a 6 por 10\n",
        "matriz_modificada = np.where(matriz_calificaciones <= 6, 10, matriz_calificaciones)\n",
        "\n",
        "print(\"\\nMatriz modificada (calificaciones menores o iguales a 6 reemplazadas por 10):\\n\")\n",
        "\n",
        "for contador, fila in enumerate(matriz_modificada, start=1):  # Recorre la matriz modificada\n",
        "    print(f\"Estudiante {contador}: {fila}\")  # Imprime la fila actual"
      ]
    },
    {
      "cell_type": "markdown",
      "metadata": {
        "id": "LI4On0W-WvTR"
      },
      "source": [
        "---\n",
        "## Calcular estadísticas por asignaturas\n",
        "\n",
        "Calcula las siguientes estadísticas por cada asignatura:\n",
        "  - Máximo: La calificaión más alta.\n",
        "  - Mínimo: La calificación más baja.\n",
        "  - Mediana: El valor central de las calificaciones.\n",
        "Funciones a utilizar:\n",
        "```\n",
        "np.max()\n",
        "np.min()\n",
        "np.median()\n",
        "```"
      ]
    },
    {
      "cell_type": "code",
      "execution_count": null,
      "metadata": {
        "id": "mhmfGXicWvTR",
        "colab": {
          "base_uri": "https://localhost:8080/"
        },
        "outputId": "2f203c83-76a8-4cd8-c753-b3e07244ba7b"
      },
      "outputs": [
        {
          "output_type": "stream",
          "name": "stdout",
          "text": [
            "--Valores minimos--\n",
            "Asignatura 1: 10\n",
            "\n",
            "Asignatura 2: 10\n",
            "\n",
            "Asignatura 3: 10\n",
            "\n",
            "Asignatura 4: 10\n",
            "\n",
            "\n",
            "--Valores minimos--\n",
            "Asignatura 1: 7\n",
            "\n",
            "Asignatura 2: 7\n",
            "\n",
            "Asignatura 3: 7\n",
            "\n",
            "Asignatura 4: 7\n",
            "\n",
            "\n",
            "--Valor central (media)--\n",
            "Asignatura 1: 9.0\n",
            "\n",
            "Asignatura 2: 10.0\n",
            "\n",
            "Asignatura 3: 9.0\n",
            "\n",
            "Asignatura 4: 10.0\n",
            "\n"
          ]
        }
      ],
      "source": [
        "# Calculo estadistico por asignatura\n",
        "valor_maximo = np.max(matriz_modificada, axis=0)  # Valor maximo\n",
        "valor_minimo = np.min(matriz_modificada, axis=0)  # Valor minimo\n",
        "valor_mediana = np.median(matriz_modificada, axis=0)  # Valor central (media)\n",
        "\n",
        "# Mensajes de salida\n",
        "print(\"--Valores minimos--\")\n",
        "mensaje_arreglo_unidimensional(valor_maximo, \"Asignatura\")\n",
        "\n",
        "print(\"\\n--Valores minimos--\")\n",
        "mensaje_arreglo_unidimensional(valor_minimo, \"Asignatura\")\n",
        "\n",
        "print(\"\\n--Valor central (media)--\")\n",
        "mensaje_arreglo_unidimensional(valor_mediana, \"Asignatura\")"
      ]
    },
    {
      "cell_type": "markdown",
      "metadata": {
        "id": "-Y5Zxe3OWvTS"
      },
      "source": [
        "---\n",
        "## Crear un resumen completo\n",
        "\n",
        "Imprime un resumen que contenga:\n",
        "  - Media\n",
        "  - Máximo\n",
        "  - Mínimo\n",
        "  - Mediana\n",
        "  - Y los valores únicos ordenados de cada asignatura\n",
        "\n",
        "El resumen debe de verse de la siguiente manera:\n",
        "\n",
        "Asignatura 1 (Matemáticas:\n",
        "  - Media: ...\n",
        "  - Máximo: ...\n",
        "  - Mínimo: ...\n",
        "  - Mediana: ...\n",
        "  - Valores únicos: ..."
      ]
    },
    {
      "cell_type": "code",
      "execution_count": null,
      "metadata": {
        "id": "JnfOpxxTWvTS",
        "colab": {
          "base_uri": "https://localhost:8080/"
        },
        "outputId": "92a808af-e4b8-4af6-cf1f-e355eb00a99f"
      },
      "outputs": [
        {
          "output_type": "stream",
          "name": "stdout",
          "text": [
            "Asignatura 1:\n",
            "  Media: 8.8\n",
            "  Máximo: 10\n",
            "  Mínimo: 7\n",
            "  Mediana: 9.0\n",
            "  Valores únicos: [ 7  8  9 10]\n",
            "Asignatura 2:\n",
            "  Media: 9.0\n",
            "  Máximo: 10\n",
            "  Mínimo: 7\n",
            "  Mediana: 10.0\n",
            "  Valores únicos: [ 7  8 10]\n",
            "Asignatura 3:\n",
            "  Media: 8.8\n",
            "  Máximo: 10\n",
            "  Mínimo: 7\n",
            "  Mediana: 9.0\n",
            "  Valores únicos: [ 7  8  9 10]\n",
            "Asignatura 4:\n",
            "  Media: 9.0\n",
            "  Máximo: 10\n",
            "  Mínimo: 7\n",
            "  Mediana: 10.0\n",
            "  Valores únicos: [ 7  8 10]\n"
          ]
        }
      ],
      "source": [
        "def generar_resumen(asignatura: list, nombre_asignatura: str):\n",
        "    \"\"\"\n",
        "    Función para generar un resumen de una asignatura con mensajes de salida\n",
        "    - Media\n",
        "    - Máximo\n",
        "    - Mínimo\n",
        "    - Mediana\n",
        "    - Y los valores únicos ordenados de cada asignatura\n",
        "\n",
        "    \"\"\"\n",
        "    media = np.mean(asignatura)\n",
        "    maximo = np.max(asignatura)\n",
        "    minimo = np.min(asignatura)\n",
        "    mediana = np.median(asignatura)\n",
        "    valores_unicos = np.sort(np.unique(asignatura))\n",
        "\n",
        "    print(f\"{nombre_asignatura}:\")\n",
        "    print(f\"  Media: {media}\")\n",
        "    print(f\"  Máximo: {maximo}\")\n",
        "    print(f\"  Mínimo: {minimo}\")\n",
        "    print(f\"  Mediana: {mediana}\")\n",
        "    print(f\"  Valores únicos: {valores_unicos}\")\n",
        "\n",
        "# Generar una matriz traspuesta: Volver Filas - Columnas y viceversa\n",
        "matriz_traspuesta = matriz_modificada.T\n",
        "\n",
        "for contador, asignatura in enumerate(matriz_traspuesta, start=1):\n",
        "    generar_resumen(asignatura, f\"Asignatura {contador}\")"
      ]
    },
    {
      "cell_type": "markdown",
      "metadata": {
        "id": "F0HxUQsOWvTS"
      },
      "source": [
        "---\n",
        "## Entregables:\n",
        "\n",
        "- [  ] El código completo que resuleve los pasos indicados.\n",
        "- [  ] Gráficas a criterio personal de cada uno.\n",
        "- [  ] Código Comentado línea por línea."
      ]
    }
  ],
  "metadata": {
    "colab": {
      "provenance": [],
      "toc_visible": true
    },
    "kernelspec": {
      "display_name": "Python 3 (ipykernel)",
      "language": "python",
      "name": "python3"
    },
    "language_info": {
      "codemirror_mode": {
        "name": "ipython",
        "version": 3
      },
      "file_extension": ".py",
      "mimetype": "text/x-python",
      "name": "python",
      "nbconvert_exporter": "python",
      "pygments_lexer": "ipython3",
      "version": "3.12.7"
    }
  },
  "nbformat": 4,
  "nbformat_minor": 0
}