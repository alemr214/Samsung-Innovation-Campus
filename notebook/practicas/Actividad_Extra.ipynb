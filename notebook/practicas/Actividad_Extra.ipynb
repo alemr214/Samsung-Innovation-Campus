{
  "nbformat": 4,
  "nbformat_minor": 0,
  "metadata": {
    "colab": {
      "provenance": []
    },
    "kernelspec": {
      "name": "python3",
      "display_name": "Python 3"
    },
    "language_info": {
      "name": "python"
    }
  },
  "cells": [
    {
      "cell_type": "code",
      "source": [
        "import numpy as np"
      ],
      "metadata": {
        "id": "LSF0qxOR9SYb"
      },
      "execution_count": null,
      "outputs": []
    },
    {
      "cell_type": "markdown",
      "source": [
        "## Ejercicio 1: Crear un arreglo\n",
        "\n",
        "1. Crear un arreglo de números del 0 al 10 e imprime su tipo de datos y su dimensión.\n",
        "2. Convierte el arreglo en un arreglo de tipo float y vuelve a imprimirlo."
      ],
      "metadata": {
        "id": "yHlISNABHeYM"
      }
    },
    {
      "cell_type": "code",
      "execution_count": null,
      "metadata": {
        "id": "E_3p6N1LHWuo",
        "colab": {
          "base_uri": "https://localhost:8080/"
        },
        "outputId": "40b260da-f41b-4053-c48e-2b383ca60e8b"
      },
      "outputs": [
        {
          "output_type": "stream",
          "name": "stdout",
          "text": [
            "El arrelo es: [ 0  1  2  3  4  5  6  7  8  9 10]\n",
            "\n",
            "El tipo de datos que almacena es: int64\n",
            "\n",
            "La dimesión del arreglo es: 1\n",
            "\n",
            "El arreglo modificado es: [ 0.  1.  2.  3.  4.  5.  6.  7.  8.  9. 10.]\n"
          ]
        }
      ],
      "source": [
        "# Crear un arreglo de números del 0 al 10\n",
        "array = np.arange(11)\n",
        "print(f\"El arrelo es: {array}\\n\")\n",
        "\n",
        "print(f\"El tipo de datos que almacena es: {array.dtype}\\n\")  # Impresión de tipos de dato\n",
        "print(f\"La dimesión del arreglo es: {array.ndim}\\n\") # Impresión de dimensión\n",
        "\n",
        "array_float = array.astype(float) # Conversión del arreglo a flotante\n",
        "print(f\"El arreglo modificado es: {array_float}\") # Impresión del arreglo convertido"
      ]
    },
    {
      "cell_type": "markdown",
      "source": [
        "---\n",
        "## Ejercicio 2: Operaciones básicas\n",
        "\n",
        "1. Genera dos arreglos aleatorios de 5 elementos cada uno.\n",
        "2. Realiza las siguientes operaciones entre ambos arreglos a cada elemento:\n",
        "  - Suma.\n",
        "  - Resta.\n",
        "  - Multiplicación.\n",
        "  - División.\n",
        "3. Calcula el promedio, la mediana y la desviación estándar de uno de los arreglos."
      ],
      "metadata": {
        "id": "ezXLjyBzIKLU"
      }
    },
    {
      "cell_type": "code",
      "source": [
        "import numpy as np\n",
        "\n",
        "# Genera dos arreglos aleatorios entero de 5 elementos cada uno de (0 a 99)\n",
        "arreglo1 = np.random.randint(0, 100, 5)\n",
        "arreglo2 = np.random.randint(0, 100, 5)\n",
        "\n",
        "print(\"Arreglo 1:\", arreglo1)\n",
        "print(\"Arreglo 2:\", arreglo2)\n",
        "\n",
        "# Realiza las operaciones elemento a elemento\n",
        "suma = arreglo1 + arreglo2\n",
        "resta = arreglo1 - arreglo2\n",
        "multiplicacion = arreglo1 * arreglo2\n",
        "division = arreglo1 / arreglo2\n",
        "\n",
        "print(\"\\nSuma:\", suma)\n",
        "print(\"Resta:\", resta)\n",
        "print(\"Multiplicación:\", multiplicacion)\n",
        "print(\"División:\", division)\n",
        "\n",
        "# Calcula el promedio, la mediana y la desviación estándar de arreglo1\n",
        "promedio = np.mean(arreglo1)\n",
        "mediana = np.median(arreglo1)\n",
        "desviacion_estandar = np.std(arreglo1)\n",
        "\n",
        "# Mensajes de salida\n",
        "print(\"\\nPromedio de arreglo1:\", promedio)\n",
        "print(\"Mediana de arreglo1:\", mediana)\n",
        "print(\"Desviación estándar de arreglo1:\", desviacion_estandar)"
      ],
      "metadata": {
        "colab": {
          "base_uri": "https://localhost:8080/"
        },
        "id": "r-ltQkfZKRVA",
        "outputId": "5db8cedf-d2da-4990-c868-e4f6cb13868d"
      },
      "execution_count": null,
      "outputs": [
        {
          "output_type": "stream",
          "name": "stdout",
          "text": [
            "Arreglo 1: [ 4 24 13 46 17]\n",
            "Arreglo 2: [78 28 39 98 51]\n",
            "\n",
            "Suma: [ 82  52  52 144  68]\n",
            "Resta: [-74  -4 -26 -52 -34]\n",
            "Multiplicación: [ 312  672  507 4508  867]\n",
            "División: [0.05128205 0.85714286 0.33333333 0.46938776 0.33333333]\n",
            "\n",
            "Promedio de arreglo1: 20.8\n",
            "Mediana de arreglo1: 17.0\n",
            "Desviación estándar de arreglo1: 14.161920773680384\n"
          ]
        }
      ]
    },
    {
      "cell_type": "markdown",
      "source": [
        "---\n",
        "## Ejercicio 3: Índices y selección\n",
        "\n",
        "1. Crea un arreglo de números del 1 al 25 y redimensionalo en una matriz de 5x5.\n",
        "2. Selecciona:\n",
        "  - La primera fila.\n",
        "  - La última columna.\n",
        "  - La submatriz de 3x3 en el centro de la matriz."
      ],
      "metadata": {
        "id": "zd_Mav8vImLd"
      }
    },
    {
      "cell_type": "code",
      "source": [
        "# Crea un arreglo del 1 al 25 y redimensionalo en una matriz de 5x5\n",
        "array = np.arange(1, 26).reshape(5, 5)\n",
        "print(f\"El arreglo es: \\n{array}\")\n",
        "\n",
        "print(\"\\nPrimera fila:\")\n",
        "print(array[0])\n",
        "\n",
        "print(\"\\nÚltima columna:\")\n",
        "print(array[:, -1])\n",
        "\n",
        "print(\"\\nSubmatriz de 3x3 en el centro:\")\n",
        "print(array[1:4, 1:4])"
      ],
      "metadata": {
        "id": "6oiPDIToI5kS",
        "colab": {
          "base_uri": "https://localhost:8080/"
        },
        "outputId": "b625a9d5-c2c0-4931-8f4e-2eca88c9496f"
      },
      "execution_count": null,
      "outputs": [
        {
          "output_type": "stream",
          "name": "stdout",
          "text": [
            "El arreglo es: \n",
            "[[ 1  2  3  4  5]\n",
            " [ 6  7  8  9 10]\n",
            " [11 12 13 14 15]\n",
            " [16 17 18 19 20]\n",
            " [21 22 23 24 25]]\n",
            "\n",
            "Primera fila:\n",
            "[1 2 3 4 5]\n",
            "\n",
            "Última columna:\n",
            "[ 5 10 15 20 25]\n",
            "\n",
            "Submatriz de 3x3 en el centro:\n",
            "[[ 7  8  9]\n",
            " [12 13 14]\n",
            " [17 18 19]]\n"
          ]
        }
      ]
    },
    {
      "cell_type": "markdown",
      "source": [
        "---\n",
        "## Ejercicio 4: Uso de `argmax` y `argmin`\n",
        "1. Genera un arreglo aleatorio de 10 elementos.\n",
        "2. Encuentra el índice del valor máximo y el índice del valor mínimo.\n",
        "3. Cambia el valor máximo a 0 utilizando su índice."
      ],
      "metadata": {
        "id": "3LzipLKfI6pD"
      }
    },
    {
      "cell_type": "code",
      "source": [
        "array = np.random.randint(0, 100, 10) # Crea un areglo con 10 valores aleatorios enteros entre 0 y 99\n",
        "print(f\"El arreglo es: \\n{array}\")\n",
        "\n",
        "max_index = np.argmax(array) # Obtiene el índice del valor máximo\n",
        "min_index = np.argmin(array) # Obtiene el índice del valor mínimo\n",
        "\n",
        "print(f\"\\nEl índice del valor máximo es: {max_index}\")\n",
        "print(f\"El índice del valor mínimo es: {min_index}\")\n",
        "\n",
        "array[max_index] = 0\n",
        "\n",
        "print(f\"\\nEl arreglo modificado es: \\n{array}\") # Cambia el valor máximo (solo una vez) a 0"
      ],
      "metadata": {
        "id": "3BmE6CpFJXH2",
        "colab": {
          "base_uri": "https://localhost:8080/"
        },
        "outputId": "7c9bfd9a-a566-46f3-86d2-54fab69a4030"
      },
      "execution_count": null,
      "outputs": [
        {
          "output_type": "stream",
          "name": "stdout",
          "text": [
            "El arreglo es: \n",
            "[45  3 91 54 81 12 67 64 74 12]\n",
            "\n",
            "El índice del valor máximo es: 2\n",
            "El índice del valor mínimo es: 1\n",
            "\n",
            "El arreglo modificado es: \n",
            "[45  3  0 54 81 12 67 64 74 12]\n"
          ]
        }
      ]
    },
    {
      "cell_type": "markdown",
      "source": [
        "---\n",
        "## Ejercicio 5: Filtrado y máscaras\n",
        "1. Genera un arreglo de 20 elementos con valores entre -10 y 10.\n",
        "2. Crea una máscara para seleccionar solo los valores positivos y otro para los valores negativos.\n",
        "3. Imprime ambos subconjuntos de valores."
      ],
      "metadata": {
        "id": "nehj0mWFJXyg"
      }
    },
    {
      "cell_type": "code",
      "source": [
        "array = np.random.randint(-10, 11, 20) # Crea un areglo con 20 valores aleatorios enteros entre -10 y 10\n",
        "print(f\"El arreglo es: \\n{array}\")\n",
        "\n",
        "# Filtros\n",
        "array_mask_positive = (array >= 0)  # Valores positivos\n",
        "array_mask_negative = (array < 0) # Valores negativos\n",
        "\n",
        "# Mensajes de salida\n",
        "print(f\"\\nValores positivos: \\n{array[array_mask_positive]}\")\n",
        "print(f\"\\nValores negativos: \\n{array[array_mask_negative]}\")"
      ],
      "metadata": {
        "id": "7HLGScP2JgId",
        "colab": {
          "base_uri": "https://localhost:8080/"
        },
        "outputId": "262b0df3-f089-4365-8157-81355a618888"
      },
      "execution_count": null,
      "outputs": [
        {
          "output_type": "stream",
          "name": "stdout",
          "text": [
            "El arreglo es: \n",
            "[  5 -10  -2   5   5   8   0  -4   6   9   4  -3   6   9   8   3  -1  10\n",
            "   8   8]\n",
            "\n",
            "Valores positivos: \n",
            "[ 5  5  5  8  0  6  9  4  6  9  8  3 10  8  8]\n",
            "\n",
            "Valores negativos: \n",
            "[-10  -2  -4  -3  -1]\n"
          ]
        }
      ]
    },
    {
      "cell_type": "markdown",
      "source": [
        "---\n",
        "## Ejercicio 6: Funciones universales\n",
        "1. Crea un arreglo de números del 1 al 10.\n",
        "2. Calcula la raíz cuadrada, el seno y el logaritmo de cada elemento.\n",
        "3. Redondea cada valor del arreglo resultante a 2 decimales."
      ],
      "metadata": {
        "id": "f86cEKHNJgZA"
      }
    },
    {
      "cell_type": "code",
      "source": [
        "array = np.arange(1, 11)  # Crea un arreglo con valores de 1 a 10\n",
        "print(f\"El arreglo es: \\n{array}\")\n",
        "\n",
        "# Calculos\n",
        "raiz_cuadrada = np.round(np.sqrt(array),2)\n",
        "seno = np.round(np.sin(array),2)\n",
        "logaritmo = np.round(np.log(array),2)\n",
        "\n",
        "# Mensajes de salida\n",
        "print(f\"\\nRaíz cuadrada: \\n{raiz_cuadrada}\")\n",
        "print(f\"\\nRaíz cuadrada: \\n{seno}\")\n",
        "print(f\"\\nRaíz cuadrada: \\n{logaritmo}\")"
      ],
      "metadata": {
        "id": "bkzNHBGdJrRX",
        "colab": {
          "base_uri": "https://localhost:8080/"
        },
        "outputId": "484ab2f6-e00d-41b4-d5be-0386b7429f92"
      },
      "execution_count": null,
      "outputs": [
        {
          "output_type": "stream",
          "name": "stdout",
          "text": [
            "El arreglo es: \n",
            "[ 1  2  3  4  5  6  7  8  9 10]\n",
            "\n",
            "Raíz cuadrada: \n",
            "[1.   1.41 1.73 2.   2.24 2.45 2.65 2.83 3.   3.16]\n",
            "\n",
            "Raíz cuadrada: \n",
            "[ 0.84  0.91  0.14 -0.76 -0.96 -0.28  0.66  0.99  0.41 -0.54]\n",
            "\n",
            "Raíz cuadrada: \n",
            "[0.   0.69 1.1  1.39 1.61 1.79 1.95 2.08 2.2  2.3 ]\n"
          ]
        }
      ]
    },
    {
      "cell_type": "markdown",
      "source": [
        "---\n",
        "## Ejercicio 7: Operaciones con matrices\n",
        "1. Crea dos matrices de 3x3 con valores aleatorios.\n",
        "2. Realiza las siguientes operaciones entre ambas matrices:\n",
        " - Suma\n",
        " - Multiplicación elemento a elemento\n",
        " - Producto matricial (dot product)\n",
        "3. Calcula la transpuesta y la inversa (si existe) de una de las matrices."
      ],
      "metadata": {
        "id": "hlW5kDYyJruz"
      }
    },
    {
      "cell_type": "code",
      "source": [
        "# Matriz 3x3 con valores aleatorios enteros de 0 a 99\n",
        "array1 = np.random.randint(0, 100, (3,3))\n",
        "array2 = np.random.randint(0, 100, (3,3))\n",
        "\n",
        "print(f\"El arreglo 1 es: \\n{array1}\")\n",
        "print(f\"\\nEl arreglo 2 es: \\n{array2}\")\n",
        "\n",
        "# Operaciones\n",
        "suma = np.sum(array1 + array2) # Suma elementos a elemento entre matrices, y despues hace la suma total\n",
        "multiplicacion_elemento = array1 * array2   # Multiplicacion elemento a elemento\n",
        "producto_matricial = np.dot(array1, array2) # Producto punto entre matrices\n",
        "\n",
        "# Mensajes de salida\n",
        "print(f\"\\nSuma: \\n{suma}\")\n",
        "print(f\"\\nMultiplicación elemento a elemento: \\n{multiplicacion_elemento}\")\n",
        "print(f\"\\nProducto matricial: \\n{producto_matricial}\")\n",
        "\n",
        "# Transpuesta\n",
        "transpuesta = np.transpose(array1)\n",
        "print(f\"\\nTranspuesta: \\n{transpuesta}\")\n",
        "\n",
        "# Inversa\n",
        "inversa = np.round(np.linalg.inv(array1),2)\n",
        "print(f\"\\nInversa: \\n{inversa}\")"
      ],
      "metadata": {
        "id": "6YgyVfXOJ3dP",
        "colab": {
          "base_uri": "https://localhost:8080/"
        },
        "outputId": "41de1a69-f496-4afc-9934-842fc878a063"
      },
      "execution_count": null,
      "outputs": [
        {
          "output_type": "stream",
          "name": "stdout",
          "text": [
            "El arreglo 1 es: \n",
            "[[17 15 97]\n",
            " [37 37 50]\n",
            " [35 52 70]]\n",
            "\n",
            "El arreglo 2 es: \n",
            "[[63 43 12]\n",
            " [45 56 96]\n",
            " [91 12 83]]\n",
            "\n",
            "Suma: \n",
            "911\n",
            "\n",
            "Multiplicación elemento a elemento: \n",
            "[[1071  645 1164]\n",
            " [1665 2072 4800]\n",
            " [3185  624 5810]]\n",
            "\n",
            "Producto matricial: \n",
            "[[10573  2735  9695]\n",
            " [ 8546  4263  8146]\n",
            " [10915  5257 11222]]\n",
            "\n",
            "Transpuesta: \n",
            "[[17 37 35]\n",
            " [15 37 52]\n",
            " [97 50 70]]\n",
            "\n",
            "Inversa: \n",
            "[[-0.    0.08 -0.06]\n",
            " [-0.02 -0.05  0.06]\n",
            " [ 0.01 -0.01  0.  ]]\n"
          ]
        }
      ]
    },
    {
      "cell_type": "markdown",
      "source": [
        "---\n",
        "## Ejercicio 8: Estadísticas\n",
        "1. Genera un arreglo de 100 elementos con números aleatorios enteros entre\n",
        "1 y 100.\n",
        "2. Calcula la media, la mediana, el valor máximo, el valor mínimo y la\n",
        "desviación estándar.\n",
        "3. Encuentra el percentil 25, 50 y 75 de los datos."
      ],
      "metadata": {
        "id": "jxMsb9o_J291"
      }
    },
    {
      "cell_type": "code",
      "source": [
        "array = np.random.randint(1, 101, 100) # Crea un areglo con 100 valores aleatorios enteros entre 1 y 100\n",
        "print(f\"El arreglo es: \\n{array}\")\n",
        "\n",
        "# Calculos\n",
        "media = np.mean(array)  # Media\n",
        "mediana = np.median(array)  # Mediana\n",
        "maximo = np.max(array)  # Valor máximo\n",
        "minimo = np.min(array)  # Valor minimo\n",
        "desviacion_estandar = np.std(array) # Desviacion estandar\n",
        "\n",
        "# Mensajes de salida\n",
        "print(f\"\\nMedia: {media}\")\n",
        "print(f\"Mediana: {mediana}\")\n",
        "print(f\"Valor máximo: {maximo}\")\n",
        "print(f\"Valor mínimo: {minimo}\")\n",
        "\n",
        "# Calculo de percentiles\n",
        "percentil_25 = np.percentile(array, 25) # Percentil 25\n",
        "percentil_50 = np.percentile(array, 50) # Percentil 50\n",
        "percentil_75 = np.percentile(array, 75) # Percentil 75\n",
        "\n",
        "# Mensajes de salida\n",
        "print(f\"\\nPercentil 25: {percentil_25}\")\n",
        "print(f\"Percentil 50: {percentil_50}\")\n",
        "print(f\"Percentil 75: {percentil_75}\")"
      ],
      "metadata": {
        "id": "8f3DG1soKH6E",
        "colab": {
          "base_uri": "https://localhost:8080/"
        },
        "outputId": "9990a52b-7bfe-4d94-9610-946482eff898"
      },
      "execution_count": null,
      "outputs": [
        {
          "output_type": "stream",
          "name": "stdout",
          "text": [
            "El arreglo es: \n",
            "[ 39  61   7  29  40  83  32  45  68  53  22  45  96  66  24  50  62  95\n",
            "  21  39  10  45  55  86  35  64  53  41  82  26  68  50  46  36  23  58\n",
            "  86  22  67  26  57  53  88  40   7  76  16   1  30  15   8  23  71  36\n",
            "  33  98  73  30  31  81  27  34   7  11  38  86 100  47  33  13  61  59\n",
            "   8  56  19  76  58  96  79  30  75  63  10  72  28  38  53  47  22  30\n",
            "  81  20  40  80  50  96  26  24  43  37]\n",
            "\n",
            "Media: 46.96\n",
            "Mediana: 44.0\n",
            "Valor máximo: 100\n",
            "Valor mínimo: 1\n",
            "\n",
            "Percentil 25: 26.75\n",
            "Percentil 50: 44.0\n",
            "Percentil 75: 66.25\n"
          ]
        }
      ]
    },
    {
      "cell_type": "markdown",
      "source": [
        "---\n",
        "## Ejercicio 9: Concatenación y apilamiento\n",
        "1. Crea dos arreglos de 1x5 y 5x1.\n",
        "2. Concáténalos en una sola fila y una sola columna.\n",
        "3. Apila ambos arreglos como una matriz 5x2."
      ],
      "metadata": {
        "id": "dgARWtzQKIHF"
      }
    },
    {
      "cell_type": "code",
      "source": [
        "array1 = np.random.randint(0, 100, (1,5)) # Crea un areglo con valores aleatorios enteros entre 1 y 100\n",
        "array2 = np.random.randint(0, 100, (5,1))\n",
        "\n",
        "print(f\"El arreglo 1 es: \\n{array1}\")\n",
        "print(f\"\\nEl arreglo 2 es: \\n{array2}\")\n",
        "\n",
        "\n",
        "# Concatenación\n",
        "fila_concatenada = np.hstack((array1, array2.T))  # Transponer array2 para hacerlo una fila\n",
        "columna_concatenada = np.vstack((array1.T, array2))  # Transponer array1 para hacerlo una columna\n",
        "\n",
        "# Mensajes de salida\n",
        "print(f\"\\nConcatenación fila: \\n{fila_concatenada}\")\n",
        "print(f\"\\nConcatenación columna: \\n{columna_concatenada}\")\n",
        "\n",
        "# Apilamiento\n",
        "apilamiento = np.concatenate((array1.T, array2), axis=1)\n",
        "\n",
        "# Mensajes de salida\n",
        "print(f\"\\nApilamiento: \\n{apilamiento}\")"
      ],
      "metadata": {
        "id": "U8OtVaiwKQDA",
        "colab": {
          "base_uri": "https://localhost:8080/"
        },
        "outputId": "2ad8b07e-15c5-4069-add1-34719c0ef201"
      },
      "execution_count": null,
      "outputs": [
        {
          "output_type": "stream",
          "name": "stdout",
          "text": [
            "El arreglo 1 es: \n",
            "[[ 2 43 37 27 23]]\n",
            "\n",
            "El arreglo 2 es: \n",
            "[[77]\n",
            " [43]\n",
            " [85]\n",
            " [44]\n",
            " [41]]\n",
            "\n",
            "Concatenación fila: \n",
            "[[ 2 43 37 27 23 77 43 85 44 41]]\n",
            "\n",
            "Concatenación columna: \n",
            "[[ 2]\n",
            " [43]\n",
            " [37]\n",
            " [27]\n",
            " [23]\n",
            " [77]\n",
            " [43]\n",
            " [85]\n",
            " [44]\n",
            " [41]]\n",
            "\n",
            "Apilamiento: \n",
            "[[ 2 77]\n",
            " [43 43]\n",
            " [37 85]\n",
            " [27 44]\n",
            " [23 41]]\n"
          ]
        }
      ]
    },
    {
      "cell_type": "markdown",
      "source": [
        "---\n",
        "## Ejercicio 10: Manipulación de datos en matrices\n",
        "grandes\n",
        "1. Crea una matriz aleatoria de 100x100 con valores entre 0 y 1.\n",
        "2. Calcula la suma de todos los elementos de la matriz.\n",
        "3. Encuentra el valor máximo de cada fila y almacénalo en un nuevo arreglo."
      ],
      "metadata": {
        "id": "jgnvAIsOKQRz"
      }
    },
    {
      "cell_type": "code",
      "source": [
        "array = np.random.rand(100, 100) # Crea un areglo con valores aleatorios entre 0 y 1\n",
        "print(f\"El arreglo es: \\n{array}\")\n",
        "\n",
        "suma = np.round(np.sum(array),2) # Suma de todos los elementos de la matriz\n",
        "maximos = np.max(array, axis=1) # Valor máximo de cada fila\n",
        "\n",
        "# Mensajes de salida\n",
        "print(f\"\\nSuma de todos los elementos: {suma}\")\n",
        "print(f\"\\nValor máximo de cada fila: {maximos}\")"
      ],
      "metadata": {
        "id": "iuEKjQj2KX6j",
        "colab": {
          "base_uri": "https://localhost:8080/"
        },
        "outputId": "7c74f2c8-2c6c-4ff6-b71a-a0efb8a2d994"
      },
      "execution_count": null,
      "outputs": [
        {
          "output_type": "stream",
          "name": "stdout",
          "text": [
            "El arreglo es: \n",
            "[[0.08608585 0.94711256 0.71254935 ... 0.412613   0.79420229 0.88380621]\n",
            " [0.36399149 0.86126376 0.42960666 ... 0.75557558 0.63927388 0.87437419]\n",
            " [0.54981694 0.59865318 0.64275546 ... 0.36615106 0.98796739 0.82892288]\n",
            " ...\n",
            " [0.15911094 0.60744199 0.23739287 ... 0.45027485 0.8328251  0.7106491 ]\n",
            " [0.05031533 0.77763275 0.2123676  ... 0.15326848 0.57669415 0.40366239]\n",
            " [0.81129458 0.83074749 0.42104115 ... 0.3142086  0.61885445 0.37878289]]\n",
            "\n",
            "Suma de todos los elementos: 4994.47\n",
            "\n",
            "Valor máximo de cada fila: [0.99602512 0.99902251 0.98861297 0.99538952 0.99458981 0.9987686\n",
            " 0.99339958 0.99066831 0.98951661 0.99926143 0.99445785 0.98902274\n",
            " 0.98677966 0.97596691 0.99103273 0.97522705 0.99690157 0.9944688\n",
            " 0.99459362 0.96971238 0.99567618 0.99292033 0.97645908 0.99900373\n",
            " 0.98011324 0.99550573 0.99901463 0.99972487 0.98880445 0.98208185\n",
            " 0.97771589 0.99941636 0.99224344 0.98934286 0.98185036 0.99011599\n",
            " 0.99617798 0.98693494 0.9992211  0.98239969 0.9951839  0.99668893\n",
            " 0.99781864 0.99954768 0.95598526 0.9720497  0.98831171 0.98983433\n",
            " 0.99817386 0.98626031 0.96696154 0.98921042 0.99652414 0.99796181\n",
            " 0.99374932 0.98644998 0.99902392 0.95325551 0.99119135 0.99245252\n",
            " 0.99880578 0.99817163 0.97137678 0.97578217 0.99884605 0.98187763\n",
            " 0.99038579 0.99168001 0.99221085 0.99845316 0.9925436  0.95328109\n",
            " 0.99562658 0.98952648 0.99403779 0.98913745 0.99130991 0.97937429\n",
            " 0.99959938 0.99926609 0.98025653 0.99554737 0.99559168 0.99765886\n",
            " 0.99972383 0.99630852 0.99868904 0.98744458 0.99573974 0.99206951\n",
            " 0.9756894  0.98708659 0.99110197 0.98812818 0.99484879 0.9783555\n",
            " 0.99870698 0.97397212 0.98992492 0.99660995]\n"
          ]
        }
      ]
    },
    {
      "cell_type": "markdown",
      "source": [
        "---\n",
        "## Ejercicio 11: Ordenamiento y selección\n",
        "1. Genera un arreglo de 10 números aleatorios entre 0 y 50.\n",
        "2. Ordena el arreglo en orden ascendente y descendente.\n",
        "3. Selecciona los 3 valores más altos y los 3 valores más bajos del arreglo\n",
        "ordenado."
      ],
      "metadata": {
        "id": "EV-PxfkUKZrW"
      }
    },
    {
      "cell_type": "code",
      "source": [
        "array = np.random.randint(0, 51, 10) # Crea un areglo con 10 valores aleatorios enteros entre 0 y 50\n",
        "print(f\"El arreglo es: \\n{array}\")\n",
        "\n",
        "# Ordenamiento\n",
        "array_ascendente = np.sort(array) # Ordenamiento ascendente\n",
        "array_descendente = np.sort(array)[::-1] # Ordenamiento descendente\n",
        "\n",
        "# Mensajes de salida\n",
        "print(f\"\\nArreglo ordenado ascendentemente: {array_ascendente}\")\n",
        "print(f\"\\nArreglo ordenado descendentemente: {array_descendente}\")\n",
        "\n",
        "maximos = array_descendente[:3] # 3 valores más altos\n",
        "minimos = array_ascendente[:3] # 3 valores más bajos\n",
        "\n",
        "# Mensajes de salida\n",
        "print(f\"\\n3 valores más altos: {maximos}\")\n",
        "print(f\"\\n3 valores más bajos: {minimos}\")"
      ],
      "metadata": {
        "id": "GMTZpALMKhY7",
        "colab": {
          "base_uri": "https://localhost:8080/"
        },
        "outputId": "2ba809cb-d23e-43d6-ece6-fdd7ad714d64"
      },
      "execution_count": null,
      "outputs": [
        {
          "output_type": "stream",
          "name": "stdout",
          "text": [
            "El arreglo es: \n",
            "[43 23 13 11 50 29  6  0  4 24]\n",
            "\n",
            "Arreglo ordenado ascendentemente: [ 0  4  6 11 13 23 24 29 43 50]\n",
            "\n",
            "Arreglo ordenado descendentemente: [50 43 29 24 23 13 11  6  4  0]\n",
            "\n",
            "3 valores más altos: [50 43 29]\n",
            "\n",
            "3 valores más bajos: [0 4 6]\n"
          ]
        }
      ]
    }
  ]
}