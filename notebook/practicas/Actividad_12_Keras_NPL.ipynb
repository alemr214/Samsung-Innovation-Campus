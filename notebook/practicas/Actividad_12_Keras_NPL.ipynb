{
  "cells": [
    {
      "cell_type": "code",
      "execution_count": 1,
      "metadata": {
        "colab": {
          "base_uri": "https://localhost:8080/"
        },
        "id": "n-63K0kvxx6v",
        "outputId": "abda5cfa-252a-43e9-f848-dc12055904c0"
      },
      "outputs": [
        {
          "name": "stderr",
          "output_type": "stream",
          "text": [
            "[nltk_data] Downloading package reuters to /Users/alemr/nltk_data...\n",
            "[nltk_data] Downloading package punkt to /Users/alemr/nltk_data...\n",
            "[nltk_data]   Unzipping tokenizers/punkt.zip.\n"
          ]
        }
      ],
      "source": [
        "# General porpuse utilities\n",
        "import pandas as pd\n",
        "import numpy as np\n",
        "import warnings\n",
        "import matplotlib.pyplot as plt\n",
        "\n",
        "# Method from sklearn to split the dataset\n",
        "from sklearn.model_selection import train_test_split\n",
        "\n",
        "# Tensorflow utilites to use Keras library\n",
        "from tensorflow.keras.datasets.reuters import load_data, get_word_index\n",
        "from tensorflow.keras.models import Sequential\n",
        "from tensorflow.keras.layers import Dense, SimpleRNN, LSTM, Embedding\n",
        "from tensorflow.keras.utils import to_categorical\n",
        "from tensorflow.keras.preprocessing import sequence\n",
        "from tensorflow.keras.optimizers import Adam, RMSprop, SGD\n",
        "\n",
        "# Library for language processing\n",
        "import nltk\n",
        "nltk.download('reuters')\n",
        "nltk.download('punkt')\n",
        "from nltk.corpus import reuters\n",
        "\n",
        "warnings.filterwarnings('ignore')\n",
        "\n",
        "%matplotlib inline"
      ]
    },
    {
      "cell_type": "code",
      "execution_count": 2,
      "metadata": {
        "colab": {
          "base_uri": "https://localhost:8080/"
        },
        "id": "5vGPP7oW0vBj",
        "outputId": "f5ca4e8f-129b-4a71-ecb9-aa02c4dc1df6"
      },
      "outputs": [
        {
          "name": "stdout",
          "output_type": "stream",
          "text": [
            "ASIAN EXPORTERS FEAR DAMAGE FROM U.S.-JAPAN RIFT\n",
            "  Mounting trade friction between the\n",
            "  U.S. And Japan has raised fears among many of Asia's exporting\n",
            "  nations that the row could inflict far-reaching economic\n",
            "  damage, businessmen and officials said.\n",
            "      They told Reuter correspondents in Asian capitals a U.S.\n",
            "  Move against Japan might boost protectionist sentiment in the\n",
            "  U.S. And lead to curbs on American imports of their products.\n",
            "      But some exporters said that while the conflict would hurt\n",
            "  them in the long-run, in the short-term Tokyo's loss might be\n",
            "  their gain.\n",
            "      The U.S. Has said it will impose 300 mln dlrs of tariffs on\n",
            "  imports of Japanese electronics goods on April 17, in\n",
            "  retaliation for Japan's alleged failure to stick to a pact not\n",
            "  to sell semiconductors on world markets at below cost.\n",
            "      Unofficial Japanese estimates put the impact of the tariffs\n",
            "  at 10 billion dlrs and spokesmen for major electronics firms\n",
            "  said they would virtually halt exports of products hit by the\n",
            "  new taxes.\n",
            "      \"We wouldn't be able to do business,\" said a spokesman for\n",
            "  leading Japanese electronics firm Matsushita Electric\n",
            "  Industrial Co Ltd &lt;MC.T>.\n",
            "      \"If the tariffs remain in place for any length of time\n",
            "  beyond a few months it will mean the complete erosion of\n",
            "  exports (of goods subject to tariffs) to the U.S.,\" said Tom\n",
            "  Murtha, a stock analyst at the Tokyo office of broker &lt;James\n",
            "  Capel and Co>.\n",
            "      In Taiwan, businessmen and officials are also worried.\n",
            "      \"We are aware of the seriousness of the U.S. Threat against\n",
            "  Japan because it serves as a warning to us,\" said a senior\n",
            "  Taiwanese trade official who asked not to be named.\n",
            "      Taiwan had a trade trade surplus of 15.6 billion dlrs last\n",
            "  year, 95 pct of it with the U.S.\n",
            "      The surplus helped swell Taiwan's foreign exchange reserves\n",
            "  to 53 billion dlrs, among the world's largest.\n",
            "      \"We must quickly open our markets, remove trade barriers and\n",
            "  cut import tariffs to allow imports of U.S. Products, if we\n",
            "  want to defuse problems from possible U.S. Retaliation,\" said\n",
            "  Paul Sheen, chairman of textile exporters &lt;Taiwan Safe Group>.\n",
            "      A senior official of South Korea's trade promotion\n",
            "  association said the trade dispute between the U.S. And Japan\n",
            "  might also lead to pressure on South Korea, whose chief exports\n",
            "  are similar to those of Japan.\n",
            "      Last year South Korea had a trade surplus of 7.1 billion\n",
            "  dlrs with the U.S., Up from 4.9 billion dlrs in 1985.\n",
            "      In Malaysia, trade officers and businessmen said tough\n",
            "  curbs against Japan might allow hard-hit producers of\n",
            "  semiconductors in third countries to expand their sales to the\n",
            "  U.S.\n",
            "      In Hong Kong, where newspapers have alleged Japan has been\n",
            "  selling below-cost semiconductors, some electronics\n",
            "  manufacturers share that view. But other businessmen said such\n",
            "  a short-term commercial advantage would be outweighed by\n",
            "  further U.S. Pressure to block imports.\n",
            "      \"That is a very short-term view,\" said Lawrence Mills,\n",
            "  director-general of the Federation of Hong Kong Industry.\n",
            "      \"If the whole purpose is to prevent imports, one day it will\n",
            "  be extended to other sources. Much more serious for Hong Kong\n",
            "  is the disadvantage of action restraining trade,\" he said.\n",
            "      The U.S. Last year was Hong Kong's biggest export market,\n",
            "  accounting for over 30 pct of domestically produced exports.\n",
            "      The Australian government is awaiting the outcome of trade\n",
            "  talks between the U.S. And Japan with interest and concern,\n",
            "  Industry Minister John Button said in Canberra last Friday.\n",
            "      \"This kind of deterioration in trade relations between two\n",
            "  countries which are major trading partners of ours is a very\n",
            "  serious matter,\" Button said.\n",
            "      He said Australia's concerns centred on coal and beef,\n",
            "  Australia's two largest exports to Japan and also significant\n",
            "  U.S. Exports to that country.\n",
            "      Meanwhile U.S.-Japanese diplomatic manoeuvres to solve the\n",
            "  trade stand-off continue.\n",
            "      Japan's ruling Liberal Democratic Party yesterday outlined\n",
            "  a package of economic measures to boost the Japanese economy.\n",
            "      The measures proposed include a large supplementary budget\n",
            "  and record public works spending in the first half of the\n",
            "  financial year.\n",
            "      They also call for stepped-up spending as an emergency\n",
            "  measure to stimulate the economy despite Prime Minister\n",
            "  Yasuhiro Nakasone's avowed fiscal reform program.\n",
            "      Deputy U.S. Trade Representative Michael Smith and Makoto\n",
            "  Kuroda, Japan's deputy minister of International Trade and\n",
            "  Industry (MITI), are due to meet in Washington this week in an\n",
            "  effort to end the dispute.\n",
            "  \n",
            "\n",
            "\n"
          ]
        }
      ],
      "source": [
        "documents = reuters.fileids()\n",
        "\n",
        "original_text = reuters.raw(documents[0])\n",
        "print(original_text)"
      ]
    },
    {
      "cell_type": "code",
      "execution_count": 3,
      "metadata": {
        "colab": {
          "base_uri": "https://localhost:8080/"
        },
        "id": "mG6a7umD19el",
        "outputId": "2e4e28e0-34fd-421b-b71d-c4ca2793a149"
      },
      "outputs": [
        {
          "data": {
            "text/plain": [
              "['test/14826',\n",
              " 'test/14828',\n",
              " 'test/14829',\n",
              " 'test/14832',\n",
              " 'test/14833',\n",
              " 'test/14839',\n",
              " 'test/14840',\n",
              " 'test/14841',\n",
              " 'test/14842',\n",
              " 'test/14843',\n",
              " 'test/14844',\n",
              " 'test/14849',\n",
              " 'test/14852',\n",
              " 'test/14854',\n",
              " 'test/14858',\n",
              " 'test/14859',\n",
              " 'test/14860',\n",
              " 'test/14861',\n",
              " 'test/14862',\n",
              " 'test/14863',\n",
              " 'test/14865',\n",
              " 'test/14867',\n",
              " 'test/14872',\n",
              " 'test/14873',\n",
              " 'test/14875',\n",
              " 'test/14876',\n",
              " 'test/14877',\n",
              " 'test/14881',\n",
              " 'test/14882',\n",
              " 'test/14885',\n",
              " 'test/14886',\n",
              " 'test/14888',\n",
              " 'test/14890',\n",
              " 'test/14891',\n",
              " 'test/14892',\n",
              " 'test/14899',\n",
              " 'test/14900',\n",
              " 'test/14903',\n",
              " 'test/14904',\n",
              " 'test/14907',\n",
              " 'test/14909',\n",
              " 'test/14911',\n",
              " 'test/14912',\n",
              " 'test/14913',\n",
              " 'test/14918',\n",
              " 'test/14919',\n",
              " 'test/14921',\n",
              " 'test/14922',\n",
              " 'test/14923',\n",
              " 'test/14926',\n",
              " 'test/14928',\n",
              " 'test/14930',\n",
              " 'test/14931',\n",
              " 'test/14932',\n",
              " 'test/14933',\n",
              " 'test/14934',\n",
              " 'test/14941',\n",
              " 'test/14943',\n",
              " 'test/14949',\n",
              " 'test/14951',\n",
              " 'test/14954',\n",
              " 'test/14957',\n",
              " 'test/14958',\n",
              " 'test/14959',\n",
              " 'test/14960',\n",
              " 'test/14962',\n",
              " 'test/14963',\n",
              " 'test/14964',\n",
              " 'test/14965',\n",
              " 'test/14967',\n",
              " 'test/14968',\n",
              " 'test/14969',\n",
              " 'test/14970',\n",
              " 'test/14971',\n",
              " 'test/14974',\n",
              " 'test/14975',\n",
              " 'test/14978',\n",
              " 'test/14981',\n",
              " 'test/14982',\n",
              " 'test/14983',\n",
              " 'test/14984',\n",
              " 'test/14985',\n",
              " 'test/14986',\n",
              " 'test/14987',\n",
              " 'test/14988',\n",
              " 'test/14993',\n",
              " 'test/14995',\n",
              " 'test/14998',\n",
              " 'test/15000',\n",
              " 'test/15001',\n",
              " 'test/15002',\n",
              " 'test/15004',\n",
              " 'test/15005',\n",
              " 'test/15006',\n",
              " 'test/15011',\n",
              " 'test/15012',\n",
              " 'test/15013',\n",
              " 'test/15016',\n",
              " 'test/15017',\n",
              " 'test/15020']"
            ]
          },
          "execution_count": 3,
          "metadata": {},
          "output_type": "execute_result"
        }
      ],
      "source": [
        "documents[0:100]"
      ]
    },
    {
      "cell_type": "code",
      "execution_count": 4,
      "metadata": {
        "colab": {
          "base_uri": "https://localhost:8080/"
        },
        "id": "i7-hF2ea1J_y",
        "outputId": "cf0e7dd1-0c6f-4d74-ba18-eaec594782bf"
      },
      "outputs": [
        {
          "name": "stdout",
          "output_type": "stream",
          "text": [
            "Downloading data from https://storage.googleapis.com/tensorflow/tf-keras-datasets/reuters.npz\n",
            "\u001b[1m2110848/2110848\u001b[0m \u001b[32m━━━━━━━━━━━━━━━━━━━━\u001b[0m\u001b[37m\u001b[0m \u001b[1m0s\u001b[0m 0us/step\n",
            "--------------------------------------------------\n",
            "Training data x shape (7859,)\n",
            "Training data y shape (7859,)\n",
            "--------------------------------------------------\n",
            "Test data x shape (3369,)\n",
            "Test data y shape (3369,)\n",
            "--------------------------------------------------\n",
            "Numbers of training data 7859\n"
          ]
        }
      ],
      "source": [
        "n_words = 1000\n",
        "\n",
        "(X_train, y_train), (X_test, y_test) = load_data(num_words=n_words, test_split=0.3)\n",
        "\n",
        "n_train_size = X_train.shape[0]\n",
        "\n",
        "print(\"-\"*50)\n",
        "print(f\"Training data x shape {X_train.shape}\")\n",
        "print(f\"Training data y shape {y_train.shape}\")\n",
        "print(\"-\"*50)\n",
        "print(f\"Test data x shape {X_test.shape}\")\n",
        "print(f\"Test data y shape {y_test.shape}\")\n",
        "print(\"-\"*50)\n",
        "print(f\"Numbers of training data {n_train_size}\")"
      ]
    },
    {
      "cell_type": "code",
      "execution_count": 5,
      "metadata": {
        "colab": {
          "base_uri": "https://localhost:8080/"
        },
        "id": "p9ZJ9AvQ1qKH",
        "outputId": "5dc2c979-03f8-47df-be53-9f6324b4b685"
      },
      "outputs": [
        {
          "data": {
            "text/plain": [
              "[1,\n",
              " 2,\n",
              " 2,\n",
              " 8,\n",
              " 43,\n",
              " 10,\n",
              " 447,\n",
              " 5,\n",
              " 25,\n",
              " 207,\n",
              " 270,\n",
              " 5,\n",
              " 2,\n",
              " 111,\n",
              " 16,\n",
              " 369,\n",
              " 186,\n",
              " 90,\n",
              " 67,\n",
              " 7,\n",
              " 89,\n",
              " 5,\n",
              " 19,\n",
              " 102,\n",
              " 6,\n",
              " 19,\n",
              " 124,\n",
              " 15,\n",
              " 90,\n",
              " 67,\n",
              " 84,\n",
              " 22,\n",
              " 482,\n",
              " 26,\n",
              " 7,\n",
              " 48,\n",
              " 4,\n",
              " 49,\n",
              " 8,\n",
              " 864,\n",
              " 39,\n",
              " 209,\n",
              " 154,\n",
              " 6,\n",
              " 151,\n",
              " 6,\n",
              " 83,\n",
              " 11,\n",
              " 15,\n",
              " 22,\n",
              " 155,\n",
              " 11,\n",
              " 15,\n",
              " 7,\n",
              " 48,\n",
              " 9,\n",
              " 2,\n",
              " 2,\n",
              " 504,\n",
              " 6,\n",
              " 258,\n",
              " 6,\n",
              " 272,\n",
              " 11,\n",
              " 15,\n",
              " 22,\n",
              " 134,\n",
              " 44,\n",
              " 11,\n",
              " 15,\n",
              " 16,\n",
              " 8,\n",
              " 197,\n",
              " 2,\n",
              " 90,\n",
              " 67,\n",
              " 52,\n",
              " 29,\n",
              " 209,\n",
              " 30,\n",
              " 32,\n",
              " 132,\n",
              " 6,\n",
              " 109,\n",
              " 15,\n",
              " 17,\n",
              " 12]"
            ]
          },
          "execution_count": 5,
          "metadata": {},
          "output_type": "execute_result"
        }
      ],
      "source": [
        "X_train[0]"
      ]
    },
    {
      "cell_type": "code",
      "execution_count": 6,
      "metadata": {
        "colab": {
          "base_uri": "https://localhost:8080/"
        },
        "id": "KuA-v7Vi39hq",
        "outputId": "31c2c400-5018-4e4c-c82e-55010d6ccb9d"
      },
      "outputs": [
        {
          "name": "stdout",
          "output_type": "stream",
          "text": [
            "Number of categories 46\n"
          ]
        }
      ],
      "source": [
        "n_cat = pd.Series(y_train).nunique()\n",
        "print(f\"Number of categories {n_cat}\")"
      ]
    },
    {
      "cell_type": "code",
      "execution_count": null,
      "metadata": {
        "id": "GCcoa2la4AWm"
      },
      "outputs": [],
      "source": []
    }
  ],
  "metadata": {
    "colab": {
      "provenance": []
    },
    "kernelspec": {
      "display_name": ".venv",
      "language": "python",
      "name": "python3"
    },
    "language_info": {
      "codemirror_mode": {
        "name": "ipython",
        "version": 3
      },
      "file_extension": ".py",
      "mimetype": "text/x-python",
      "name": "python",
      "nbconvert_exporter": "python",
      "pygments_lexer": "ipython3",
      "version": "3.12.9"
    }
  },
  "nbformat": 4,
  "nbformat_minor": 0
}
