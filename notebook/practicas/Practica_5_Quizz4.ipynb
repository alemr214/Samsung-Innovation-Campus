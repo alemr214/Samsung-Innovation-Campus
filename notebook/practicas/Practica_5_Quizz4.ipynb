{
 "cells": [
  {
   "cell_type": "markdown",
   "metadata": {},
   "source": [
    "# Quizz 4"
   ]
  },
  {
   "cell_type": "markdown",
   "metadata": {},
   "source": [
    "1. ¿Qué no es correcto como interpretación del modelo ajustado en el siguiente análisis estadístico?\n",
    "    1. En el análisis estadístico, la prueba unilateral indica que la hipótesis nula para el parámetro es H_0 ∶ θ= θ_0 y la\n",
    "    hipótesis alternativa puede definirse como H_1 ∶ θ < θ_0 o como H_1 ∶ θ > θ_0.\n",
    "    2. El error Tipo I es el nivel de significancia y es un error que ocurre cuando se rechaza la hipótesis nula verdadera,\n",
    "    aunque esta sea correcta.\n",
    "    3. ~~Si la probabilidad de significancia p es mayor que el nivel de significancia α (p > α), se rechaza la hipótesis nula y se adopta la hipótesis alternativa.~~\n",
    "    4. Para probar la significancia de la ecuación de regresión, se debe realizar una prueba de significancia sobre la\n",
    "    pendiente de la ecuación de regresión, por lo que la hipótesis es H_0 ∶ β_1 = 0, H_1 ∶ β_1 ≠ 0 (donde β_1 es la\n",
    "    pendiente de la ecuación de regresión)"
   ]
  },
  {
   "cell_type": "markdown",
   "metadata": {},
   "source": [
    "2. Suponiendo que me caso y tengo tres hijos, y que la variable aleatoria X representa el número de hijos varones,\n",
    "¿cuál es la probabilidad, la media y la varianza de tener dos hijos varones en este caso? Asume que la probabilidad\n",
    "de tener un hijo varón es de 50%"
   ]
  },
  {
   "cell_type": "markdown",
   "metadata": {},
   "source": [
    "Teniendo en cuenta la la formula de probabilidad binomial se resuelve que"
   ]
  },
  {
   "cell_type": "code",
   "execution_count": 21,
   "metadata": {},
   "outputs": [
    {
     "name": "stdout",
     "output_type": "stream",
     "text": [
      "La probabilidad de obtener 2 exitos en 3 intentos es de: 37.5 %\n",
      "La media es:  1.5\n",
      "La varianza es:  0.75\n"
     ]
    }
   ],
   "source": [
    "import math\n",
    "from scipy.stats import binom\n",
    "\n",
    "n = 3 # Numero de intentos\n",
    "k = 2 # Numero de exitos\n",
    "p = 0.5 # Probabilidad de exito\n",
    "\n",
    "prob = binom.pmf(k, n, p)\n",
    "\n",
    "media = n*p\n",
    "varianza = n*p*(1-p)\n",
    "\n",
    "print(f\"La probabilidad de obtener 2 exitos en 3 intentos es de: {round(prob*100, 2)} %\")\n",
    "print(\"La media es: \", media)\n",
    "print(\"La varianza es: \", varianza)"
   ]
  },
  {
   "cell_type": "markdown",
   "metadata": {},
   "source": [
    "3. Cuando una variable aleatoria X sigue X ~ N(μ, 𝜎2), ¿cuál de las siguientes es la expresión estandarizada\n",
    "correcta?\n",
    "    1. 1/𝑥\n",
    "    2. ~~(x – μ) / σ~~\n",
    "    3. (x – σ) / μ\n",
    "    4. (x – μ)"
   ]
  },
  {
   "cell_type": "markdown",
   "metadata": {},
   "source": [
    "4. Si se seleccionó una muestra de 100 personas para determinar si la satisfacción con dos temas difiere según el\n",
    "género, ¿qué estadístico sería el más apropiado en este caso?\n",
    "    1. t\n",
    "    2. ~~𝜒2~~\n",
    "    3. Z\n",
    "    4. F"
   ]
  },
  {
   "cell_type": "markdown",
   "metadata": {},
   "source": [
    "5. Entre los estudiantes que toman la clase de Información y Estadística, se seleccionaron 30 estudiantes al azar. Al\n",
    "investigar el promedio de sus calificaciones, la media fue 80 y la varianza fue 9. Encuentra un intervalo de\n",
    "confianza del 95% para el promedio de sus calificaciones."
   ]
  },
  {
   "cell_type": "markdown",
   "metadata": {},
   "source": [
    "Teniendo en cuenta que la formula para intervalos de confianza es:"
   ]
  },
  {
   "cell_type": "code",
   "execution_count": 22,
   "metadata": {},
   "outputs": [
    {
     "name": "stdout",
     "output_type": "stream",
     "text": [
      "El intervalo de confianza del 95% es: \n"
     ]
    },
    {
     "data": {
      "text/plain": [
       "(79.47966357037009, 80.52033642962991)"
      ]
     },
     "execution_count": 22,
     "metadata": {},
     "output_type": "execute_result"
    }
   ],
   "source": [
    "# Datos proporcionados\n",
    "Media = 80  # Media muestral\n",
    "sigma = 3   # Desviación estándar\n",
    "n = 30      # Tamaño de la muestra\n",
    "Z_alpha_2 = 0.95  # Valor crítico Z para 95% de confianza\n",
    "\n",
    "# Cálculos de los límites del intervalo\n",
    "lower_limit = Media - Z_alpha_2 * (sigma / math.sqrt(n))\n",
    "upper_limit = Media + Z_alpha_2 * (sigma / math.sqrt(n))\n",
    "\n",
    "print(\"El intervalo de confianza del 95% es: \")\n",
    "lower_limit, upper_limit"
   ]
  },
  {
   "cell_type": "markdown",
   "metadata": {},
   "source": [
    "6. Encuentra la característica que está más correlacionada con la variable objetivo, utilizando el siguiente código\n",
    "como punto de partida."
   ]
  },
  {
   "cell_type": "code",
   "execution_count": null,
   "metadata": {},
   "outputs": [
    {
     "name": "stdout",
     "output_type": "stream",
     "text": [
      "Característica más correlacionada con 'target': worst concave points\n",
      "Valor de correlación: 0.794\n"
     ]
    },
    {
     "data": {
      "text/plain": [
       "dict_keys(['data', 'target', 'frame', 'target_names', 'DESCR', 'feature_names', 'filename', 'data_module'])"
      ]
     },
     "execution_count": 23,
     "metadata": {},
     "output_type": "execute_result"
    }
   ],
   "source": [
    "import numpy as np\n",
    "import pandas as pd\n",
    "from sklearn.datasets import load_breast_cancer\n",
    "\n",
    "# Importar datos\n",
    "data = load_breast_cancer()\n",
    "\n",
    "# Crear DataFrame correctamente\n",
    "df = pd.DataFrame(data.data, columns=data.feature_names)\n",
    "df = df.assign(target=pd.Series(1 - data.target))  # Ajustar la columna 'target'\n",
    "\n",
    "# Calcular la matriz de correlación de las columnas numéricas\n",
    "corr_matrix = df.corr()\n",
    "\n",
    "# Redondear los valores de la matriz de correlación a 3 decimales\n",
    "corr = corr_matrix.round(3)\n",
    "\n",
    "# Seleccionar la columna 'target' de la matriz de correlación\n",
    "target_corr = corr['target']\n",
    "\n",
    "# Seleccionar todos los elementos excepto el último (excluyendo el 'target' consigo mismo)\n",
    "target_corr = target_corr[:-1]\n",
    "\n",
    "# Encontrar el índice del valor máximo en la Serie de correlaciones\n",
    "max_corr_index = target_corr.idxmax()\n",
    "\n",
    "# Obtener el valor de correlación correspondiente al índice máximo\n",
    "max_corr_value = target_corr[max_corr_index]\n",
    "\n",
    "# Imprimir los resultados\n",
    "print(f\"Característica más correlacionada con 'target': {max_corr_index}\")\n",
    "print(f\"Valor de correlación: {max_corr_value}\")"
   ]
  }
 ],
 "metadata": {
  "kernelspec": {
   "display_name": ".venv",
   "language": "python",
   "name": "python3"
  },
  "language_info": {
   "codemirror_mode": {
    "name": "ipython",
    "version": 3
   },
   "file_extension": ".py",
   "mimetype": "text/x-python",
   "name": "python",
   "nbconvert_exporter": "python",
   "pygments_lexer": "ipython3",
   "version": "3.13.0"
  }
 },
 "nbformat": 4,
 "nbformat_minor": 4
}
