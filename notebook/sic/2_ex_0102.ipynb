{
 "cells": [
  {
   "cell_type": "markdown",
   "metadata": {
    "id": "-RDsAgiTIFoc"
   },
   "source": [
    "## Coding Exercise #0102"
   ]
  },
  {
   "cell_type": "markdown",
   "metadata": {
    "id": "vFaVY4IdIFog"
   },
   "source": [
    "### 1. NumPy array operations:"
   ]
  },
  {
   "cell_type": "markdown",
   "metadata": {
    "id": "mCHt_kwwIFoh"
   },
   "source": [
    "#### 1.1. '+' and '*' operators for Python lists:"
   ]
  },
  {
   "cell_type": "code",
   "execution_count": 3,
   "metadata": {
    "executionInfo": {
     "elapsed": 235,
     "status": "ok",
     "timestamp": 1731360778814,
     "user": {
      "displayName": "Edison Luis Sánchez Maldonado",
      "userId": "00702821911210066554"
     },
     "user_tz": 360
    },
    "id": "vVqptbKNIFoh"
   },
   "outputs": [],
   "source": [
    "import numpy as np"
   ]
  },
  {
   "cell_type": "code",
   "execution_count": null,
   "metadata": {
    "id": "u6d8L8SFIFoi"
   },
   "outputs": [],
   "source": [
    "a = [1, 2, 3]"
   ]
  },
  {
   "cell_type": "code",
   "execution_count": null,
   "metadata": {
    "id": "DG8NerhBIFoi",
    "outputId": "a3076225-ef3e-4668-ad78-c947fbd4117b"
   },
   "outputs": [
    {
     "data": {
      "text/plain": [
       "[1, 2, 3, 1, 2, 3]"
      ]
     },
     "execution_count": 3,
     "metadata": {},
     "output_type": "execute_result"
    }
   ],
   "source": [
    "a + a"
   ]
  },
  {
   "cell_type": "code",
   "execution_count": null,
   "metadata": {
    "id": "peo3hhWGIFoj",
    "outputId": "949e5a0b-6dce-4d12-8557-a67e6dfb55da"
   },
   "outputs": [
    {
     "data": {
      "text/plain": [
       "[1, 2, 3, 1, 2, 3, 1, 2, 3]"
      ]
     },
     "execution_count": 4,
     "metadata": {},
     "output_type": "execute_result"
    }
   ],
   "source": [
    "a*3"
   ]
  },
  {
   "cell_type": "code",
   "execution_count": null,
   "metadata": {
    "id": "9pbS6fmbIFoj"
   },
   "outputs": [],
   "source": [
    "b = np.array([1, 2, 3])"
   ]
  },
  {
   "cell_type": "code",
   "execution_count": null,
   "metadata": {
    "id": "ApE5cVHQIFok",
    "outputId": "130087d7-0381-4bce-f918-d574f2028a77"
   },
   "outputs": [
    {
     "data": {
      "text/plain": [
       "array([3, 6, 9])"
      ]
     },
     "execution_count": 6,
     "metadata": {},
     "output_type": "execute_result"
    }
   ],
   "source": [
    "b*3"
   ]
  },
  {
   "cell_type": "code",
   "execution_count": null,
   "metadata": {
    "id": "EU3uQI6MIFok",
    "outputId": "3f486166-70fa-4ad3-96ae-768b31d38d44"
   },
   "outputs": [
    {
     "data": {
      "text/plain": [
       "array([2, 4, 6])"
      ]
     },
     "execution_count": 7,
     "metadata": {},
     "output_type": "execute_result"
    }
   ],
   "source": [
    "b + b"
   ]
  },
  {
   "cell_type": "code",
   "execution_count": null,
   "metadata": {
    "id": "gnHnLi3kIFok",
    "outputId": "d0fe1336-862f-4df4-ce1f-82fce915f41c"
   },
   "outputs": [
    {
     "data": {
      "text/plain": [
       "array([1, 1, 1, 2, 2, 2, 3, 3, 3])"
      ]
     },
     "execution_count": 8,
     "metadata": {},
     "output_type": "execute_result"
    }
   ],
   "source": [
    "np.repeat(b, 3)"
   ]
  },
  {
   "cell_type": "markdown",
   "metadata": {
    "id": "Qh1mwoTzIFok"
   },
   "source": [
    "#### 1.2. '+' and '*' operators for NumPy arrays:"
   ]
  },
  {
   "cell_type": "code",
   "execution_count": null,
   "metadata": {
    "id": "q9KeI8aqIFok"
   },
   "outputs": [],
   "source": [
    "a = np.array([1, 2, 3])\n",
    "b = np.array([4, 5, 6])"
   ]
  },
  {
   "cell_type": "code",
   "execution_count": null,
   "metadata": {
    "id": "rkuz9fowIFol",
    "outputId": "79910eb1-c225-42ab-df66-f457524fd007"
   },
   "outputs": [
    {
     "data": {
      "text/plain": [
       "array([5, 7, 9])"
      ]
     },
     "execution_count": 10,
     "metadata": {},
     "output_type": "execute_result"
    }
   ],
   "source": [
    "a+b"
   ]
  },
  {
   "cell_type": "code",
   "execution_count": null,
   "metadata": {
    "id": "9pEpL8XnIFol",
    "outputId": "14ddcdfe-2f8d-497e-b14e-40ee2e790bda"
   },
   "outputs": [
    {
     "data": {
      "text/plain": [
       "array([-3, -3, -3])"
      ]
     },
     "execution_count": 11,
     "metadata": {},
     "output_type": "execute_result"
    }
   ],
   "source": [
    "a-b"
   ]
  },
  {
   "cell_type": "code",
   "execution_count": null,
   "metadata": {
    "id": "LcZbt2rCIFol",
    "outputId": "0e24b5f5-a417-4c14-f843-40959c2ca9d6"
   },
   "outputs": [
    {
     "data": {
      "text/plain": [
       "array([ 4, 10, 18])"
      ]
     },
     "execution_count": 12,
     "metadata": {},
     "output_type": "execute_result"
    }
   ],
   "source": [
    "a*b"
   ]
  },
  {
   "cell_type": "code",
   "execution_count": null,
   "metadata": {
    "id": "oWNdu82LIFol",
    "outputId": "a6455276-d568-4c1e-cc4f-2313ce87e5d7"
   },
   "outputs": [
    {
     "data": {
      "text/plain": [
       "array([0.25, 0.4 , 0.5 ])"
      ]
     },
     "execution_count": 13,
     "metadata": {},
     "output_type": "execute_result"
    }
   ],
   "source": [
    "1.0*a/b"
   ]
  },
  {
   "cell_type": "markdown",
   "metadata": {
    "id": "wMwT8Eo9IFol"
   },
   "source": [
    "#### 1.3. Universal functions:"
   ]
  },
  {
   "cell_type": "code",
   "execution_count": null,
   "metadata": {
    "id": "-Kny4tTjIFol"
   },
   "outputs": [],
   "source": [
    "x = np.array([0, 1, 2, 3, 4, 5])"
   ]
  },
  {
   "cell_type": "code",
   "execution_count": null,
   "metadata": {
    "id": "HI6OO8JnIFom",
    "outputId": "ea8a0e8b-0928-490a-9aa0-5f51f3af8c92"
   },
   "outputs": [
    {
     "data": {
      "text/plain": [
       "array([0.        , 1.        , 1.41421356, 1.73205081, 2.        ,\n",
       "       2.23606798])"
      ]
     },
     "execution_count": 15,
     "metadata": {},
     "output_type": "execute_result"
    }
   ],
   "source": [
    "np.sqrt(x)"
   ]
  },
  {
   "cell_type": "code",
   "execution_count": null,
   "metadata": {
    "id": "0TCmjBD6IFom",
    "outputId": "1a881734-c66c-4df2-9822-1daa9cc6d4de"
   },
   "outputs": [
    {
     "data": {
      "text/plain": [
       "array([  1.        ,   2.71828183,   7.3890561 ,  20.08553692,\n",
       "        54.59815003, 148.4131591 ])"
      ]
     },
     "execution_count": 16,
     "metadata": {},
     "output_type": "execute_result"
    }
   ],
   "source": [
    "np.exp(x)   #e^x, donde 𝑒 es la constante matemática conocida como el número de Euler."
   ]
  },
  {
   "cell_type": "code",
   "execution_count": null,
   "metadata": {
    "id": "ZaZN4FFDIFom",
    "outputId": "618edd8d-d699-47d9-a7a1-b82096e94ca5"
   },
   "outputs": [
    {
     "data": {
      "text/plain": [
       "numpy.ufunc"
      ]
     },
     "execution_count": 17,
     "metadata": {},
     "output_type": "execute_result"
    }
   ],
   "source": [
    "type(np.sqrt)  #pertenece al módulo numpy"
   ]
  },
  {
   "cell_type": "code",
   "execution_count": null,
   "metadata": {
    "id": "CIPOBLTtIFom",
    "outputId": "d98d9c82-d445-46a8-cef2-88da63e70289"
   },
   "outputs": [
    {
     "data": {
      "text/plain": [
       "numpy.ufunc"
      ]
     },
     "execution_count": 18,
     "metadata": {},
     "output_type": "execute_result"
    }
   ],
   "source": [
    "type(np.exp)  #pertenece al módulo numpy"
   ]
  },
  {
   "cell_type": "markdown",
   "metadata": {
    "id": "WXHkSMYaIFom"
   },
   "source": [
    "#### 1.4. NumPy functions:"
   ]
  },
  {
   "cell_type": "code",
   "execution_count": 4,
   "metadata": {
    "executionInfo": {
     "elapsed": 196,
     "status": "ok",
     "timestamp": 1731360783543,
     "user": {
      "displayName": "Edison Luis Sánchez Maldonado",
      "userId": "00702821911210066554"
     },
     "user_tz": 360
    },
    "id": "N_Cmnr2MIFom"
   },
   "outputs": [],
   "source": [
    "np.random.seed(123)\n",
    "a = np.random.randint(1, 11, size=1000)"
   ]
  },
  {
   "cell_type": "code",
   "execution_count": 5,
   "metadata": {
    "colab": {
     "base_uri": "https://localhost:8080/"
    },
    "executionInfo": {
     "elapsed": 190,
     "status": "ok",
     "timestamp": 1731360786231,
     "user": {
      "displayName": "Edison Luis Sánchez Maldonado",
      "userId": "00702821911210066554"
     },
     "user_tz": 360
    },
    "id": "Z00zJtWHJCrH",
    "outputId": "839f3b03-c9ea-4c18-dbc2-dfc1f09ee52d"
   },
   "outputs": [
    {
     "data": {
      "text/plain": [
       "array([ 3,  3,  7,  2,  4, 10,  7,  2,  1,  2, 10,  1,  1, 10,  4,  5,  1,\n",
       "        1,  5,  2,  8,  4,  3,  5,  8,  3,  5,  9,  1,  8, 10,  4,  5,  7,\n",
       "        2,  6,  7,  3,  2,  9,  4,  6,  1,  3,  7,  3,  5,  5,  7,  4,  1,\n",
       "        7,  5,  8,  7,  8,  2,  6,  8, 10,  3,  5,  9,  2,  3,  2,  2,  4,\n",
       "        6, 10,  1,  9,  2,  7,  4,  4,  6, 10,  8, 10,  3,  4,  4,  4,  9,\n",
       "        7, 10,  8,  7,  4, 10,  7,  7,  7,  2,  4,  5,  4,  2,  1,  6,  9,\n",
       "        7,  9, 10,  2,  1,  4,  2,  4,  5,  8,  7,  2,  5,  4,  4,  8,  7,\n",
       "        9,  7,  5,  5,  8,  1,  1, 10,  9,  9,  5,  9,  7,  2,  7,  9,  8,\n",
       "       10,  2,  8,  2,  8, 10,  9,  8,  2,  4,  2,  9,  8,  6,  2,  3,  6,\n",
       "        3,  3, 10,  4,  3,  7,  8, 10,  2,  4,  9,  4,  8, 10, 10,  4,  4,\n",
       "        6,  7,  1,  9,  8,  8,  5,  5,  6,  1,  9, 10,  3,  6,  2,  6, 10,\n",
       "        3,  5,  4,  1,  4,  8,  8,  3,  6,  2,  8,  6, 10,  2,  3,  9,  6,\n",
       "        1, 10,  4,  4,  4,  2,  8,  7,  4,  2,  8,  3,  7,  6, 10,  9, 10,\n",
       "        5,  8,  9,  6, 10,  3,  5,  4,  4,  2,  8,  9,  6,  8,  8,  8,  6,\n",
       "        1,  1,  9,  2,  1,  5,  6,  5,  6,  1,  8,  2,  3,  3,  8,  8,  4,\n",
       "        7,  2,  9,  5,  2,  7,  6, 10,  1,  4,  2,  4,  8,  8,  8,  6,  4,\n",
       "        7,  4,  6,  2,  6, 10,  2,  4, 10,  2,  6,  7,  2,  6,  1,  8,  1,\n",
       "        4,  1,  7,  3,  8,  6,  2,  1,  1,  3,  7,  6, 10,  2,  6,  4,  7,\n",
       "        5,  8,  2,  7,  1,  4,  2,  4,  1,  9,  6,  2,  5,  4,  3,  3,  1,\n",
       "        3,  1,  3,  8, 10,  1,  4, 10,  8,  1,  6,  5,  7,  1,  8,  9,  9,\n",
       "        2,  1,  2,  8,  6,  4,  1,  5,  9,  5, 10,  4,  6,  2,  9,  1, 10,\n",
       "        2,  6,  9,  9,  5,  7,  9,  8, 10,  3,  1,  1, 10, 10,  6,  4,  6,\n",
       "        6,  3,  3,  8,  4,  2,  4, 10,  4,  7,  3,  4,  2, 10,  9,  1,  3,\n",
       "        4,  8, 10,  3,  8, 10,  8,  2,  5,  8,  5,  8,  9,  1,  3,  8,  5,\n",
       "        4,  8,  4,  8,  1,  8,  7,  9,  7,  9,  1,  6,  4,  3,  5,  4,  4,\n",
       "       10,  8,  2,  9,  1,  2,  5,  8,  3,  5,  9,  4,  5, 10,  7,  3,  8,\n",
       "        8,  8,  5,  8,  9,  5,  1,  8,  7,  4,  5,  2,  2,  8,  3,  8,  9,\n",
       "       10,  5,  5,  5,  8,  8, 10, 10,  5,  2,  6,  6,  9, 10,  6,  2,  1,\n",
       "        7,  1, 10,  5,  7,  5,  6,  4,  5,  7,  3,  6,  3,  5,  4,  3,  5,\n",
       "        9,  1,  7,  9,  9,  6,  7,  6,  7,  1,  5, 10,  1,  9,  1,  6,  7,\n",
       "        7,  9,  9,  5,  5,  1,  2, 10,  1,  8,  6,  5,  8,  3,  4,  6,  6,\n",
       "        5,  3,  7, 10,  8, 10,  5, 10,  7,  6,  8,  4, 10,  2,  4, 10,  4,\n",
       "        9,  4,  6,  7,  8,  7,  6,  8,  2,  2,  7,  7,  5, 10,  1, 10,  4,\n",
       "        9,  6,  4,  4,  9,  8,  1,  2,  8,  3,  4,  6,  6,  1,  3,  6,  9,\n",
       "       10,  8, 10,  8,  5,  6,  2,  9,  7,  9,  5,  3,  8,  2,  7,  3,  7,\n",
       "        6,  7,  1,  4,  3,  3, 10,  8,  6,  6,  1,  1, 10,  4,  8,  2,  9,\n",
       "        3,  6,  1,  2,  1,  8,  8,  6,  9,  2,  6,  7,  8,  1,  7,  5,  2,\n",
       "        5,  3,  3,  2,  1, 10,  2,  2,  7,  7,  4, 10,  7,  8,  8,  7,  2,\n",
       "       10,  4,  8,  3,  4,  9,  1,  4,  4, 10,  9,  7,  4,  8,  6,  9,  5,\n",
       "        9,  6,  2,  8,  3,  8,  9,  2,  8,  2,  9,  2, 10,  3,  4,  5,  3,\n",
       "        1,  8,  6, 10,  9,  6,  1,  6,  6,  2,  4,  9,  1,  9,  1,  1, 10,\n",
       "        3,  6,  2,  3,  4,  1,  7,  8,  4, 10,  8, 10,  5,  9,  1, 10,  8,\n",
       "        1,  1,  3,  5, 10,  2, 10,  6,  9,  6,  7,  9,  5,  9,  5,  2,  4,\n",
       "        3,  8,  1,  7,  3,  8,  4,  7,  5,  3,  7, 10, 10,  5,  8,  1,  4,\n",
       "        4,  2,  3,  2,  4,  1,  5,  8,  5,  5,  8,  7,  4,  4, 10,  7,  8,\n",
       "        5, 10,  2,  8,  5,  1,  2,  3,  4, 10,  1,  7,  9,  3,  5,  2, 10,\n",
       "        7,  1,  4,  6,  3, 10,  7,  8, 10,  6,  8,  6,  5,  5,  8,  9,  1,\n",
       "        3,  3,  1,  8,  2,  2,  1,  3,  8,  6, 10,  4,  4,  7,  6,  5,  9,\n",
       "       10,  7,  5,  9,  1,  7,  5, 10,  1,  1,  6,  9,  1,  9,  2,  7,  5,\n",
       "        8,  3,  6,  5,  7,  4,  1,  5, 10, 10,  1,  3,  8,  7,  1,  4,  7,\n",
       "        5,  2,  6,  4,  9, 10,  1,  9, 10,  8,  3,  5,  1,  9,  4,  3,  4,\n",
       "        7,  3,  9,  6,  5,  5,  1,  1,  4,  9,  6,  5,  2,  5,  3,  2,  5,\n",
       "        2,  9,  2,  2,  8,  3,  9, 10,  9,  4,  4,  5,  4,  4,  7,  2,  7,\n",
       "        3,  8,  8,  1,  6,  5,  7,  2,  2,  5,  1,  8,  7,  9,  8,  7,  9,\n",
       "        3,  7,  5,  1,  6,  9,  7,  5,  3,  5,  1,  1,  6, 10,  1, 10,  9,\n",
       "        7,  6,  6,  4,  9,  2,  9,  4,  8,  9,  6, 10,  2,  5, 10,  4,  5,\n",
       "        5,  5,  1,  1,  7,  9,  5,  9,  1,  2,  8,  7,  3,  7,  5,  3,  5,\n",
       "        8,  6,  9,  2,  4,  4, 10,  2,  6,  6,  3,  5,  7, 10,  1, 10,  6,\n",
       "        4,  2,  8,  7,  6,  7,  3,  9,  2,  3,  5,  8, 10,  6])"
      ]
     },
     "execution_count": 5,
     "metadata": {},
     "output_type": "execute_result"
    }
   ],
   "source": [
    "a"
   ]
  },
  {
   "cell_type": "code",
   "execution_count": 6,
   "metadata": {
    "colab": {
     "base_uri": "https://localhost:8080/"
    },
    "executionInfo": {
     "elapsed": 192,
     "status": "ok",
     "timestamp": 1731360836065,
     "user": {
      "displayName": "Edison Luis Sánchez Maldonado",
      "userId": "00702821911210066554"
     },
     "user_tz": 360
    },
    "id": "dy86VI9XIFom",
    "outputId": "3f542516-f7a2-4376-88a4-84d56e1a4bae"
   },
   "outputs": [
    {
     "data": {
      "text/plain": [
       "array([ 1,  2,  3,  4,  5,  6,  7,  8,  9, 10])"
      ]
     },
     "execution_count": 6,
     "metadata": {},
     "output_type": "execute_result"
    }
   ],
   "source": [
    "np.unique(a)  #devuelve los valores únicos (es decir, sin repetidos) de un array o lista a, ordenados de forma ascendente."
   ]
  },
  {
   "cell_type": "code",
   "execution_count": 7,
   "metadata": {
    "colab": {
     "base_uri": "https://localhost:8080/"
    },
    "executionInfo": {
     "elapsed": 195,
     "status": "ok",
     "timestamp": 1731360838234,
     "user": {
      "displayName": "Edison Luis Sánchez Maldonado",
      "userId": "00702821911210066554"
     },
     "user_tz": 360
    },
    "id": "ui2UO3LWIFom",
    "outputId": "94c2d5d6-2548-414d-dbf1-c7bacc0ba209"
   },
   "outputs": [
    {
     "data": {
      "text/plain": [
       "5.0"
      ]
     },
     "execution_count": 7,
     "metadata": {},
     "output_type": "execute_result"
    }
   ],
   "source": [
    "np.median(a)"
   ]
  },
  {
   "cell_type": "code",
   "execution_count": 8,
   "metadata": {
    "colab": {
     "base_uri": "https://localhost:8080/"
    },
    "executionInfo": {
     "elapsed": 165,
     "status": "ok",
     "timestamp": 1731360840483,
     "user": {
      "displayName": "Edison Luis Sánchez Maldonado",
      "userId": "00702821911210066554"
     },
     "user_tz": 360
    },
    "id": "rkdhPYctIFom",
    "outputId": "f89027c0-74ee-4cf7-b19f-d215d674b482"
   },
   "outputs": [
    {
     "data": {
      "text/plain": [
       "5485"
      ]
     },
     "execution_count": 8,
     "metadata": {},
     "output_type": "execute_result"
    }
   ],
   "source": [
    "np.sum(a)"
   ]
  },
  {
   "cell_type": "code",
   "execution_count": 9,
   "metadata": {
    "colab": {
     "base_uri": "https://localhost:8080/"
    },
    "executionInfo": {
     "elapsed": 212,
     "status": "ok",
     "timestamp": 1731360844671,
     "user": {
      "displayName": "Edison Luis Sánchez Maldonado",
      "userId": "00702821911210066554"
     },
     "user_tz": 360
    },
    "id": "n8uOHWxrIFon",
    "outputId": "777cb57a-6388-4d13-f74d-421cec096a8f"
   },
   "outputs": [
    {
     "data": {
      "text/plain": [
       "8.19"
      ]
     },
     "execution_count": 9,
     "metadata": {},
     "output_type": "execute_result"
    }
   ],
   "source": [
    "np.round(np.var(a),2)    #Calcula la varianza de los elementos en el array a. La varianza mide la dispersión de los datos con respecto a su media."
   ]
  },
  {
   "cell_type": "code",
   "execution_count": null,
   "metadata": {
    "id": "Ka7c35buIFon",
    "outputId": "95f5a821-c0dc-4839-e276-948cbbc8b4b6"
   },
   "outputs": [
    {
     "data": {
      "text/plain": [
       "5.48"
      ]
     },
     "execution_count": 24,
     "metadata": {},
     "output_type": "execute_result"
    }
   ],
   "source": [
    "np.round(np.mean(a),2)  #2 decimales"
   ]
  },
  {
   "cell_type": "code",
   "execution_count": null,
   "metadata": {
    "id": "cWWUO0a0IFon",
    "outputId": "134187a4-0f4a-4670-9126-f2a8549da072"
   },
   "outputs": [
    {
     "data": {
      "text/plain": [
       "2.86"
      ]
     },
     "execution_count": 25,
     "metadata": {},
     "output_type": "execute_result"
    }
   ],
   "source": [
    "np.round(np.std(a),2)    #Calcula la desviación estándar de los elementos en el array. La desviación estándar es la raiz cuadrada de la varianza."
   ]
  },
  {
   "cell_type": "code",
   "execution_count": null,
   "metadata": {
    "id": "UYorMeStIFon",
    "outputId": "b169d2a3-7221-468c-c6f1-2dba97a3a4e4"
   },
   "outputs": [
    {
     "data": {
      "text/plain": [
       "10"
      ]
     },
     "execution_count": 26,
     "metadata": {},
     "output_type": "execute_result"
    }
   ],
   "source": [
    "np.max(a)"
   ]
  },
  {
   "cell_type": "code",
   "execution_count": null,
   "metadata": {
    "id": "u4hvkNThIFon",
    "outputId": "ab612cc7-0ddb-4706-ca28-463f16a247cd"
   },
   "outputs": [
    {
     "data": {
      "text/plain": [
       "1"
      ]
     },
     "execution_count": 27,
     "metadata": {},
     "output_type": "execute_result"
    }
   ],
   "source": [
    "np.min(a)"
   ]
  },
  {
   "cell_type": "markdown",
   "metadata": {
    "id": "8PE7t_DgIFon"
   },
   "source": [
    "#### 1.5. Statistical methods of NumPy arrays:"
   ]
  },
  {
   "cell_type": "code",
   "execution_count": 10,
   "metadata": {
    "executionInfo": {
     "elapsed": 2,
     "status": "ok",
     "timestamp": 1731361040418,
     "user": {
      "displayName": "Edison Luis Sánchez Maldonado",
      "userId": "00702821911210066554"
     },
     "user_tz": 360
    },
    "id": "L95WSc90IFon"
   },
   "outputs": [],
   "source": [
    "x=np.arange(1,11)"
   ]
  },
  {
   "cell_type": "code",
   "execution_count": 11,
   "metadata": {
    "colab": {
     "base_uri": "https://localhost:8080/"
    },
    "executionInfo": {
     "elapsed": 7,
     "status": "ok",
     "timestamp": 1731361046773,
     "user": {
      "displayName": "Edison Luis Sánchez Maldonado",
      "userId": "00702821911210066554"
     },
     "user_tz": 360
    },
    "id": "0HHeHOHVKPSZ",
    "outputId": "264b096d-7d88-46a8-995c-a4f4bd7d0edd"
   },
   "outputs": [
    {
     "data": {
      "text/plain": [
       "array([ 1,  2,  3,  4,  5,  6,  7,  8,  9, 10])"
      ]
     },
     "execution_count": 11,
     "metadata": {},
     "output_type": "execute_result"
    }
   ],
   "source": [
    "x"
   ]
  },
  {
   "cell_type": "code",
   "execution_count": null,
   "metadata": {
    "id": "9_DFHxCLIFon",
    "outputId": "7d12dbdb-2b8d-4d43-d036-a65cf630722a"
   },
   "outputs": [
    {
     "data": {
      "text/plain": [
       "55"
      ]
     },
     "execution_count": 29,
     "metadata": {},
     "output_type": "execute_result"
    }
   ],
   "source": [
    "x.sum()"
   ]
  },
  {
   "cell_type": "code",
   "execution_count": null,
   "metadata": {
    "id": "5jzUzFv-IFon",
    "outputId": "607cdbb8-99ca-4602-851b-64bdbfbb1c88"
   },
   "outputs": [
    {
     "data": {
      "text/plain": [
       "5.5"
      ]
     },
     "execution_count": 30,
     "metadata": {},
     "output_type": "execute_result"
    }
   ],
   "source": [
    "x.mean()"
   ]
  },
  {
   "cell_type": "code",
   "execution_count": null,
   "metadata": {
    "id": "A24Lf52VIFon",
    "outputId": "e9190d5b-b433-46d7-8f74-2e2bb89552bd"
   },
   "outputs": [
    {
     "data": {
      "text/plain": [
       "2.8722813232690143"
      ]
     },
     "execution_count": 31,
     "metadata": {},
     "output_type": "execute_result"
    }
   ],
   "source": [
    "x.std()"
   ]
  },
  {
   "cell_type": "code",
   "execution_count": null,
   "metadata": {
    "id": "LtWionuLIFoo",
    "outputId": "9ff55a5f-6340-42be-c82f-160cbe3a51e2"
   },
   "outputs": [
    {
     "data": {
      "text/plain": [
       "8.25"
      ]
     },
     "execution_count": 32,
     "metadata": {},
     "output_type": "execute_result"
    }
   ],
   "source": [
    "x.var()"
   ]
  },
  {
   "cell_type": "code",
   "execution_count": null,
   "metadata": {
    "id": "iWKCMUKBIFos",
    "outputId": "2c6c01b5-c4f9-4e06-c60f-cdeaaba19233"
   },
   "outputs": [
    {
     "data": {
      "text/plain": [
       "array([ 1,  3,  6, 10, 15, 21, 28, 36, 45, 55])"
      ]
     },
     "execution_count": 33,
     "metadata": {},
     "output_type": "execute_result"
    }
   ],
   "source": [
    "x.cumsum()"
   ]
  },
  {
   "cell_type": "code",
   "execution_count": null,
   "metadata": {
    "id": "il5GuobrIFos",
    "outputId": "f9004e1f-2e4c-4cc8-9fe3-38a7e74cb8be"
   },
   "outputs": [
    {
     "name": "stdout",
     "output_type": "stream",
     "text": [
      "[[1 2 3]\n",
      " [4 5 6]\n",
      " [7 8 9]]\n"
     ]
    }
   ],
   "source": [
    "y = np.arange(1,10)\n",
    "y = y.reshape((3,-1))\n",
    "print(y)"
   ]
  },
  {
   "cell_type": "code",
   "execution_count": null,
   "metadata": {
    "id": "WLxiYyvGIFos",
    "outputId": "5f0f7387-db9a-4322-a547-ebca09c19222"
   },
   "outputs": [
    {
     "name": "stdout",
     "output_type": "stream",
     "text": [
      "[4. 5. 6.]\n"
     ]
    }
   ],
   "source": [
    "print(y.mean(axis=0))   # Calculamos la media a lo largo del eje 0 (columnas)"
   ]
  },
  {
   "cell_type": "code",
   "execution_count": null,
   "metadata": {
    "id": "H2gtUG8nIFos",
    "outputId": "acc13ffe-5b2f-4b31-92bf-5641d9c989c9"
   },
   "outputs": [
    {
     "name": "stdout",
     "output_type": "stream",
     "text": [
      "[2. 5. 8.]\n"
     ]
    }
   ],
   "source": [
    "print(y.mean(axis=1)) # Calculamos la media a lo largo del eje 1  (filas)"
   ]
  },
  {
   "cell_type": "code",
   "execution_count": 15,
   "metadata": {
    "executionInfo": {
     "elapsed": 155,
     "status": "ok",
     "timestamp": 1731361264214,
     "user": {
      "displayName": "Edison Luis Sánchez Maldonado",
      "userId": "00702821911210066554"
     },
     "user_tz": 360
    },
    "id": "tsANNcxnIFot"
   },
   "outputs": [],
   "source": [
    "z = np.random.randint(10,size=1000)   #genera un array de 1000 elementos con números enteros aleatorios en el rango de 0 a 9 (excluyendo el 10)."
   ]
  },
  {
   "cell_type": "code",
   "execution_count": 14,
   "metadata": {
    "colab": {
     "base_uri": "https://localhost:8080/"
    },
    "executionInfo": {
     "elapsed": 228,
     "status": "ok",
     "timestamp": 1731361225472,
     "user": {
      "displayName": "Edison Luis Sánchez Maldonado",
      "userId": "00702821911210066554"
     },
     "user_tz": 360
    },
    "id": "fsAt4HldK7EA",
    "outputId": "0a9c38ba-3ce2-4de3-f152-fe62726119c2"
   },
   "outputs": [
    {
     "data": {
      "text/plain": [
       "array([2, 1, 6, 5, 3, 1, 5, 8, 8, 5, 5, 4, 9, 3, 3, 4, 1, 9, 5, 9, 7, 8,\n",
       "       2, 8, 1, 6, 0, 2, 4, 5, 8, 4, 5, 0, 3, 7, 2, 5, 0, 0, 2, 2, 2, 7,\n",
       "       8, 1, 0, 9, 7, 5, 8, 0, 2, 5, 9, 4, 4, 1, 3, 5, 8, 4, 2, 8, 9, 3,\n",
       "       6, 2, 9, 8, 0, 5, 0, 7, 1, 6, 1, 6, 8, 0, 8, 7, 0, 0, 8, 2, 5, 8,\n",
       "       9, 8, 4, 3, 6, 1, 5, 0, 8, 4, 2, 2, 2, 7, 5, 4, 4, 0, 6, 4, 7, 8,\n",
       "       4, 7, 1, 2, 9, 3, 1, 2, 6, 4, 2, 8, 8, 3, 3, 7, 9, 9, 9, 9, 3, 9,\n",
       "       0, 8, 7, 8, 9, 6, 7, 2, 5, 4, 2, 7, 5, 3, 1, 5, 1, 4, 6, 2, 2, 4,\n",
       "       4, 9, 4, 6, 5, 6, 6, 9, 5, 2, 4, 5, 3, 4, 7, 1, 1, 7, 8, 8, 0, 9,\n",
       "       2, 5, 8, 7, 7, 9, 1, 9, 6, 5, 8, 8, 4, 0, 1, 4, 1, 3, 7, 3, 4, 8,\n",
       "       9, 6, 5, 7, 4, 8, 8, 3, 4, 5, 6, 4, 0, 0, 9, 0, 0, 1, 4, 7, 0, 1,\n",
       "       2, 9, 9, 7, 2, 8, 3, 4, 4, 4, 5, 5, 2, 4, 0, 9, 0, 3, 6, 7, 7, 7,\n",
       "       9, 2, 1, 5, 3, 0, 0, 0, 7, 1, 3, 3, 6, 0, 8, 0, 8, 9, 0, 3, 7, 1,\n",
       "       9, 5, 6, 0, 3, 6, 9, 9, 0, 5, 6, 8, 7, 1, 3, 1, 9, 1, 6, 9, 1, 2,\n",
       "       6, 3, 6, 2, 1, 4, 6, 1, 3, 7, 3, 5, 7, 1, 7, 0, 3, 5, 1, 7, 9, 1,\n",
       "       4, 9, 9, 6, 7, 2, 3, 3, 1, 9, 5, 0, 6, 3, 7, 3, 6, 0, 2, 1, 4, 4,\n",
       "       2, 8, 4, 9, 5, 2, 1, 6, 9, 2, 8, 4, 0, 1, 4, 4, 4, 1, 1, 9, 4, 9,\n",
       "       6, 1, 6, 7, 2, 4, 9, 2, 9, 8, 4, 7, 3, 0, 3, 6, 7, 1, 3, 4, 6, 0,\n",
       "       9, 2, 6, 3, 7, 9, 9, 6, 0, 8, 1, 9, 3, 6, 4, 5, 1, 8, 5, 6, 2, 4,\n",
       "       6, 8, 1, 7, 4, 9, 9, 2, 0, 0, 3, 4, 9, 4, 2, 1, 8, 2, 6, 4, 9, 4,\n",
       "       6, 9, 7, 0, 7, 2, 6, 2, 1, 2, 6, 1, 9, 8, 9, 0, 1, 5, 4, 6, 3, 8,\n",
       "       7, 2, 0, 1, 4, 0, 6, 8, 8, 7, 0, 1, 5, 5, 2, 1, 4, 6, 9, 7, 1, 6,\n",
       "       3, 6, 0, 7, 6, 6, 0, 3, 5, 2, 8, 0, 3, 8, 6, 7, 8, 4, 3, 6, 5, 3,\n",
       "       1, 8, 3, 6, 2, 4, 7, 3, 5, 4, 0, 8, 0, 2, 1, 5, 5, 5, 3, 5, 4, 2,\n",
       "       9, 2, 5, 1, 8, 5, 8, 1, 3, 0, 4, 4, 8, 2, 4, 2, 1, 7, 2, 3, 0, 4,\n",
       "       5, 7, 0, 2, 6, 8, 7, 5, 6, 7, 7, 2, 1, 6, 0, 5, 2, 6, 1, 5, 2, 5,\n",
       "       6, 4, 1, 8, 7, 7, 0, 1, 7, 4, 5, 2, 1, 0, 7, 2, 6, 3, 9, 9, 8, 3,\n",
       "       9, 8, 6, 9, 1, 0, 5, 4, 2, 5, 2, 7, 3, 5, 5, 6, 2, 8, 6, 3, 8, 1,\n",
       "       7, 5, 0, 2, 0, 4, 4, 7, 6, 7, 6, 7, 8, 2, 4, 3, 4, 4, 6, 5, 6, 5,\n",
       "       1, 8, 2, 5, 2, 6, 1, 0, 5, 2, 2, 4, 4, 7, 6, 7, 3, 4, 0, 9, 6, 7,\n",
       "       3, 8, 8, 3, 9, 0, 3, 2, 8, 0, 5, 6, 1, 7, 1, 3, 2, 8, 8, 1, 7, 7,\n",
       "       8, 6, 8, 3, 4, 6, 3, 8, 3, 8, 2, 6, 9, 3, 8, 0, 0, 8, 2, 2, 0, 5,\n",
       "       9, 1, 3, 1, 7, 3, 3, 3, 9, 5, 1, 8, 5, 3, 5, 5, 0, 4, 7, 9, 5, 6,\n",
       "       4, 5, 9, 6, 3, 4, 2, 7, 1, 1, 7, 1, 2, 0, 7, 4, 3, 5, 5, 4, 9, 9,\n",
       "       7, 4, 9, 8, 9, 1, 2, 1, 2, 2, 1, 5, 5, 6, 5, 0, 3, 1, 6, 0, 8, 6,\n",
       "       5, 6, 7, 7, 3, 3, 7, 3, 0, 5, 8, 8, 3, 9, 5, 5, 9, 3, 1, 2, 3, 3,\n",
       "       7, 8, 5, 1, 0, 4, 4, 1, 0, 1, 6, 2, 0, 8, 9, 8, 3, 5, 1, 4, 1, 5,\n",
       "       5, 4, 9, 3, 2, 3, 2, 7, 3, 2, 5, 2, 1, 8, 1, 7, 8, 3, 1, 2, 5, 1,\n",
       "       4, 0, 9, 4, 8, 3, 6, 1, 6, 7, 2, 4, 6, 6, 7, 5, 6, 3, 3, 3, 5, 0,\n",
       "       8, 0, 3, 6, 1, 2, 0, 6, 8, 8, 6, 0, 9, 1, 4, 2, 8, 8, 3, 9, 9, 7,\n",
       "       6, 1, 8, 2, 9, 0, 4, 8, 4, 5, 3, 8, 6, 7, 3, 4, 0, 7, 0, 5, 4, 1,\n",
       "       7, 4, 2, 2, 5, 6, 1, 6, 1, 8, 5, 3, 4, 9, 9, 1, 6, 9, 0, 0, 5, 3,\n",
       "       6, 0, 3, 3, 4, 0, 4, 8, 9, 9, 7, 8, 4, 4, 5, 9, 6, 4, 0, 4, 9, 8,\n",
       "       5, 0, 4, 5, 2, 8, 0, 1, 3, 1, 7, 1, 9, 1, 4, 8, 2, 0, 2, 8, 7, 0,\n",
       "       3, 3, 4, 5, 9, 8, 9, 6, 5, 7, 6, 2, 1, 0, 3, 1, 4, 6, 6, 8, 4, 2,\n",
       "       6, 8, 4, 5, 6, 4, 7, 6, 0, 6, 0, 4, 9, 1, 3, 6, 0, 9, 4, 1, 4, 6,\n",
       "       8, 7, 8, 5, 8, 8, 7, 6, 1, 8])"
      ]
     },
     "execution_count": 14,
     "metadata": {},
     "output_type": "execute_result"
    }
   ],
   "source": [
    "z"
   ]
  },
  {
   "cell_type": "code",
   "execution_count": 13,
   "metadata": {
    "colab": {
     "base_uri": "https://localhost:8080/"
    },
    "executionInfo": {
     "elapsed": 172,
     "status": "ok",
     "timestamp": 1731361221197,
     "user": {
      "displayName": "Edison Luis Sánchez Maldonado",
      "userId": "00702821911210066554"
     },
     "user_tz": 360
    },
    "id": "nIBtA5b-IFot",
    "outputId": "d6b1f658-16d2-4069-e554-065347282a2e"
   },
   "outputs": [
    {
     "data": {
      "text/plain": [
       "9"
      ]
     },
     "execution_count": 13,
     "metadata": {},
     "output_type": "execute_result"
    }
   ],
   "source": [
    "z.max()"
   ]
  },
  {
   "cell_type": "code",
   "execution_count": null,
   "metadata": {
    "id": "uEpshw2DIFot",
    "outputId": "f5510cb3-f818-45be-8963-6af13b2a54bc"
   },
   "outputs": [
    {
     "data": {
      "text/plain": [
       "0"
      ]
     },
     "execution_count": 39,
     "metadata": {},
     "output_type": "execute_result"
    }
   ],
   "source": [
    "z.min()"
   ]
  },
  {
   "cell_type": "code",
   "execution_count": null,
   "metadata": {
    "id": "QHfcQzdjIFot",
    "outputId": "89fb064d-b2a1-4c27-bd4b-c73f0552dc29"
   },
   "outputs": [
    {
     "data": {
      "text/plain": [
       "392"
      ]
     },
     "execution_count": 40,
     "metadata": {},
     "output_type": "execute_result"
    }
   ],
   "source": [
    "(z > 5).sum()"
   ]
  },
  {
   "cell_type": "code",
   "execution_count": null,
   "metadata": {
    "id": "SFqjmd7kIFot",
    "outputId": "a5bb49f3-0e56-4e3d-f706-f412f229da04"
   },
   "outputs": [
    {
     "data": {
      "text/plain": [
       "array([0, 1, 2, 3, 4, 5, 6, 7, 8, 9])"
      ]
     },
     "execution_count": 41,
     "metadata": {},
     "output_type": "execute_result"
    }
   ],
   "source": [
    "np.unique(z) #devuelve los valores únicos (es decir, sin repetidos) de un array o lista a, ordenados de forma ascendente."
   ]
  },
  {
   "cell_type": "code",
   "execution_count": null,
   "metadata": {
    "id": "jAhdBxR8IFot",
    "outputId": "83f267aa-1239-46a2-cb1d-c0d009653271"
   },
   "outputs": [
    {
     "data": {
      "text/plain": [
       "[0, 1, 2, 3, 4, 5, 6, 7, 8, 9]"
      ]
     },
     "execution_count": 42,
     "metadata": {},
     "output_type": "execute_result"
    }
   ],
   "source": [
    "sorted(set(z))  #La función sorted() toma cualquier iterable (como un conjunto) y devuelve una lista ordenada de sus elementos."
   ]
  }
 ],
 "metadata": {
  "colab": {
   "provenance": []
  },
  "kernelspec": {
   "display_name": "Python 3 (ipykernel)",
   "language": "python",
   "name": "python3"
  },
  "language_info": {
   "codemirror_mode": {
    "name": "ipython",
    "version": 3
   },
   "file_extension": ".py",
   "mimetype": "text/x-python",
   "name": "python",
   "nbconvert_exporter": "python",
   "pygments_lexer": "ipython3",
   "version": "3.12.7"
  }
 },
 "nbformat": 4,
 "nbformat_minor": 4
}
