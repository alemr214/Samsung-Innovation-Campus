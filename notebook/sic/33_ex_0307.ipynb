{
 "cells": [
  {
   "cell_type": "markdown",
   "metadata": {
    "id": "6_ln1kstPzbD"
   },
   "source": [
    "## Coding Exercise #0307"
   ]
  },
  {
   "cell_type": "markdown",
   "metadata": {
    "id": "XYG6gNkkPzbI"
   },
   "source": [
    "### 1. Classification with logistic regression:"
   ]
  },
  {
   "cell_type": "code",
   "execution_count": 1,
   "metadata": {
    "executionInfo": {
     "elapsed": 730,
     "status": "ok",
     "timestamp": 1736530413324,
     "user": {
      "displayName": "Edison Luis Sánchez Maldonado",
      "userId": "00702821911210066554"
     },
     "user_tz": 300
    },
    "id": "jBc2Xqk9PzbJ"
   },
   "outputs": [],
   "source": [
    "# Importación de bibliotecas necesarias para la manipulación de datos, visualización y modelado.\n",
    "\n",
    "# 'numpy' es una biblioteca para el manejo de arrays multidimensionales y operaciones matemáticas.\n",
    "import numpy as np\n",
    "\n",
    "# 'pandas' es una biblioteca para la manipulación y análisis de datos, especialmente para trabajar con DataFrames.\n",
    "import pandas as pd\n",
    "\n",
    "# 'matplotlib.pyplot' es una biblioteca para la creación de gráficos estáticos en Python.\n",
    "import matplotlib.pyplot as plt\n",
    "\n",
    "# 'seaborn' es una biblioteca para la visualización estadística, basada en matplotlib, que proporciona gráficos más atractivos y fáciles de interpretar.\n",
    "import seaborn as sns\n",
    "\n",
    "# 'load_breast_cancer' carga el dataset de cáncer de mama desde sklearn, que contiene datos para clasificar tumores como benignos o malignos.\n",
    "from sklearn.datasets import load_breast_cancer\n",
    "\n",
    "# 'train_test_split' es una función para dividir los datos en conjuntos de entrenamiento y prueba.\n",
    "from sklearn.model_selection import train_test_split\n",
    "\n",
    "# 'LogisticRegression' es un modelo de regresión logística que se usa para clasificación binaria.\n",
    "from sklearn.linear_model import LogisticRegression\n",
    "\n",
    "# 'metrics' proporciona herramientas para la evaluación del rendimiento de los modelos de clasificación (por ejemplo, matriz de confusión, precisión, etc.).\n",
    "from sklearn import metrics\n",
    "\n",
    "%matplotlib inline"
   ]
  },
  {
   "cell_type": "markdown",
   "metadata": {
    "id": "cpHo_o9nPzbL"
   },
   "source": [
    "#### 1.1. Read in data and explore:"
   ]
  },
  {
   "cell_type": "code",
   "execution_count": 2,
   "metadata": {
    "executionInfo": {
     "elapsed": 2,
     "status": "ok",
     "timestamp": 1736530415032,
     "user": {
      "displayName": "Edison Luis Sánchez Maldonado",
      "userId": "00702821911210066554"
     },
     "user_tz": 300
    },
    "id": "Pjg3DkSlPzbL"
   },
   "outputs": [],
   "source": [
    "# Load data.\n",
    "data = load_breast_cancer()"
   ]
  },
  {
   "cell_type": "code",
   "execution_count": 3,
   "metadata": {
    "colab": {
     "base_uri": "https://localhost:8080/"
    },
    "executionInfo": {
     "elapsed": 5,
     "status": "ok",
     "timestamp": 1736530416168,
     "user": {
      "displayName": "Edison Luis Sánchez Maldonado",
      "userId": "00702821911210066554"
     },
     "user_tz": 300
    },
    "id": "TSzAsclHPzbM",
    "outputId": "3ca8ef6e-5217-47e0-ebb4-3933c4cdd71f"
   },
   "outputs": [
    {
     "name": "stdout",
     "output_type": "stream",
     "text": [
      ".. _breast_cancer_dataset:\n",
      "\n",
      "Breast cancer wisconsin (diagnostic) dataset\n",
      "--------------------------------------------\n",
      "\n",
      "**Data Set Characteristics:**\n",
      "\n",
      ":Number of Instances: 569\n",
      "\n",
      ":Number of Attributes: 30 numeric, predictive attributes and the class\n",
      "\n",
      ":Attribute Information:\n",
      "    - radius (mean of distances from center to points on the perimeter)\n",
      "    - texture (standard deviation of gray-scale values)\n",
      "    - perimeter\n",
      "    - area\n",
      "    - smoothness (local variation in radius lengths)\n",
      "    - compactness (perimeter^2 / area - 1.0)\n",
      "    - concavity (severity of concave portions of the contour)\n",
      "    - concave points (number of concave portions of the contour)\n",
      "    - symmetry\n",
      "    - fractal dimension (\"coastline approximation\" - 1)\n",
      "\n",
      "    The mean, standard error, and \"worst\" or largest (mean of the three\n",
      "    worst/largest values) of these features were computed for each image,\n",
      "    resulting in 30 features.  For instance, field 0 is Mean Radius, field\n",
      "    10 is Radius SE, field 20 is Worst Radius.\n",
      "\n",
      "    - class:\n",
      "            - WDBC-Malignant\n",
      "            - WDBC-Benign\n",
      "\n",
      ":Summary Statistics:\n",
      "\n",
      "===================================== ====== ======\n",
      "                                        Min    Max\n",
      "===================================== ====== ======\n",
      "radius (mean):                        6.981  28.11\n",
      "texture (mean):                       9.71   39.28\n",
      "perimeter (mean):                     43.79  188.5\n",
      "area (mean):                          143.5  2501.0\n",
      "smoothness (mean):                    0.053  0.163\n",
      "compactness (mean):                   0.019  0.345\n",
      "concavity (mean):                     0.0    0.427\n",
      "concave points (mean):                0.0    0.201\n",
      "symmetry (mean):                      0.106  0.304\n",
      "fractal dimension (mean):             0.05   0.097\n",
      "radius (standard error):              0.112  2.873\n",
      "texture (standard error):             0.36   4.885\n",
      "perimeter (standard error):           0.757  21.98\n",
      "area (standard error):                6.802  542.2\n",
      "smoothness (standard error):          0.002  0.031\n",
      "compactness (standard error):         0.002  0.135\n",
      "concavity (standard error):           0.0    0.396\n",
      "concave points (standard error):      0.0    0.053\n",
      "symmetry (standard error):            0.008  0.079\n",
      "fractal dimension (standard error):   0.001  0.03\n",
      "radius (worst):                       7.93   36.04\n",
      "texture (worst):                      12.02  49.54\n",
      "perimeter (worst):                    50.41  251.2\n",
      "area (worst):                         185.2  4254.0\n",
      "smoothness (worst):                   0.071  0.223\n",
      "compactness (worst):                  0.027  1.058\n",
      "concavity (worst):                    0.0    1.252\n",
      "concave points (worst):               0.0    0.291\n",
      "symmetry (worst):                     0.156  0.664\n",
      "fractal dimension (worst):            0.055  0.208\n",
      "===================================== ====== ======\n",
      "\n",
      ":Missing Attribute Values: None\n",
      "\n",
      ":Class Distribution: 212 - Malignant, 357 - Benign\n",
      "\n",
      ":Creator:  Dr. William H. Wolberg, W. Nick Street, Olvi L. Mangasarian\n",
      "\n",
      ":Donor: Nick Street\n",
      "\n",
      ":Date: November, 1995\n",
      "\n",
      "This is a copy of UCI ML Breast Cancer Wisconsin (Diagnostic) datasets.\n",
      "https://goo.gl/U2Uwz2\n",
      "\n",
      "Features are computed from a digitized image of a fine needle\n",
      "aspirate (FNA) of a breast mass.  They describe\n",
      "characteristics of the cell nuclei present in the image.\n",
      "\n",
      "Separating plane described above was obtained using\n",
      "Multisurface Method-Tree (MSM-T) [K. P. Bennett, \"Decision Tree\n",
      "Construction Via Linear Programming.\" Proceedings of the 4th\n",
      "Midwest Artificial Intelligence and Cognitive Science Society,\n",
      "pp. 97-101, 1992], a classification method which uses linear\n",
      "programming to construct a decision tree.  Relevant features\n",
      "were selected using an exhaustive search in the space of 1-4\n",
      "features and 1-3 separating planes.\n",
      "\n",
      "The actual linear program used to obtain the separating plane\n",
      "in the 3-dimensional space is that described in:\n",
      "[K. P. Bennett and O. L. Mangasarian: \"Robust Linear\n",
      "Programming Discrimination of Two Linearly Inseparable Sets\",\n",
      "Optimization Methods and Software 1, 1992, 23-34].\n",
      "\n",
      "This database is also available through the UW CS ftp server:\n",
      "\n",
      "ftp ftp.cs.wisc.edu\n",
      "cd math-prog/cpo-dataset/machine-learn/WDBC/\n",
      "\n",
      ".. dropdown:: References\n",
      "\n",
      "  - W.N. Street, W.H. Wolberg and O.L. Mangasarian. Nuclear feature extraction\n",
      "    for breast tumor diagnosis. IS&T/SPIE 1993 International Symposium on\n",
      "    Electronic Imaging: Science and Technology, volume 1905, pages 861-870,\n",
      "    San Jose, CA, 1993.\n",
      "  - O.L. Mangasarian, W.N. Street and W.H. Wolberg. Breast cancer diagnosis and\n",
      "    prognosis via linear programming. Operations Research, 43(4), pages 570-577,\n",
      "    July-August 1995.\n",
      "  - W.H. Wolberg, W.N. Street, and O.L. Mangasarian. Machine learning techniques\n",
      "    to diagnose breast cancer from fine-needle aspirates. Cancer Letters 77 (1994)\n",
      "    163-171.\n",
      "\n"
     ]
    }
   ],
   "source": [
    "# Display the description.\n",
    "print(data.DESCR)"
   ]
  },
  {
   "cell_type": "code",
   "execution_count": 4,
   "metadata": {
    "colab": {
     "base_uri": "https://localhost:8080/"
    },
    "executionInfo": {
     "elapsed": 335,
     "status": "ok",
     "timestamp": 1736530419314,
     "user": {
      "displayName": "Edison Luis Sánchez Maldonado",
      "userId": "00702821911210066554"
     },
     "user_tz": 300
    },
    "id": "84FBzou-PzbM",
    "outputId": "993b665d-21d3-4863-f541-e64dd48fe5e8"
   },
   "outputs": [
    {
     "name": "stdout",
     "output_type": "stream",
     "text": [
      "['mean radius' 'mean texture' 'mean perimeter' 'mean area'\n",
      " 'mean smoothness' 'mean compactness' 'mean concavity'\n",
      " 'mean concave points' 'mean symmetry' 'mean fractal dimension'\n",
      " 'radius error' 'texture error' 'perimeter error' 'area error'\n",
      " 'smoothness error' 'compactness error' 'concavity error'\n",
      " 'concave points error' 'symmetry error' 'fractal dimension error'\n",
      " 'worst radius' 'worst texture' 'worst perimeter' 'worst area'\n",
      " 'worst smoothness' 'worst compactness' 'worst concavity'\n",
      " 'worst concave points' 'worst symmetry' 'worst fractal dimension']\n"
     ]
    }
   ],
   "source": [
    "# Explanatory variables.\n",
    "X = data['data']\n",
    "print(data['feature_names'])"
   ]
  },
  {
   "cell_type": "code",
   "execution_count": 5,
   "metadata": {
    "colab": {
     "base_uri": "https://localhost:8080/"
    },
    "executionInfo": {
     "elapsed": 581,
     "status": "ok",
     "timestamp": 1736530420664,
     "user": {
      "displayName": "Edison Luis Sánchez Maldonado",
      "userId": "00702821911210066554"
     },
     "user_tz": 300
    },
    "id": "d7c5PVYoPzbN",
    "outputId": "2a791fcd-0be8-4160-fa70-23b90b919a31"
   },
   "outputs": [
    {
     "data": {
      "text/plain": [
       "(569, 30)"
      ]
     },
     "execution_count": 5,
     "metadata": {},
     "output_type": "execute_result"
    }
   ],
   "source": [
    "X.shape"
   ]
  },
  {
   "cell_type": "code",
   "execution_count": 6,
   "metadata": {
    "colab": {
     "base_uri": "https://localhost:8080/"
    },
    "executionInfo": {
     "elapsed": 353,
     "status": "ok",
     "timestamp": 1736530492188,
     "user": {
      "displayName": "Edison Luis Sánchez Maldonado",
      "userId": "00702821911210066554"
     },
     "user_tz": 300
    },
    "id": "IldISOlQR4-W",
    "outputId": "9f3a7ee4-ee16-4c8f-e63c-9ab106f6c1bd"
   },
   "outputs": [
    {
     "name": "stdout",
     "output_type": "stream",
     "text": [
      "['malignant' 'benign']\n",
      "[0 0 0 0 0 0 0 0 0 0 0 0 0 0 0 0 0 0 0 1 1 1 0 0 0 0 0 0 0 0 0 0 0 0 0 0 0\n",
      " 1 0 0 0 0 0 0 0 0 1 0 1 1 1 1 1 0 0 1 0 0 1 1 1 1 0 1 0 0 1 1 1 1 0 1 0 0\n",
      " 1 0 1 0 0 1 1 1 0 0 1 0 0 0 1 1 1 0 1 1 0 0 1 1 1 0 0 1 1 1 1 0 1 1 0 1 1\n",
      " 1 1 1 1 1 1 0 0 0 1 0 0 1 1 1 0 0 1 0 1 0 0 1 0 0 1 1 0 1 1 0 1 1 1 1 0 1\n",
      " 1 1 1 1 1 1 1 1 0 1 1 1 1 0 0 1 0 1 1 0 0 1 1 0 0 1 1 1 1 0 1 1 0 0 0 1 0\n",
      " 1 0 1 1 1 0 1 1 0 0 1 0 0 0 0 1 0 0 0 1 0 1 0 1 1 0 1 0 0 0 0 1 1 0 0 1 1\n",
      " 1 0 1 1 1 1 1 0 0 1 1 0 1 1 0 0 1 0 1 1 1 1 0 1 1 1 1 1 0 1 0 0 0 0 0 0 0\n",
      " 0 0 0 0 0 0 0 1 1 1 1 1 1 0 1 0 1 1 0 1 1 0 1 0 0 1 1 1 1 1 1 1 1 1 1 1 1\n",
      " 1 0 1 1 0 1 0 1 1 1 1 1 1 1 1 1 1 1 1 1 1 0 1 1 1 0 1 0 1 1 1 1 0 0 0 1 1\n",
      " 1 1 0 1 0 1 0 1 1 1 0 1 1 1 1 1 1 1 0 0 0 1 1 1 1 1 1 1 1 1 1 1 0 0 1 0 0\n",
      " 0 1 0 0 1 1 1 1 1 0 1 1 1 1 1 0 1 1 1 0 1 1 0 0 1 1 1 1 1 1 0 1 1 1 1 1 1\n",
      " 1 0 1 1 1 1 1 0 1 1 0 1 1 1 1 1 1 1 1 1 1 1 1 0 1 0 0 1 0 1 1 1 1 1 0 1 1\n",
      " 0 1 0 1 1 0 1 0 1 1 1 1 1 1 1 1 0 0 1 1 1 1 1 1 0 1 1 1 1 1 1 1 1 1 1 0 1\n",
      " 1 1 1 1 1 1 0 1 0 1 1 0 1 1 1 1 1 0 0 1 0 1 0 1 1 1 1 1 0 1 1 0 1 0 1 0 0\n",
      " 1 1 1 0 1 1 1 1 1 1 1 1 1 1 1 0 1 0 0 1 1 1 1 1 1 1 1 1 1 1 1 1 1 1 1 1 1\n",
      " 1 1 1 1 1 1 1 0 0 0 0 0 0 1]\n"
     ]
    }
   ],
   "source": [
    "print(data['target_names'])\n",
    "print(data['target'])"
   ]
  },
  {
   "cell_type": "code",
   "execution_count": 7,
   "metadata": {
    "colab": {
     "base_uri": "https://localhost:8080/"
    },
    "executionInfo": {
     "elapsed": 6,
     "status": "ok",
     "timestamp": 1736530453750,
     "user": {
      "displayName": "Edison Luis Sánchez Maldonado",
      "userId": "00702821911210066554"
     },
     "user_tz": 300
    },
    "id": "BK_LbXjsPzbN",
    "outputId": "7659ff48-7c62-4059-c7ac-532baffbe25a"
   },
   "outputs": [
    {
     "name": "stdout",
     "output_type": "stream",
     "text": [
      "[np.str_('benign'), np.str_('malignant')]\n",
      "[1 1 1 1 1 1 1 1 1 1 1 1 1 1 1 1 1 1 1 0 0 0 1 1 1 1 1 1 1 1 1 1 1 1 1 1 1\n",
      " 0 1 1 1 1 1 1 1 1 0 1 0 0 0 0 0 1 1 0 1 1 0 0 0 0 1 0 1 1 0 0 0 0 1 0 1 1\n",
      " 0 1 0 1 1 0 0 0 1 1 0 1 1 1 0 0 0 1 0 0 1 1 0 0 0 1 1 0 0 0 0 1 0 0 1 0 0\n",
      " 0 0 0 0 0 0 1 1 1 0 1 1 0 0 0 1 1 0 1 0 1 1 0 1 1 0 0 1 0 0 1 0 0 0 0 1 0\n",
      " 0 0 0 0 0 0 0 0 1 0 0 0 0 1 1 0 1 0 0 1 1 0 0 1 1 0 0 0 0 1 0 0 1 1 1 0 1\n",
      " 0 1 0 0 0 1 0 0 1 1 0 1 1 1 1 0 1 1 1 0 1 0 1 0 0 1 0 1 1 1 1 0 0 1 1 0 0\n",
      " 0 1 0 0 0 0 0 1 1 0 0 1 0 0 1 1 0 1 0 0 0 0 1 0 0 0 0 0 1 0 1 1 1 1 1 1 1\n",
      " 1 1 1 1 1 1 1 0 0 0 0 0 0 1 0 1 0 0 1 0 0 1 0 1 1 0 0 0 0 0 0 0 0 0 0 0 0\n",
      " 0 1 0 0 1 0 1 0 0 0 0 0 0 0 0 0 0 0 0 0 0 1 0 0 0 1 0 1 0 0 0 0 1 1 1 0 0\n",
      " 0 0 1 0 1 0 1 0 0 0 1 0 0 0 0 0 0 0 1 1 1 0 0 0 0 0 0 0 0 0 0 0 1 1 0 1 1\n",
      " 1 0 1 1 0 0 0 0 0 1 0 0 0 0 0 1 0 0 0 1 0 0 1 1 0 0 0 0 0 0 1 0 0 0 0 0 0\n",
      " 0 1 0 0 0 0 0 1 0 0 1 0 0 0 0 0 0 0 0 0 0 0 0 1 0 1 1 0 1 0 0 0 0 0 1 0 0\n",
      " 1 0 1 0 0 1 0 1 0 0 0 0 0 0 0 0 1 1 0 0 0 0 0 0 1 0 0 0 0 0 0 0 0 0 0 1 0\n",
      " 0 0 0 0 0 0 1 0 1 0 0 1 0 0 0 0 0 1 1 0 1 0 1 0 0 0 0 0 1 0 0 1 0 1 0 1 1\n",
      " 0 0 0 1 0 0 0 0 0 0 0 0 0 0 0 1 0 1 1 0 0 0 0 0 0 0 0 0 0 0 0 0 0 0 0 0 0\n",
      " 0 0 0 0 0 0 0 1 1 1 1 1 1 0]\n"
     ]
    }
   ],
   "source": [
    "# Se invierte el valor de las etiquetas del conjunto de datos.\n",
    "# Originalmente, 'data['target']' tiene valores 0 y 1, donde 0 significa 'maligno' y 1 significa 'benigno'.\n",
    "# Al restar 1 a las etiquetas (1 - data['target']), cambiamos las etiquetas de modo que:\n",
    "# - Los 1s (benigno) se convierten en 0 (ya no benigno),\n",
    "# - Los 0s (maligno) se convierten en 1 (ya no maligno).\n",
    "Y = 1 - data['target']\n",
    "\n",
    "# Accedemos a las etiquetas de clase del conjunto de datos, que están almacenadas en 'data['target_names']'.\n",
    "# Esta lista contiene las clases en orden: ['malignant', 'benign'].\n",
    "label = list(data['target_names'])  # Convertimos las clases a una lista.\n",
    "\n",
    "# Revertimos el orden de la lista 'label'. Después de la inversión, el primer valor será 'benigno'\n",
    "# y el segundo 'maligno', ya que ahora estamos asignando las clases al revés.\n",
    "label.reverse()\n",
    "\n",
    "# Imprimimos la lista 'label', que ahora contiene las clases en el orden invertido.\n",
    "# El resultado será: ['benign', 'malignant'].\n",
    "print(label)\n",
    "print(Y)"
   ]
  },
  {
   "cell_type": "code",
   "execution_count": null,
   "metadata": {
    "colab": {
     "base_uri": "https://localhost:8080/",
     "height": 449
    },
    "executionInfo": {
     "elapsed": 704,
     "status": "ok",
     "timestamp": 1736530504771,
     "user": {
      "displayName": "Edison Luis Sánchez Maldonado",
      "userId": "00702821911210066554"
     },
     "user_tz": 300
    },
    "id": "l0PeWd3vPzbO",
    "outputId": "f828619d-1e24-4b2a-cef1-1b104758bd82"
   },
   "outputs": [
    {
     "data": {
      "image/png": "[encoded data removed]",
      "text/plain": [
       "<Figure size 640x480 with 1 Axes>"
      ]
     },
     "metadata": {},
     "output_type": "display_data"
    },
    {
     "data": {
      "text/plain": [
       "0    357\n",
       "1    212\n",
       "Name: count, dtype: int64"
      ]
     },
     "execution_count": 23,
     "metadata": {},
     "output_type": "execute_result"
    }
   ],
   "source": [
    "# Convertimos el array 'Y' (que contiene las etiquetas invertidas) a una serie de pandas (pd.Series).\n",
    "# Esto nos permite utilizar las funciones de pandas para manejar y analizar los datos de manera más eficiente.\n",
    "ser = pd.Series(Y)\n",
    "\n",
    "# Creamos una tabla de frecuencias con el método 'value_counts()', que cuenta cuántas veces aparece cada valor (0 o 1) en 'Y'.\n",
    "# 'value_counts()' devuelve una Serie con las frecuencias de cada valor.\n",
    "table = ser.value_counts()\n",
    "\n",
    "# Ordenamos la tabla de frecuencias usando 'sort_index()' para asegurarnos de que las clases estén en orden.\n",
    "# Esto es importante para que el gráfico sea correcto, ya que '0' y '1' deben estar ordenados en el eje X.\n",
    "table = table.sort_index()\n",
    "\n",
    "# Creamos un diccionario con las etiquetas ('x') y las frecuencias ('y') para pasarlas al gráfico.\n",
    "# 'label' contiene los nombres de las clases ('benign' y 'malignant'), mientras que 'table.values' tiene las frecuencias de cada clase.\n",
    "raw_data = {'x': label, 'y': table.values}\n",
    "\n",
    "# Usamos seaborn (sns) para crear un gráfico de barras. 'x' es el eje horizontal con las clases (benign, malignant),\n",
    "# y 'y' es el eje vertical con las frecuencias de cada clase.\n",
    "sns.barplot(x='x', y='y', data=raw_data)\n",
    "\n",
    "# Finalmente, mostramos el gráfico con plt.show(). Esto muestra el gráfico en la pantalla.\n",
    "plt.show()"
   ]
  },
  {
   "cell_type": "markdown",
   "metadata": {
    "id": "ivEmJlpAPzbO"
   },
   "source": [
    "#### 1.2. Train and test:"
   ]
  },
  {
   "cell_type": "code",
   "execution_count": 9,
   "metadata": {
    "executionInfo": {
     "elapsed": 347,
     "status": "ok",
     "timestamp": 1736531550098,
     "user": {
      "displayName": "Edison Luis Sánchez Maldonado",
      "userId": "00702821911210066554"
     },
     "user_tz": 300
    },
    "id": "vw6b1YDpPzbO"
   },
   "outputs": [],
   "source": [
    "# Dividir el dataset en dos conjuntos: entrenamiento y prueba.\n",
    "\n",
    "# 'train_test_split' es una función que divide los datos en dos subconjuntos: uno para entrenamiento y otro para prueba.\n",
    "# Los parámetros principales que utiliza son las características (X) y las etiquetas (Y).\n",
    "# En este caso, se pasa X e Y como los datos que se deben dividir en conjuntos de entrenamiento y prueba.\n",
    "\n",
    "# X representa las características (o variables independientes) del conjunto de datos.\n",
    "# Y representa las etiquetas (o variable dependiente), que son las que queremos predecir.\n",
    "\n",
    "X_train, X_test, Y_train, Y_test = train_test_split(\n",
    "    X,  # Conjunto de datos con las características (independientes).\n",
    "    Y,  # Conjunto de datos con las etiquetas (dependientes).\n",
    "    test_size=0.4,  # El 40% de los datos se usarán para el conjunto de prueba, y el 60% restante para el entrenamiento.\n",
    "    random_state=1234  # Especificamos una semilla aleatoria para que la división sea reproducible.\n",
    ")\n",
    "\n",
    "# El resultado de esta división es que:\n",
    "# - X_train contiene el 60% de las características para entrenamiento.\n",
    "# - X_test contiene el 40% restante de las características para prueba.\n",
    "# - Y_train contiene las etiquetas correspondientes al 60% de los datos de entrenamiento.\n",
    "# - Y_test contiene las etiquetas correspondientes al 40% de los datos de prueba.\n",
    "\n",
    "# Los datos de entrenamiento (X_train, Y_train) se utilizarán para entrenar el modelo de regresión logística.\n",
    "# Los datos de prueba (X_test, Y_test) se utilizarán para evaluar el rendimiento del modelo, es decir,\n",
    "# para verificar qué tan bien el modelo puede predecir las etiquetas de datos que no ha visto antes.\n",
    "\n",
    "# De esta manera, garantizamos que el modelo no se entrene y evalúe con los mismos datos, lo que ayuda a evitar el sobreajuste."
   ]
  },
  {
   "cell_type": "code",
   "execution_count": 10,
   "metadata": {
    "colab": {
     "base_uri": "https://localhost:8080/"
    },
    "executionInfo": {
     "elapsed": 338,
     "status": "ok",
     "timestamp": 1736531552438,
     "user": {
      "displayName": "Edison Luis Sánchez Maldonado",
      "userId": "00702821911210066554"
     },
     "user_tz": 300
    },
    "id": "E4xPy2egPzbO",
    "outputId": "e9ae82d0-a5e3-4f94-ef2b-2ed3573a99fd"
   },
   "outputs": [
    {
     "name": "stdout",
     "output_type": "stream",
     "text": [
      "(341, 30)\n",
      "(228, 30)\n",
      "(341,)\n",
      "(228,)\n"
     ]
    }
   ],
   "source": [
    "print(X_train.shape)\n",
    "print(X_test.shape)\n",
    "print(Y_train.shape)\n",
    "print(Y_test.shape)"
   ]
  },
  {
   "cell_type": "code",
   "execution_count": 11,
   "metadata": {
    "executionInfo": {
     "elapsed": 356,
     "status": "ok",
     "timestamp": 1736531588837,
     "user": {
      "displayName": "Edison Luis Sánchez Maldonado",
      "userId": "00702821911210066554"
     },
     "user_tz": 300
    },
    "id": "fnWiMfeiPzbO"
   },
   "outputs": [],
   "source": [
    "# Crear y entrenar el modelo de regresión logística, luego realizar predicciones sobre el conjunto de prueba.\n",
    "\n",
    "# Se crea un objeto 'LL' que es un modelo de regresión logística de la biblioteca scikit-learn.\n",
    "# 'solver' define el algoritmo que se usará para resolver el modelo. 'liblinear' es un buen algoritmo para datasets pequeños o medianos.\n",
    "# 'max_iter' especifica el número máximo de iteraciones que el algoritmo de optimización realizará. Se establece en 200 para asegurar convergencia.\n",
    "LL = LogisticRegression(solver='liblinear', max_iter=200)\n",
    "\n",
    "# El modelo 'LL' se entrena usando los datos de entrenamiento (X_train, Y_train).\n",
    "# 'fit' ajusta los parámetros del modelo de regresión logística a los datos de entrenamiento, es decir, aprende la relación entre X_train y Y_train.\n",
    "LL.fit(X_train, Y_train)\n",
    "\n",
    "# Después de entrenar el modelo, se utiliza para predecir las etiquetas de los datos de prueba.\n",
    "# 'predict' toma las características del conjunto de prueba (X_test) y genera predicciones sobre sus etiquetas.\n",
    "Y_pred_test = LL.predict(X_test)  # Predicciones para los datos fuera de muestra (conjunto de prueba)."
   ]
  },
  {
   "cell_type": "code",
   "execution_count": 12,
   "metadata": {
    "colab": {
     "base_uri": "https://localhost:8080/"
    },
    "executionInfo": {
     "elapsed": 327,
     "status": "ok",
     "timestamp": 1736531622714,
     "user": {
      "displayName": "Edison Luis Sánchez Maldonado",
      "userId": "00702821911210066554"
     },
     "user_tz": 300
    },
    "id": "loORmExKPzbP",
    "outputId": "bcd8012c-8488-49a7-92db-1dfcdcce0b59"
   },
   "outputs": [
    {
     "name": "stdout",
     "output_type": "stream",
     "text": [
      "[[139   5]\n",
      " [ 12  72]]\n"
     ]
    }
   ],
   "source": [
    "# Crear la matriz de confusión para evaluar el rendimiento del modelo en el conjunto de prueba.\n",
    "conf_mat = metrics.confusion_matrix(Y_test, Y_pred_test)\n",
    "\n",
    "# Mostrar la matriz de confusión en la consola.\n",
    "print(conf_mat)"
   ]
  },
  {
   "cell_type": "code",
   "execution_count": 13,
   "metadata": {
    "colab": {
     "base_uri": "https://localhost:8080/"
    },
    "executionInfo": {
     "elapsed": 304,
     "status": "ok",
     "timestamp": 1736531665866,
     "user": {
      "displayName": "Edison Luis Sánchez Maldonado",
      "userId": "00702821911210066554"
     },
     "user_tz": 300
    },
    "id": "10JsnNSPPzbP",
    "outputId": "23d842cd-ce79-4d84-a62e-05877a961b25"
   },
   "outputs": [
    {
     "name": "stdout",
     "output_type": "stream",
     "text": [
      "Accuracy    = 0.925\n",
      "Sensitivity = 0.857\n",
      "Specificity = 0.965\n",
      "Precision   = 0.935\n"
     ]
    }
   ],
   "source": [
    "# Calcular las métricas de rendimiento utilizando la matriz de confusión.\n",
    "\n",
    "# 'accuracy' o precisión global: Es la proporción de predicciones correctas (tanto positivas como negativas) sobre el total de predicciones.\n",
    "# Se calcula como (verdaderos positivos + verdaderos negativos) / total de muestras.\n",
    "accuracy = (conf_mat[0,0] + conf_mat[1,1]) / np.sum(conf_mat)\n",
    "\n",
    "# 'sensitivity' o sensibilidad (también conocida como recall o tasa de verdaderos positivos): Mide la capacidad del modelo para detectar correctamente los casos positivos.\n",
    "# Se calcula como verdaderos positivos / (verdaderos positivos + falsos negativos).\n",
    "sensitivity = conf_mat[1,1] / (conf_mat[1,0] + conf_mat[1,1])\n",
    "\n",
    "# 'specificity' o especificidad: Mide la capacidad del modelo para detectar correctamente los casos negativos.\n",
    "# Se calcula como verdaderos negativos / (verdaderos negativos + falsos positivos).\n",
    "specificity = conf_mat[0,0] / (conf_mat[0,0] + conf_mat[0,1])\n",
    "\n",
    "# 'precision' o precisión (también conocida como valor predictivo positivo): Mide cuántos de los casos que el modelo clasificó como positivos son realmente positivos.\n",
    "# Se calcula como verdaderos positivos / (falsos positivos + verdaderos positivos).\n",
    "precision = conf_mat[1,1] / (conf_mat[0,1] + conf_mat[1,1])\n",
    "\n",
    "# Imprimir las métricas calculadas.\n",
    "# Utilizamos 'np.round' para redondear los valores a 3 decimales y hacer que la salida sea más legible.\n",
    "print('Accuracy    = {}'.format(np.round(accuracy, 3)))\n",
    "print('Sensitivity = {}'.format(np.round(sensitivity, 3)))\n",
    "print('Specificity = {}'.format(np.round(specificity, 3)))\n",
    "print('Precision   = {}'.format(np.round(precision, 3)))"
   ]
  },
  {
   "cell_type": "code",
   "execution_count": 14,
   "metadata": {
    "id": "hy9h_-YkPzbP",
    "outputId": "49d754d2-8b81-4912-8760-21c3fb424213"
   },
   "outputs": [
    {
     "name": "stdout",
     "output_type": "stream",
     "text": [
      "Accuracy    = 0.925\n",
      "Sensitvity  = 0.857\n",
      "Precision   = 0.935\n"
     ]
    }
   ],
   "source": [
    "# Alternative way.\n",
    "accuracy = metrics.accuracy_score(Y_test,Y_pred_test)                      # Alternative way to calculate the accuracy.\n",
    "sensitivity = metrics.recall_score(Y_test,Y_pred_test)\n",
    "precision = metrics.precision_score(Y_test,Y_pred_test)\n",
    "print('Accuracy    = {}'.format(np.round(accuracy,3)))\n",
    "print('Sensitvity  = {}'.format(np.round(sensitivity,3)))\n",
    "print('Precision   = {}'.format(np.round(precision,3)))"
   ]
  },
  {
   "cell_type": "markdown",
   "metadata": {
    "id": "nIe-Bnc5PzbP"
   },
   "source": [
    "#### 1.3. Cutoff (threshold):"
   ]
  },
  {
   "cell_type": "code",
   "execution_count": 15,
   "metadata": {
    "colab": {
     "base_uri": "https://localhost:8080/"
    },
    "executionInfo": {
     "elapsed": 432,
     "status": "ok",
     "timestamp": 1736532424497,
     "user": {
      "displayName": "Edison Luis Sánchez Maldonado",
      "userId": "00702821911210066554"
     },
     "user_tz": 300
    },
    "id": "h1obqSyjPzbP",
    "outputId": "2085d4a4-109b-4ab8-c23d-0b4c836430d9"
   },
   "outputs": [
    {
     "name": "stdout",
     "output_type": "stream",
     "text": [
      "[[143   1]\n",
      " [ 13  71]]\n"
     ]
    }
   ],
   "source": [
    "# Predecir la probabilidad de que Y = 1 (clase positiva) para el conjunto de prueba.\n",
    "# LL.predict_proba() devuelve las probabilidades de que cada observación pertenezca a cada clase.\n",
    "# Seleccionamos solo la columna que representa la probabilidad de la clase positiva (Y=1).\n",
    "Y_pred_test_prob = LL.predict_proba(X_test)[:, 1]\n",
    "\n",
    "# Se puede cambiar el umbral (cutoff) según se desee.\n",
    "# El cutoff define el valor mínimo de probabilidad para clasificar una observación como clase positiva (1).\n",
    "cutoff = 0.7  # cutoff puede ser un valor entre 0 y 1.\n",
    "\n",
    "# Predecir las clases en función del umbral elegido (cutoff).\n",
    "# Si la probabilidad de clase positiva es mayor que el cutoff, asignamos clase 1 (positivo), de lo contrario, clase 0 (negativo).\n",
    "Y_pred_test_val = (Y_pred_test_prob > cutoff).astype(int)\n",
    "\n",
    "# Calcular la matriz de confusión basada en las predicciones de clases.\n",
    "# La matriz de confusión compara las predicciones de clase con las verdaderas etiquetas de clase.\n",
    "conf_mat = metrics.confusion_matrix(Y_test, Y_pred_test_val)\n",
    "\n",
    "# Imprimir la matriz de confusión.\n",
    "# La matriz de confusión nos muestra el rendimiento del modelo en términos de Verdaderos Positivos (TP),\n",
    "# Falsos Positivos (FP), Verdaderos Negativos (TN) y Falsos Negativos (FN).\n",
    "print(conf_mat)"
   ]
  },
  {
   "cell_type": "code",
   "execution_count": 16,
   "metadata": {
    "colab": {
     "base_uri": "https://localhost:8080/"
    },
    "executionInfo": {
     "elapsed": 330,
     "status": "ok",
     "timestamp": 1736531769314,
     "user": {
      "displayName": "Edison Luis Sánchez Maldonado",
      "userId": "00702821911210066554"
     },
     "user_tz": 300
    },
    "id": "1blTrhgJPzbP",
    "outputId": "25db8cb7-c47d-466a-af09-488d6bc66c2c"
   },
   "outputs": [
    {
     "name": "stdout",
     "output_type": "stream",
     "text": [
      "Accuracy    = 0.939\n",
      "Sensitvity  = 0.845\n",
      "Specificity = 0.993\n",
      "Precision   = 0.986\n"
     ]
    }
   ],
   "source": [
    "accuracy = (conf_mat[0,0] + conf_mat[1,1])/np.sum(conf_mat)\n",
    "sensitivity = conf_mat[1,1]/(conf_mat[1,0]+conf_mat[1,1])\n",
    "specificity = conf_mat[0,0]/(conf_mat[0,0]+conf_mat[0,1])\n",
    "precision = conf_mat[1,1]/(conf_mat[0,1]+conf_mat[1,1])\n",
    "print('Accuracy    = {}'.format(np.round(accuracy,3)))\n",
    "print('Sensitvity  = {}'.format(np.round(sensitivity,3)))\n",
    "print('Specificity = {}'.format(np.round(specificity,3)))\n",
    "print('Precision   = {}'.format(np.round(precision,3)))"
   ]
  },
  {
   "cell_type": "markdown",
   "metadata": {
    "id": "IKn7aktQPzbQ"
   },
   "source": [
    "#### 1.4. ROC curve:"
   ]
  },
  {
   "cell_type": "code",
   "execution_count": 17,
   "metadata": {
    "executionInfo": {
     "elapsed": 316,
     "status": "ok",
     "timestamp": 1736531885116,
     "user": {
      "displayName": "Edison Luis Sánchez Maldonado",
      "userId": "00702821911210066554"
     },
     "user_tz": 300
    },
    "id": "KvVGrh2iPzbQ"
   },
   "outputs": [],
   "source": [
    "# Inicializar un rango de umbrales (cutoff_grid) y listas para almacenar los valores de TPR y FPR.\n",
    "cutoff_grid = np.linspace(0.0, 1.0, 100)  # Crear una secuencia de 100 valores entre 0 y 1.\n",
    "TPR = []  # Lista para almacenar el True Positive Rate (TPR) en cada corte.\n",
    "FPR = []  # Lista para almacenar el False Positive Rate (FPR) en cada corte."
   ]
  },
  {
   "cell_type": "code",
   "execution_count": 18,
   "metadata": {
    "executionInfo": {
     "elapsed": 830,
     "status": "ok",
     "timestamp": 1736531887531,
     "user": {
      "displayName": "Edison Luis Sánchez Maldonado",
      "userId": "00702821911210066554"
     },
     "user_tz": 300
    },
    "id": "xlj3kH_aPzbQ"
   },
   "outputs": [],
   "source": [
    "# Rellenar las listas de TPR (True Positive Rate) y FPR (False Positive Rate) para diferentes umbrales.\n",
    "for cutoff in cutoff_grid:\n",
    "    # Predecir las clases basadas en el umbral actual.\n",
    "    Y_pred_test_val = (Y_pred_test_prob > cutoff).astype(int)\n",
    "\n",
    "    # Calcular la matriz de confusión.\n",
    "    conf_mat = metrics.confusion_matrix(Y_test, Y_pred_test_val)\n",
    "\n",
    "    # Calcular la sensibilidad (TPR).\n",
    "    sensitivity = conf_mat[1,1] / (conf_mat[1,0] + conf_mat[1,1])\n",
    "\n",
    "    # Calcular la especificidad.\n",
    "    specificity = conf_mat[0,0] / (conf_mat[0,0] + conf_mat[0,1])\n",
    "\n",
    "    # Almacenar el TPR y el FPR en las listas correspondientes.\n",
    "    TPR.append(sensitivity)\n",
    "    FPR.append(1 - specificity)"
   ]
  },
  {
   "cell_type": "code",
   "execution_count": 19,
   "metadata": {
    "colab": {
     "base_uri": "https://localhost:8080/",
     "height": 472
    },
    "executionInfo": {
     "elapsed": 425,
     "status": "ok",
     "timestamp": 1736531890377,
     "user": {
      "displayName": "Edison Luis Sánchez Maldonado",
      "userId": "00702821911210066554"
     },
     "user_tz": 300
    },
    "id": "Q1ywx3bwPzbQ",
    "outputId": "429f77b5-df7e-489d-b929-03e781f859e4"
   },
   "outputs": [
    {
     "data": {
      "image/png": "[encoded data removed]",
      "text/plain": [
       "<Figure size 640x480 with 1 Axes>"
      ]
     },
     "metadata": {},
     "output_type": "display_data"
    }
   ],
   "source": [
    "# Visualize.\n",
    "plt.plot(FPR,TPR,c='red',linewidth=1.0)\n",
    "plt.xlabel('False Positive Rate')\n",
    "plt.ylabel('True Positive Rate')\n",
    "plt.title('ROC Curve')\n",
    "plt.show()"
   ]
  },
  {
   "cell_type": "markdown",
   "metadata": {
    "id": "PjBcswYtPzbQ"
   },
   "source": [
    "#### 1.5. ROC curve (sklearn):"
   ]
  },
  {
   "cell_type": "code",
   "execution_count": 20,
   "metadata": {
    "executionInfo": {
     "elapsed": 384,
     "status": "ok",
     "timestamp": 1736531893039,
     "user": {
      "displayName": "Edison Luis Sánchez Maldonado",
      "userId": "00702821911210066554"
     },
     "user_tz": 300
    },
    "id": "geZqr_8ePzbQ"
   },
   "outputs": [],
   "source": [
    "# Calculate the TPR and FPR using a Scikit Learn function.\n",
    "FPR, TPR, cutoffs = metrics.roc_curve(Y_test,Y_pred_test_prob,pos_label=1)      # positive label = 1."
   ]
  },
  {
   "cell_type": "code",
   "execution_count": 21,
   "metadata": {
    "colab": {
     "base_uri": "https://localhost:8080/",
     "height": 472
    },
    "executionInfo": {
     "elapsed": 707,
     "status": "ok",
     "timestamp": 1736531894897,
     "user": {
      "displayName": "Edison Luis Sánchez Maldonado",
      "userId": "00702821911210066554"
     },
     "user_tz": 300
    },
    "id": "hr77CT3UPzbQ",
    "outputId": "cb59422d-a87c-45bb-ad01-ef0299ad5e92"
   },
   "outputs": [
    {
     "data": {
      "image/png": "[encoded data removed]",
      "text/plain": [
       "<Figure size 640x480 with 1 Axes>"
      ]
     },
     "metadata": {},
     "output_type": "display_data"
    }
   ],
   "source": [
    "# Visualize.\n",
    "plt.plot(FPR,TPR,c='red',linewidth=1.0)\n",
    "plt.xlabel('False Positive')\n",
    "plt.ylabel('True Positive')\n",
    "plt.title('ROC Curve')\n",
    "plt.show()"
   ]
  },
  {
   "cell_type": "code",
   "execution_count": 22,
   "metadata": {
    "colab": {
     "base_uri": "https://localhost:8080/"
    },
    "executionInfo": {
     "elapsed": 318,
     "status": "ok",
     "timestamp": 1736531897355,
     "user": {
      "displayName": "Edison Luis Sánchez Maldonado",
      "userId": "00702821911210066554"
     },
     "user_tz": 300
    },
    "id": "_RdVhBq0PzbQ",
    "outputId": "50f8ae92-a38e-4847-fc8c-4ec55d412570"
   },
   "outputs": [
    {
     "name": "stdout",
     "output_type": "stream",
     "text": [
      "AUC  = 0.989\n"
     ]
    }
   ],
   "source": [
    "# AUC.\n",
    "auc = metrics.roc_auc_score(Y_test,Y_pred_test_prob)\n",
    "print('AUC  = {}'.format(np.round(auc,3)))"
   ]
  }
 ],
 "metadata": {
  "colab": {
   "provenance": []
  },
  "kernelspec": {
   "display_name": ".venv",
   "language": "python",
   "name": "python3"
  },
  "language_info": {
   "codemirror_mode": {
    "name": "ipython",
    "version": 3
   },
   "file_extension": ".py",
   "mimetype": "text/x-python",
   "name": "python",
   "nbconvert_exporter": "python",
   "pygments_lexer": "ipython3",
   "version": "3.12.8"
  }
 },
 "nbformat": 4,
 "nbformat_minor": 0
}
