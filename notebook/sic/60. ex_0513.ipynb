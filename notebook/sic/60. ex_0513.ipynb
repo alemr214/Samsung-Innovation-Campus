{
 "cells": [
  {
   "cell_type": "markdown",
   "metadata": {
    "id": "ePgfWraXf5ra"
   },
   "source": [
    "## Coding Exercise #0513"
   ]
  },
  {
   "cell_type": "code",
   "execution_count": 16,
   "metadata": {
    "id": "7e19oDfgf5rc"
   },
   "outputs": [],
   "source": [
    "import numpy as np\n",
    "import warnings\n",
    "from sklearn.feature_extraction.text import ENGLISH_STOP_WORDS\n",
    "from sklearn.feature_extraction.text import CountVectorizer\n",
    "from sklearn.decomposition  import LatentDirichletAllocation\n",
    "warnings.filterwarnings('ignore')"
   ]
  },
  {
   "cell_type": "markdown",
   "metadata": {
    "id": "tzd3TuzQf5rd"
   },
   "source": [
    "#### 1. Latent Dirichlet Allocation (LDA):"
   ]
  },
  {
   "cell_type": "code",
   "execution_count": 17,
   "metadata": {
    "id": "nTvYNecdf5re"
   },
   "outputs": [],
   "source": [
    "# The data.\n",
    "my_docs = [\"The economic slowdown is becoming more severe\",\n",
    "           \"The movie was simply awesome\",\n",
    "           \"I like cooking my own food\",\n",
    "           \"Samsung is announcing a new technology\",\n",
    "           \"Machine Learning is an example of awesome technology\",\n",
    "           \"All of us were excited at the movie\",\n",
    "           \"We have to do more to reverse the economic slowdown\"]"
   ]
  },
  {
   "cell_type": "code",
   "execution_count": 18,
   "metadata": {
    "id": "hLgg9f3_f5re"
   },
   "outputs": [],
   "source": [
    "my_docs = [x.lower() for x in my_docs]"
   ]
  },
  {
   "cell_type": "markdown",
   "metadata": {
    "id": "m5ijsyhlf5rf"
   },
   "source": [
    "#### 1.1. Create a DTM representation:\n",
    "CountVectorizer() arguments: <br>\n",
    "- *max_features* : maximum number of features (distict words). <br>\n",
    "- *min_df* : The minimum DF. Integer value means count and real number (0~1) means proportion. <br>\n",
    "- *max_df* : The maximum DF. Integer value means count and real number (0~1) means proportion. Helps to filter out the stop words. <br>"
   ]
  },
  {
   "cell_type": "code",
   "execution_count": 19,
   "metadata": {
    "id": "EN5oYlmtf5rg"
   },
   "outputs": [],
   "source": [
    "vectorizer = CountVectorizer(max_features = 15, min_df = 1, max_df = 3, stop_words = list(ENGLISH_STOP_WORDS))\n",
    "X = vectorizer.fit_transform(my_docs).toarray()"
   ]
  },
  {
   "cell_type": "code",
   "execution_count": 20,
   "metadata": {
    "id": "3GXUm3n9f5rg",
    "outputId": "de020fa8-b17a-403a-aab0-e63b31c3b06d"
   },
   "outputs": [
    {
     "data": {
      "text/plain": [
       "array([[0, 0, 1, 0, 0, 0, 0, 0, 0, 0, 0, 1, 0, 1, 0],\n",
       "       [0, 1, 0, 0, 0, 0, 0, 1, 0, 0, 0, 0, 1, 0, 0],\n",
       "       [0, 0, 0, 0, 0, 1, 0, 0, 0, 0, 0, 0, 0, 0, 0],\n",
       "       [1, 0, 0, 0, 0, 0, 0, 0, 1, 0, 1, 0, 0, 0, 1],\n",
       "       [0, 1, 0, 1, 0, 0, 1, 0, 0, 0, 0, 0, 0, 0, 1],\n",
       "       [0, 0, 0, 0, 1, 0, 0, 1, 0, 0, 0, 0, 0, 0, 0],\n",
       "       [0, 0, 1, 0, 0, 0, 0, 0, 0, 1, 0, 0, 0, 1, 0]])"
      ]
     },
     "execution_count": 20,
     "metadata": {},
     "output_type": "execute_result"
    }
   ],
   "source": [
    "# Show th DTM.\n",
    "X"
   ]
  },
  {
   "cell_type": "code",
   "execution_count": 21,
   "metadata": {
    "id": "RdmupBvDf5ri",
    "outputId": "d3df1902-bc6e-4a08-9ffa-ea28a92bc5d0"
   },
   "outputs": [
    {
     "data": {
      "text/plain": [
       "(7, 15)"
      ]
     },
     "execution_count": 21,
     "metadata": {},
     "output_type": "execute_result"
    }
   ],
   "source": [
    "# Size of X (=m x n). m = number of documents = 7 & n = number of features.\n",
    "X.shape"
   ]
  },
  {
   "cell_type": "code",
   "execution_count": 22,
   "metadata": {
    "id": "HdOxvXUNf5ri",
    "outputId": "e4edabbe-eb65-474a-88e4-6b4f374bb03b"
   },
   "outputs": [
    {
     "name": "stdout",
     "output_type": "stream",
     "text": [
      "['announcing' 'awesome' 'economic' 'example' 'excited' 'food' 'learning'\n",
      " 'movie' 'new' 'reverse' 'samsung' 'severe' 'simply' 'slowdown'\n",
      " 'technology']\n"
     ]
    }
   ],
   "source": [
    "# View the features.\n",
    "features = vectorizer.get_feature_names_out()\n",
    "print(features)"
   ]
  },
  {
   "cell_type": "markdown",
   "metadata": {
    "id": "EHRuCDpsf5rj"
   },
   "source": [
    "#### 1.2. Apply the LDA:"
   ]
  },
  {
   "cell_type": "code",
   "execution_count": 23,
   "metadata": {
    "id": "NgmyXmL9f5rj"
   },
   "outputs": [],
   "source": [
    "# Get the topics.\n",
    "n_topics = 4\n",
    "lda = LatentDirichletAllocation(n_components=n_topics, random_state=123)\n",
    "my_docs_topic = lda.fit_transform(X)"
   ]
  },
  {
   "cell_type": "code",
   "execution_count": 24,
   "metadata": {
    "id": "cfLmU0R2f5rk",
    "outputId": "0ed3f11f-f001-49f2-d85a-074ac9928ca4"
   },
   "outputs": [
    {
     "data": {
      "text/plain": [
       "array([[0.80515032, 0.06273478, 0.06255696, 0.06955794],\n",
       "       [0.06455228, 0.06274657, 0.81007434, 0.06262681],\n",
       "       [0.12522103, 0.12571681, 0.62369815, 0.12536402],\n",
       "       [0.05117543, 0.05023664, 0.84846627, 0.05012166],\n",
       "       [0.84833626, 0.05018186, 0.05138822, 0.05009367],\n",
       "       [0.08342836, 0.08363634, 0.74944622, 0.08348908],\n",
       "       [0.06434067, 0.06264053, 0.06253428, 0.81048452]])"
      ]
     },
     "execution_count": 24,
     "metadata": {},
     "output_type": "execute_result"
    }
   ],
   "source": [
    "# row = document, column = topic.\n",
    "my_docs_topic"
   ]
  },
  {
   "cell_type": "code",
   "execution_count": 25,
   "metadata": {
    "id": "zzVv2ZCTf5rk",
    "outputId": "d512f510-007e-4e9a-e3d9-d16d97a49d3e"
   },
   "outputs": [
    {
     "data": {
      "text/plain": [
       "array([1., 1., 1., 1., 1., 1., 1.])"
      ]
     },
     "execution_count": 25,
     "metadata": {},
     "output_type": "execute_result"
    }
   ],
   "source": [
    "# Sum along the row has to give 1.\n",
    "my_docs_topic.sum(axis=1)"
   ]
  },
  {
   "cell_type": "markdown",
   "metadata": {
    "id": "GQOH2n_jf5rk"
   },
   "source": [
    "#### 1.3. From each topic, extract the top features:"
   ]
  },
  {
   "cell_type": "code",
   "execution_count": 26,
   "metadata": {
    "id": "8rB8finEf5rk",
    "outputId": "fa69c7e1-51ce-40c9-e1c7-0e06edb4388d"
   },
   "outputs": [
    {
     "data": {
      "text/plain": [
       "(4, 15)"
      ]
     },
     "execution_count": 26,
     "metadata": {},
     "output_type": "execute_result"
    }
   ],
   "source": [
    "topic_composition = lda.components_\n",
    "topic_composition.shape     # row = topic, column = feature (word)."
   ]
  },
  {
   "cell_type": "code",
   "execution_count": 27,
   "metadata": {
    "id": "uc1rhrPWf5rl"
   },
   "outputs": [],
   "source": [
    "n_top = 3\n",
    "for i in range(n_topics):\n",
    "    topic_features = [features[idx] for idx in np.argsort(-topic_composition[i,:])]   # argsort() shows the sorted index.\n",
    "    topic_features_top = topic_features[0:n_top]\n",
    "    if i == 0:\n",
    "        topic_matrix = [topic_features_top]                    # list의 list 만들 준비!\n",
    "    else:\n",
    "        topic_matrix.append(topic_features_top)"
   ]
  },
  {
   "cell_type": "code",
   "execution_count": 28,
   "metadata": {
    "id": "i59zknN9f5rw",
    "outputId": "6d5f2de6-c53c-4804-c38e-21c8cfc49b22"
   },
   "outputs": [
    {
     "data": {
      "text/plain": [
       "[['awesome', 'technology', 'example'],\n",
       " ['food', 'awesome', 'excited'],\n",
       " ['movie', 'announcing', 'new'],\n",
       " ['economic', 'slowdown', 'reverse']]"
      ]
     },
     "execution_count": 28,
     "metadata": {},
     "output_type": "execute_result"
    }
   ],
   "source": [
    "# Show the top features for each topic.\n",
    "topic_matrix"
   ]
  },
  {
   "cell_type": "code",
   "execution_count": 29,
   "metadata": {
    "id": "vOZ-ekCKf5rw"
   },
   "outputs": [],
   "source": [
    "# In view of the top features, we can name the topics.\n",
    "topic_names = ['Technology', 'Cuisine', 'Movie','Economy']"
   ]
  },
  {
   "cell_type": "markdown",
   "metadata": {
    "id": "4fYBhRYBf5rw"
   },
   "source": [
    "#### 1.4. Label each document with the most predominant topic:"
   ]
  },
  {
   "cell_type": "code",
   "execution_count": 30,
   "metadata": {
    "id": "Q-C8HXJQf5rx",
    "outputId": "c4a5bb63-04d6-4d4f-fd35-4a6b130c4b3b"
   },
   "outputs": [
    {
     "name": "stdout",
     "output_type": "stream",
     "text": [
      "Document 1 = Technology\n",
      "Document 2 = Movie\n",
      "Document 3 = Movie\n",
      "Document 4 = Movie\n",
      "Document 5 = Technology\n",
      "Document 6 = Movie\n",
      "Document 7 = Economy\n"
     ]
    }
   ],
   "source": [
    "# The most probable topic is given directly by the LDA output.\n",
    "n_docs = len(my_docs)\n",
    "for i in range(n_docs):\n",
    "    topic_pick = np.argmax(my_docs_topic[i,:])\n",
    "    print(\"Document \" + str(i+1) + \" = \" + topic_names[topic_pick])"
   ]
  },
  {
   "cell_type": "markdown",
   "metadata": {
    "id": "-TXTHdSff5rx"
   },
   "source": [
    "**NOTE**: We can notice some inaccuracies."
   ]
  }
 ],
 "metadata": {
  "colab": {
   "provenance": []
  },
  "kernelspec": {
   "display_name": ".venv",
   "language": "python",
   "name": "python3"
  },
  "language_info": {
   "codemirror_mode": {
    "name": "ipython",
    "version": 3
   },
   "file_extension": ".py",
   "mimetype": "text/x-python",
   "name": "python",
   "nbconvert_exporter": "python",
   "pygments_lexer": "ipython3",
   "version": "3.12.9"
  }
 },
 "nbformat": 4,
 "nbformat_minor": 0
}
