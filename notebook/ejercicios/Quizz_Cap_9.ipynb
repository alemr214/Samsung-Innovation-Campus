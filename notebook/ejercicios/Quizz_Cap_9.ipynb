{
 "cells": [
  {
   "cell_type": "markdown",
   "metadata": {
    "id": "BP9OG8jr5jPy"
   },
   "source": [
    "# Quizz 9"
   ]
  },
  {
   "cell_type": "markdown",
   "metadata": {
    "id": "b-AfRXFs5jE0"
   },
   "source": [
    "1. El conjunto de datos MNIST se compone de imágenes numéricas escritas en cursiva del 0 al 9. Si quieres crear una red neuronal que clasifique los datos, ¿cuál es la función de activación de la última capa totalmente conectada (=dense)?\n",
    "\n",
    "A: La función de activación a ocupar sería **softmax** debido a que convierte las salidas en probabilidades, asignando a cada clase (0 a 9) un valor entre 0 y 1, y la suma total de las probabilidades es 1."
   ]
  },
  {
   "cell_type": "markdown",
   "metadata": {
    "id": "aPct6hfH5sdZ"
   },
   "source": [
    "---"
   ]
  },
  {
   "cell_type": "markdown",
   "metadata": {
    "id": "OYcl2HR45unp"
   },
   "source": [
    "2. La presión arterial, la altura y el peso forman los vectores de características. El conjunto de capacitación es el siguiente.\n",
    "\n",
    "```\n",
    "(121, 1.72, 69.0), (140, 1.62, 63.3), (120, 1.70, 59.0), (131, 1.82, 82.0), (101, 1.78, 73.5)\n",
    "```\n",
    "\n",
    "\n",
    "\n",
    "\n",
    "\n"
   ]
  },
  {
   "cell_type": "markdown",
   "metadata": {
    "id": "bKX8WdvdD_oA"
   },
   "source": [
    "  1. Suponiendo que el vector de pesos del perceptrón sea `(-0.01, 0.5, -0.23)`$^T$ y el sesgo es 0, explique el problema de escala con el conjunto de capacitación.\n",
    "  \n",
    "  A:  \n",
    "  - Para la presión arterial: el coeficiente -0.01 multiplicado por un valor de alrededor de 120 produce contribuciones del orden de -1 o -2.\n",
    "  - Para la altura: el coeficiente 0.5 con valores cercanos a 1.7 produce contribuciones del orden 0.8 o 0.9.\n",
    "  - Para el peso: el coeficiente -0.23 con valores en el rango de 60-80 produce contribuciones que pueden superar fácilmente los 10 en valor absoluto"
   ]
  },
  {
   "cell_type": "markdown",
   "metadata": {
    "id": "tuwPsnJvECsL"
   },
   "source": [
    "  2. Escriba el conjunto de capacitación que resulta tras la aplicación de la fórmula de preprocesamiento siguiente.\n",
    "\n",
    "  $$\n",
    "      x_{i}^{new} = \\frac{x_{i}^{old} - \\mu_{i}}{σ_{i}} \\cdot (5.9)\n",
    "  $$\n"
   ]
  },
  {
   "cell_type": "code",
   "execution_count": 3,
   "metadata": {
    "colab": {
     "base_uri": "https://localhost:8080/"
    },
    "id": "uYBOedARHDzQ",
    "outputId": "4477f480-74e9-4ce2-a10a-f2f720647e30"
   },
   "outputs": [
    {
     "name": "stdout",
     "output_type": "stream",
     "text": [
      "Media de cada característica: [122.6     1.728  69.36 ]\n",
      "Desviación estándar de cada característica: [13.03226765  0.0688186   8.01363837]\n",
      "\n",
      "Conjunto de capacitación transformado:\n",
      "[[-0.7243559  -0.68586107 -0.26504815]\n",
      " [ 7.87737045 -9.25912443 -4.4616438 ]\n",
      " [-1.17707834 -2.40051374 -7.62749667]\n",
      " [ 3.80286849  7.88740229  9.30613493]\n",
      " [-9.77880469  4.45809695  3.04805369]]\n"
     ]
    }
   ],
   "source": [
    "import numpy as np\n",
    "\n",
    "# Conjunto de capacitación original: [Presión arterial, Altura, Peso]\n",
    "data = np.array([\n",
    "    [121, 1.72, 69.0],\n",
    "    [140, 1.62, 63.3],\n",
    "    [120, 1.70, 59.0],\n",
    "    [131, 1.82, 82.0],\n",
    "    [101, 1.78, 73.5]\n",
    "])\n",
    "\n",
    "# Calcular la media (μ) y la desviación estándar (σ) para cada característica (columna)\n",
    "mu = np.mean(data, axis=0)\n",
    "sigma = np.std(data, axis=0)\n",
    "\n",
    "# Aplicar la fórmula de preprocesamiento: x_new = ((x_old - μ) / σ) * 5.9\n",
    "data_transformed = (data - mu) / sigma * 5.9\n",
    "\n",
    "# Imprimir resultados\n",
    "print(\"Media de cada característica:\", mu)\n",
    "print(\"Desviación estándar de cada característica:\", sigma)\n",
    "print(\"\\nConjunto de capacitación transformado:\")\n",
    "print(data_transformed)"
   ]
  },
  {
   "cell_type": "markdown",
   "metadata": {
    "id": "rsaubGjMEE1L"
   },
   "source": [
    "  3. Explique su observación sobre si este preprocesamiento de datos alivia el problema de la escala.\n",
    "\n",
    "\n",
    "A: Después de este preprocesamiento, las tres características se encuentran en una escala similar. Esto evita que una característica domine la función de activación por tener una magnitud mayor."
   ]
  },
  {
   "cell_type": "markdown",
   "metadata": {
    "id": "sPmkZWCo603Y"
   },
   "source": [
    "---"
   ]
  },
  {
   "cell_type": "markdown",
   "metadata": {
    "id": "U5zzup1B614R"
   },
   "source": [
    "3. En las redes neuronales, las capas de convolución se repiten varias veces en el aprendizaje profundo, lo que provoca que algunos nodos se omitan en gran medida. Qué técnica puedes utilizar para evitar este problema?\n",
    "\n",
    "A: La técnica recomendada es *skip connections*. Estas conexiones permiten que la información se transfiera directamente a través de varias capas sin pasar únicamente por las operaciones convolucionales sucesivas, lo que ayuda a evitar la pérdida de información y el problema del gradiente desvanecido en redes muy profundas.\n",
    "\n",
    "Otra opción posible es hacer uso de Dropout para apagar directamente partes de las capas de la red neuronal para ajustar pesos y evitar el sobreajuste."
   ]
  },
  {
   "cell_type": "markdown",
   "metadata": {
    "id": "2CoBGujV7GJl"
   },
   "source": [
    "---"
   ]
  },
  {
   "cell_type": "markdown",
   "metadata": {
    "id": "a8chTSWs7Gzb"
   },
   "source": [
    "4. La inicialización del peso debe generar números aleatorios en el rango [-1,1]. Por favor, proporcione el código Python que realiza esta función."
   ]
  },
  {
   "cell_type": "code",
   "execution_count": 4,
   "metadata": {
    "colab": {
     "base_uri": "https://localhost:8080/"
    },
    "id": "LZ3FC8p7_p9p",
    "outputId": "f05750e6-33e5-48e0-dc79-4a4e8bb4ef82"
   },
   "outputs": [
    {
     "name": "stdout",
     "output_type": "stream",
     "text": [
      "[[-0.1941113   0.19752756  0.03823591 -0.86996237 -0.60372062 -0.53297329\n",
      "  -0.62326297  0.0467034  -0.83994298 -0.2560308 ]\n",
      " [-0.83401316  0.25986339  0.17431985  0.45485075 -0.02986739  0.81246597\n",
      "   0.66065474 -0.19052687  0.35106663  0.12695034]\n",
      " [-0.97897999 -0.30352881 -0.31197964  0.58658843  0.51762118  0.93412151\n",
      "   0.44493819 -0.38642769 -0.28397296  0.44874516]\n",
      " [ 0.62448914 -0.42516085 -0.64526183 -0.79553654 -0.93492793  0.09723791\n",
      "  -0.20839669  0.95675864 -0.78253368 -0.64414778]\n",
      " [ 0.54176841 -0.80355938  0.5400076  -0.32992664 -0.41233882  0.26550596\n",
      "   0.06722388 -0.22289939 -0.77712734 -0.786049  ]]\n"
     ]
    }
   ],
   "source": [
    "import numpy as np\n",
    "\n",
    "def initialize_weights(shape):\n",
    "    \"\"\"\n",
    "    Inicializa un array de pesos con valores aleatorios en el rango [-1, 1].\n",
    "\n",
    "    Parámetros:\n",
    "    shape (tuple): Dimensiones del array de pesos.\n",
    "\n",
    "    Retorna:\n",
    "    numpy.ndarray: Array con pesos inicializados.\n",
    "    \"\"\"\n",
    "    return np.random.uniform(-1, 1, shape)\n",
    "\n",
    "# Ejemplo de uso: inicializar pesos para una capa densa con 5 entradas y 10 salidas.\n",
    "weights = initialize_weights((5, 10))\n",
    "print(weights)"
   ]
  },
  {
   "cell_type": "markdown",
   "metadata": {
    "id": "PfxeOAM97JMq"
   },
   "source": [
    "---"
   ]
  },
  {
   "cell_type": "markdown",
   "metadata": {
    "id": "VdrUiC0W7mjj"
   },
   "source": [
    "5. Se desea capacitar a un clasificador cuando se tienen muchos datos de capacitación sin etiquetar, pero sólo unos pocos miles de datos etiquetados. Describe cómo puede ser útil el autoencoder y cómo trabajar.\n",
    "\n",
    "A: Una vez que el autoencoder ha sido entrenado con los datos sin etiquetar, se puede utilizar la parte del encoder para extraer características relevantes de los datos. Posteriormente, estas características se pueden alimentar a un clasificador, que se entrenará usando los pocos miles de datos etiquetados disponibles. Este enfoque se conoce como aprendizaje semi-supervisado y permite aprovechar el conocimiento aprendido de los datos sin etiquetar para mejorar el desempeño del clasificador con datos limitados etiquetados."
   ]
  },
  {
   "cell_type": "markdown",
   "metadata": {
    "id": "myTcJkjLAJP1"
   },
   "source": [
    "---"
   ]
  },
  {
   "cell_type": "markdown",
   "metadata": {
    "id": "S18gBbAO7s58"
   },
   "source": [
    "6. Forme el modelo de clasificación del conjunto de datos “Fashion-mnist” con referencia al código siguiente."
   ]
  },
  {
   "cell_type": "code",
   "execution_count": 5,
   "metadata": {
    "colab": {
     "base_uri": "https://localhost:8080/",
     "height": 1000
    },
    "id": "n967_WMX7uQZ",
    "outputId": "4920c530-7cb6-46e7-9377-a1a22d302ed3"
   },
   "outputs": [
    {
     "data": {
      "text/html": [
       "<pre style=\"white-space:pre;overflow-x:auto;line-height:normal;font-family:Menlo,'DejaVu Sans Mono',consolas,'Courier New',monospace\"><span style=\"font-weight: bold\">Model: \"sequential\"</span>\n",
       "</pre>\n"
      ],
      "text/plain": [
       "\u001b[1mModel: \"sequential\"\u001b[0m\n"
      ]
     },
     "metadata": {},
     "output_type": "display_data"
    },
    {
     "data": {
      "text/html": [
       "<pre style=\"white-space:pre;overflow-x:auto;line-height:normal;font-family:Menlo,'DejaVu Sans Mono',consolas,'Courier New',monospace\">┏━━━━━━━━━━━━━━━━━━━━━━━━━━━━━━━━━━━━━━┳━━━━━━━━━━━━━━━━━━━━━━━━━━━━━┳━━━━━━━━━━━━━━━━━┓\n",
       "┃<span style=\"font-weight: bold\"> Layer (type)                         </span>┃<span style=\"font-weight: bold\"> Output Shape                </span>┃<span style=\"font-weight: bold\">         Param # </span>┃\n",
       "┡━━━━━━━━━━━━━━━━━━━━━━━━━━━━━━━━━━━━━━╇━━━━━━━━━━━━━━━━━━━━━━━━━━━━━╇━━━━━━━━━━━━━━━━━┩\n",
       "│ conv2d (<span style=\"color: #0087ff; text-decoration-color: #0087ff\">Conv2D</span>)                      │ (<span style=\"color: #00d7ff; text-decoration-color: #00d7ff\">None</span>, <span style=\"color: #00af00; text-decoration-color: #00af00\">26</span>, <span style=\"color: #00af00; text-decoration-color: #00af00\">26</span>, <span style=\"color: #00af00; text-decoration-color: #00af00\">32</span>)          │             <span style=\"color: #00af00; text-decoration-color: #00af00\">320</span> │\n",
       "├──────────────────────────────────────┼─────────────────────────────┼─────────────────┤\n",
       "│ max_pooling2d (<span style=\"color: #0087ff; text-decoration-color: #0087ff\">MaxPooling2D</span>)         │ (<span style=\"color: #00d7ff; text-decoration-color: #00d7ff\">None</span>, <span style=\"color: #00af00; text-decoration-color: #00af00\">13</span>, <span style=\"color: #00af00; text-decoration-color: #00af00\">13</span>, <span style=\"color: #00af00; text-decoration-color: #00af00\">32</span>)          │               <span style=\"color: #00af00; text-decoration-color: #00af00\">0</span> │\n",
       "├──────────────────────────────────────┼─────────────────────────────┼─────────────────┤\n",
       "│ conv2d_1 (<span style=\"color: #0087ff; text-decoration-color: #0087ff\">Conv2D</span>)                    │ (<span style=\"color: #00d7ff; text-decoration-color: #00d7ff\">None</span>, <span style=\"color: #00af00; text-decoration-color: #00af00\">11</span>, <span style=\"color: #00af00; text-decoration-color: #00af00\">11</span>, <span style=\"color: #00af00; text-decoration-color: #00af00\">64</span>)          │          <span style=\"color: #00af00; text-decoration-color: #00af00\">18,496</span> │\n",
       "├──────────────────────────────────────┼─────────────────────────────┼─────────────────┤\n",
       "│ max_pooling2d_1 (<span style=\"color: #0087ff; text-decoration-color: #0087ff\">MaxPooling2D</span>)       │ (<span style=\"color: #00d7ff; text-decoration-color: #00d7ff\">None</span>, <span style=\"color: #00af00; text-decoration-color: #00af00\">5</span>, <span style=\"color: #00af00; text-decoration-color: #00af00\">5</span>, <span style=\"color: #00af00; text-decoration-color: #00af00\">64</span>)            │               <span style=\"color: #00af00; text-decoration-color: #00af00\">0</span> │\n",
       "├──────────────────────────────────────┼─────────────────────────────┼─────────────────┤\n",
       "│ flatten (<span style=\"color: #0087ff; text-decoration-color: #0087ff\">Flatten</span>)                    │ (<span style=\"color: #00d7ff; text-decoration-color: #00d7ff\">None</span>, <span style=\"color: #00af00; text-decoration-color: #00af00\">1600</span>)                │               <span style=\"color: #00af00; text-decoration-color: #00af00\">0</span> │\n",
       "├──────────────────────────────────────┼─────────────────────────────┼─────────────────┤\n",
       "│ dense (<span style=\"color: #0087ff; text-decoration-color: #0087ff\">Dense</span>)                        │ (<span style=\"color: #00d7ff; text-decoration-color: #00d7ff\">None</span>, <span style=\"color: #00af00; text-decoration-color: #00af00\">128</span>)                 │         <span style=\"color: #00af00; text-decoration-color: #00af00\">204,928</span> │\n",
       "├──────────────────────────────────────┼─────────────────────────────┼─────────────────┤\n",
       "│ dense_1 (<span style=\"color: #0087ff; text-decoration-color: #0087ff\">Dense</span>)                      │ (<span style=\"color: #00d7ff; text-decoration-color: #00d7ff\">None</span>, <span style=\"color: #00af00; text-decoration-color: #00af00\">10</span>)                  │           <span style=\"color: #00af00; text-decoration-color: #00af00\">1,290</span> │\n",
       "└──────────────────────────────────────┴─────────────────────────────┴─────────────────┘\n",
       "</pre>\n"
      ],
      "text/plain": [
       "┏━━━━━━━━━━━━━━━━━━━━━━━━━━━━━━━━━━━━━━┳━━━━━━━━━━━━━━━━━━━━━━━━━━━━━┳━━━━━━━━━━━━━━━━━┓\n",
       "┃\u001b[1m \u001b[0m\u001b[1mLayer (type)                        \u001b[0m\u001b[1m \u001b[0m┃\u001b[1m \u001b[0m\u001b[1mOutput Shape               \u001b[0m\u001b[1m \u001b[0m┃\u001b[1m \u001b[0m\u001b[1m        Param #\u001b[0m\u001b[1m \u001b[0m┃\n",
       "┡━━━━━━━━━━━━━━━━━━━━━━━━━━━━━━━━━━━━━━╇━━━━━━━━━━━━━━━━━━━━━━━━━━━━━╇━━━━━━━━━━━━━━━━━┩\n",
       "│ conv2d (\u001b[38;5;33mConv2D\u001b[0m)                      │ (\u001b[38;5;45mNone\u001b[0m, \u001b[38;5;34m26\u001b[0m, \u001b[38;5;34m26\u001b[0m, \u001b[38;5;34m32\u001b[0m)          │             \u001b[38;5;34m320\u001b[0m │\n",
       "├──────────────────────────────────────┼─────────────────────────────┼─────────────────┤\n",
       "│ max_pooling2d (\u001b[38;5;33mMaxPooling2D\u001b[0m)         │ (\u001b[38;5;45mNone\u001b[0m, \u001b[38;5;34m13\u001b[0m, \u001b[38;5;34m13\u001b[0m, \u001b[38;5;34m32\u001b[0m)          │               \u001b[38;5;34m0\u001b[0m │\n",
       "├──────────────────────────────────────┼─────────────────────────────┼─────────────────┤\n",
       "│ conv2d_1 (\u001b[38;5;33mConv2D\u001b[0m)                    │ (\u001b[38;5;45mNone\u001b[0m, \u001b[38;5;34m11\u001b[0m, \u001b[38;5;34m11\u001b[0m, \u001b[38;5;34m64\u001b[0m)          │          \u001b[38;5;34m18,496\u001b[0m │\n",
       "├──────────────────────────────────────┼─────────────────────────────┼─────────────────┤\n",
       "│ max_pooling2d_1 (\u001b[38;5;33mMaxPooling2D\u001b[0m)       │ (\u001b[38;5;45mNone\u001b[0m, \u001b[38;5;34m5\u001b[0m, \u001b[38;5;34m5\u001b[0m, \u001b[38;5;34m64\u001b[0m)            │               \u001b[38;5;34m0\u001b[0m │\n",
       "├──────────────────────────────────────┼─────────────────────────────┼─────────────────┤\n",
       "│ flatten (\u001b[38;5;33mFlatten\u001b[0m)                    │ (\u001b[38;5;45mNone\u001b[0m, \u001b[38;5;34m1600\u001b[0m)                │               \u001b[38;5;34m0\u001b[0m │\n",
       "├──────────────────────────────────────┼─────────────────────────────┼─────────────────┤\n",
       "│ dense (\u001b[38;5;33mDense\u001b[0m)                        │ (\u001b[38;5;45mNone\u001b[0m, \u001b[38;5;34m128\u001b[0m)                 │         \u001b[38;5;34m204,928\u001b[0m │\n",
       "├──────────────────────────────────────┼─────────────────────────────┼─────────────────┤\n",
       "│ dense_1 (\u001b[38;5;33mDense\u001b[0m)                      │ (\u001b[38;5;45mNone\u001b[0m, \u001b[38;5;34m10\u001b[0m)                  │           \u001b[38;5;34m1,290\u001b[0m │\n",
       "└──────────────────────────────────────┴─────────────────────────────┴─────────────────┘\n"
      ]
     },
     "metadata": {},
     "output_type": "display_data"
    },
    {
     "data": {
      "text/html": [
       "<pre style=\"white-space:pre;overflow-x:auto;line-height:normal;font-family:Menlo,'DejaVu Sans Mono',consolas,'Courier New',monospace\"><span style=\"font-weight: bold\"> Total params: </span><span style=\"color: #00af00; text-decoration-color: #00af00\">225,034</span> (879.04 KB)\n",
       "</pre>\n"
      ],
      "text/plain": [
       "\u001b[1m Total params: \u001b[0m\u001b[38;5;34m225,034\u001b[0m (879.04 KB)\n"
      ]
     },
     "metadata": {},
     "output_type": "display_data"
    },
    {
     "data": {
      "text/html": [
       "<pre style=\"white-space:pre;overflow-x:auto;line-height:normal;font-family:Menlo,'DejaVu Sans Mono',consolas,'Courier New',monospace\"><span style=\"font-weight: bold\"> Trainable params: </span><span style=\"color: #00af00; text-decoration-color: #00af00\">225,034</span> (879.04 KB)\n",
       "</pre>\n"
      ],
      "text/plain": [
       "\u001b[1m Trainable params: \u001b[0m\u001b[38;5;34m225,034\u001b[0m (879.04 KB)\n"
      ]
     },
     "metadata": {},
     "output_type": "display_data"
    },
    {
     "data": {
      "text/html": [
       "<pre style=\"white-space:pre;overflow-x:auto;line-height:normal;font-family:Menlo,'DejaVu Sans Mono',consolas,'Courier New',monospace\"><span style=\"font-weight: bold\"> Non-trainable params: </span><span style=\"color: #00af00; text-decoration-color: #00af00\">0</span> (0.00 B)\n",
       "</pre>\n"
      ],
      "text/plain": [
       "\u001b[1m Non-trainable params: \u001b[0m\u001b[38;5;34m0\u001b[0m (0.00 B)\n"
      ]
     },
     "metadata": {},
     "output_type": "display_data"
    },
    {
     "name": "stdout",
     "output_type": "stream",
     "text": [
      "Epoch 1/20\n",
      "\u001b[1m7500/7500\u001b[0m \u001b[32m━━━━━━━━━━━━━━━━━━━━\u001b[0m\u001b[37m\u001b[0m \u001b[1m23s\u001b[0m 3ms/step - accuracy: 0.7297 - loss: 0.7922 - val_accuracy: 0.8429 - val_loss: 0.4340\n",
      "Epoch 2/20\n",
      "\u001b[1m7500/7500\u001b[0m \u001b[32m━━━━━━━━━━━━━━━━━━━━\u001b[0m\u001b[37m\u001b[0m \u001b[1m18s\u001b[0m 2ms/step - accuracy: 0.8533 - loss: 0.4109 - val_accuracy: 0.8623 - val_loss: 0.3868\n",
      "Epoch 3/20\n",
      "\u001b[1m7500/7500\u001b[0m \u001b[32m━━━━━━━━━━━━━━━━━━━━\u001b[0m\u001b[37m\u001b[0m \u001b[1m18s\u001b[0m 2ms/step - accuracy: 0.8745 - loss: 0.3552 - val_accuracy: 0.8752 - val_loss: 0.3493\n",
      "Epoch 4/20\n",
      "\u001b[1m7500/7500\u001b[0m \u001b[32m━━━━━━━━━━━━━━━━━━━━\u001b[0m\u001b[37m\u001b[0m \u001b[1m18s\u001b[0m 2ms/step - accuracy: 0.8876 - loss: 0.3158 - val_accuracy: 0.8855 - val_loss: 0.3177\n",
      "Epoch 5/20\n",
      "\u001b[1m7500/7500\u001b[0m \u001b[32m━━━━━━━━━━━━━━━━━━━━\u001b[0m\u001b[37m\u001b[0m \u001b[1m18s\u001b[0m 2ms/step - accuracy: 0.8917 - loss: 0.2943 - val_accuracy: 0.8839 - val_loss: 0.3176\n",
      "Epoch 6/20\n",
      "\u001b[1m7500/7500\u001b[0m \u001b[32m━━━━━━━━━━━━━━━━━━━━\u001b[0m\u001b[37m\u001b[0m \u001b[1m18s\u001b[0m 2ms/step - accuracy: 0.9004 - loss: 0.2725 - val_accuracy: 0.8930 - val_loss: 0.2973\n",
      "Epoch 7/20\n",
      "\u001b[1m7500/7500\u001b[0m \u001b[32m━━━━━━━━━━━━━━━━━━━━\u001b[0m\u001b[37m\u001b[0m \u001b[1m18s\u001b[0m 2ms/step - accuracy: 0.9122 - loss: 0.2510 - val_accuracy: 0.8937 - val_loss: 0.2927\n",
      "Epoch 8/20\n",
      "\u001b[1m7500/7500\u001b[0m \u001b[32m━━━━━━━━━━━━━━━━━━━━\u001b[0m\u001b[37m\u001b[0m \u001b[1m18s\u001b[0m 2ms/step - accuracy: 0.9126 - loss: 0.2397 - val_accuracy: 0.8986 - val_loss: 0.2832\n",
      "Epoch 9/20\n",
      "\u001b[1m7500/7500\u001b[0m \u001b[32m━━━━━━━━━━━━━━━━━━━━\u001b[0m\u001b[37m\u001b[0m \u001b[1m18s\u001b[0m 2ms/step - accuracy: 0.9167 - loss: 0.2272 - val_accuracy: 0.8951 - val_loss: 0.2887\n",
      "Epoch 10/20\n",
      "\u001b[1m7500/7500\u001b[0m \u001b[32m━━━━━━━━━━━━━━━━━━━━\u001b[0m\u001b[37m\u001b[0m \u001b[1m19s\u001b[0m 2ms/step - accuracy: 0.9203 - loss: 0.2189 - val_accuracy: 0.9010 - val_loss: 0.2700\n",
      "Epoch 11/20\n",
      "\u001b[1m7500/7500\u001b[0m \u001b[32m━━━━━━━━━━━━━━━━━━━━\u001b[0m\u001b[37m\u001b[0m \u001b[1m18s\u001b[0m 2ms/step - accuracy: 0.9256 - loss: 0.2071 - val_accuracy: 0.9067 - val_loss: 0.2608\n",
      "Epoch 12/20\n",
      "\u001b[1m7500/7500\u001b[0m \u001b[32m━━━━━━━━━━━━━━━━━━━━\u001b[0m\u001b[37m\u001b[0m \u001b[1m18s\u001b[0m 2ms/step - accuracy: 0.9261 - loss: 0.2017 - val_accuracy: 0.9057 - val_loss: 0.2545\n",
      "Epoch 13/20\n",
      "\u001b[1m7500/7500\u001b[0m \u001b[32m━━━━━━━━━━━━━━━━━━━━\u001b[0m\u001b[37m\u001b[0m \u001b[1m18s\u001b[0m 2ms/step - accuracy: 0.9313 - loss: 0.1886 - val_accuracy: 0.9078 - val_loss: 0.2526\n",
      "Epoch 14/20\n",
      "\u001b[1m7500/7500\u001b[0m \u001b[32m━━━━━━━━━━━━━━━━━━━━\u001b[0m\u001b[37m\u001b[0m \u001b[1m18s\u001b[0m 2ms/step - accuracy: 0.9350 - loss: 0.1793 - val_accuracy: 0.9110 - val_loss: 0.2505\n",
      "Epoch 15/20\n",
      "\u001b[1m7500/7500\u001b[0m \u001b[32m━━━━━━━━━━━━━━━━━━━━\u001b[0m\u001b[37m\u001b[0m \u001b[1m18s\u001b[0m 2ms/step - accuracy: 0.9370 - loss: 0.1744 - val_accuracy: 0.9105 - val_loss: 0.2535\n",
      "Epoch 16/20\n",
      "\u001b[1m7500/7500\u001b[0m \u001b[32m━━━━━━━━━━━━━━━━━━━━\u001b[0m\u001b[37m\u001b[0m \u001b[1m18s\u001b[0m 2ms/step - accuracy: 0.9393 - loss: 0.1639 - val_accuracy: 0.9097 - val_loss: 0.2572\n",
      "Epoch 17/20\n",
      "\u001b[1m7500/7500\u001b[0m \u001b[32m━━━━━━━━━━━━━━━━━━━━\u001b[0m\u001b[37m\u001b[0m \u001b[1m18s\u001b[0m 2ms/step - accuracy: 0.9428 - loss: 0.1578 - val_accuracy: 0.9121 - val_loss: 0.2483\n",
      "Epoch 18/20\n",
      "\u001b[1m7500/7500\u001b[0m \u001b[32m━━━━━━━━━━━━━━━━━━━━\u001b[0m\u001b[37m\u001b[0m \u001b[1m18s\u001b[0m 2ms/step - accuracy: 0.9470 - loss: 0.1457 - val_accuracy: 0.9156 - val_loss: 0.2433\n",
      "Epoch 19/20\n",
      "\u001b[1m7500/7500\u001b[0m \u001b[32m━━━━━━━━━━━━━━━━━━━━\u001b[0m\u001b[37m\u001b[0m \u001b[1m18s\u001b[0m 2ms/step - accuracy: 0.9493 - loss: 0.1397 - val_accuracy: 0.9105 - val_loss: 0.2615\n",
      "Epoch 20/20\n",
      "\u001b[1m7500/7500\u001b[0m \u001b[32m━━━━━━━━━━━━━━━━━━━━\u001b[0m\u001b[37m\u001b[0m \u001b[1m18s\u001b[0m 2ms/step - accuracy: 0.9517 - loss: 0.1332 - val_accuracy: 0.9140 - val_loss: 0.2512\n"
     ]
    }
   ],
   "source": [
    "import tensorflow as tf\n",
    "import numpy as np\n",
    "import pandas as pd\n",
    "from tensorflow.keras.datasets.fashion_mnist import load_data\n",
    "\n",
    "# Cargar datos\n",
    "(x_train, y_train), (x_test, y_test) = load_data()\n",
    "\n",
    "# Procesamiento de datos\n",
    "x_train = x_train.reshape(-1, 28, 28, 1) / 255.0\n",
    "x_test = x_test.reshape(-1, 28, 28, 1) / 255.0\n",
    "\n",
    "# Parámetros de capacitación\n",
    "batch_size = 8\n",
    "n_epochs = 20\n",
    "learn_rate = 0.0001\n",
    "\n",
    "# Definición del modelo\n",
    "model = tf.keras.Sequential([\n",
    "    tf.keras.Input(shape=(28, 28, 1)),\n",
    "    tf.keras.layers.Conv2D(filters=32, kernel_size=(3,3), activation='relu'),\n",
    "    tf.keras.layers.MaxPooling2D(pool_size=(2,2)),\n",
    "    tf.keras.layers.Conv2D(filters=64, kernel_size=(3,3), activation='relu'),\n",
    "    tf.keras.layers.MaxPooling2D(pool_size=(2,2)),\n",
    "    tf.keras.layers.Flatten(),\n",
    "    tf.keras.layers.Dense(128, activation='relu'),\n",
    "    tf.keras.layers.Dense(10, activation='softmax')  # 10 clases para Fashion-MNIST\n",
    "])\n",
    "\n",
    "# Compilación del modelo\n",
    "model.compile(optimizer=tf.keras.optimizers.Adam(learning_rate=learn_rate),\n",
    "              loss='sparse_categorical_crossentropy',\n",
    "              metrics=['accuracy'])\n",
    "\n",
    "# Visualización de la arquitectura del modelo\n",
    "model.summary()\n",
    "\n",
    "# Entrenamiento del modelo\n",
    "history = model.fit(x_train, y_train,\n",
    "                    batch_size=batch_size,\n",
    "                    epochs=n_epochs,\n",
    "                    validation_data=(x_test, y_test))"
   ]
  },
  {
   "cell_type": "code",
   "execution_count": 6,
   "metadata": {
    "colab": {
     "base_uri": "https://localhost:8080/"
    },
    "id": "7QHDaCs8JzPt",
    "outputId": "75d2e36e-18b0-4c7b-cca8-42d8df42e3cb"
   },
   "outputs": [
    {
     "name": "stdout",
     "output_type": "stream",
     "text": [
      "\u001b[1m313/313\u001b[0m \u001b[32m━━━━━━━━━━━━━━━━━━━━\u001b[0m\u001b[37m\u001b[0m \u001b[1m2s\u001b[0m 3ms/step\n"
     ]
    }
   ],
   "source": [
    "# Obtener las predicciones del modelo para el conjunto de prueba\n",
    "predicciones = model.predict(x_test)"
   ]
  },
  {
   "cell_type": "code",
   "execution_count": 7,
   "metadata": {
    "id": "1p9uMXaKJ52-"
   },
   "outputs": [],
   "source": [
    "# Obtener la clase predicha para cada ejemplo en el conjunto de prueba\n",
    "clases_predichas = np.argmax(predicciones, axis=1)\n"
   ]
  },
  {
   "cell_type": "code",
   "execution_count": 8,
   "metadata": {
    "id": "AIqZlbJLJ7LG"
   },
   "outputs": [],
   "source": [
    "# Nombres de las clases en Fashion-MNIST\n",
    "nombres_clases = ['Camiseta/Top', 'Pantalón', 'Suéter', 'Vestido', 'Abrigo',\n",
    "                  'Sandalia', 'Camisa', 'Zapatilla deportiva', 'Bolso', 'Botín']\n"
   ]
  },
  {
   "cell_type": "code",
   "execution_count": 13,
   "metadata": {
    "colab": {
     "base_uri": "https://localhost:8080/",
     "height": 202
    },
    "id": "NDdRyedxJ-S0",
    "outputId": "fb94dec9-ff09-411c-918f-4a144fbe59c5"
   },
   "outputs": [
    {
     "data": {
      "image/png": "[encoded data removed]",
      "text/plain": [
       "<Figure size 4000x3000 with 15 Axes>"
      ]
     },
     "metadata": {},
     "output_type": "display_data"
    }
   ],
   "source": [
    "import matplotlib.pyplot as plt\n",
    "\n",
    "# Número de imágenes a mostrar\n",
    "num_imagenes = 15\n",
    "\n",
    "plt.figure(figsize=(40, 30))\n",
    "for i in range(num_imagenes):\n",
    "    plt.subplot(1, num_imagenes, i + 1)\n",
    "    plt.imshow(x_test[i].reshape(28, 28), cmap='gray')\n",
    "    plt.title(f\"Real: {nombres_clases[y_test[i]]}\\nPred: {nombres_clases[clases_predichas[i]]}\")\n",
    "    plt.axis('off')\n",
    "plt.show()\n"
   ]
  }
 ],
 "metadata": {
  "accelerator": "GPU",
  "colab": {
   "gpuType": "A100",
   "machine_shape": "hm",
   "provenance": []
  },
  "kernelspec": {
   "display_name": "Python 3 (ipykernel)",
   "language": "python",
   "name": "python3"
  },
  "language_info": {
   "codemirror_mode": {
    "name": "ipython",
    "version": 3
   },
   "file_extension": ".py",
   "mimetype": "text/x-python",
   "name": "python",
   "nbconvert_exporter": "python",
   "pygments_lexer": "ipython3",
   "version": "3.13.2"
  }
 },
 "nbformat": 4,
 "nbformat_minor": 4
}
