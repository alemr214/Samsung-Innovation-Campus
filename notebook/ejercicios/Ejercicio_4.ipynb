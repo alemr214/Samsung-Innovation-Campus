{
 "cells": [
  {
   "cell_type": "markdown",
   "metadata": {},
   "source": [
    "# Capítulo 5. Cuestionario"
   ]
  },
  {
   "cell_type": "markdown",
   "metadata": {},
   "source": [
    "1. **¿Cuál de las siguientes declaraciones sobre el aprendizaje supervisado es incorrecta?**\n",
    "    1. El aprendizaje supervisado consiste en realizar predicciones correctamente con datos dados a partir de datos de capacitación.\n",
    "    2. La precisión es la relación entre lo que el modelo clasifica como verdadero y lo que realmente clasifica como verdadero. Puede denominarse tasa de respuesta.\n",
    "    3. La tasa de recuperación es la relación entre lo que el modelo predice como verdadero y lo que es realmente verdadero.\n",
    "    4. ~~La tasa de recuperación se calcula como $\\frac{tp}{tp+fp}$ (donde *tp* es verdadero positivo y *fp* es falso positivo)~~\n"
   ]
  },
  {
   "cell_type": "markdown",
   "metadata": {},
   "source": [
    "2. **¿Cuál es el método de estimación de los coeficientes de regresión en el análisis de regresión?**\n",
    "\n",
    "    a) El metodo utilizado para la estimacion de coeficientes de regresion es el de **minimo cuadrados** el cual se establece por la formula\n",
    "\n",
    "    $$\n",
    "        SSE = \\sum_{i=1}^{n}(y_{i} - \\hat{y_{i}})^{2}\n",
    "    $$"
   ]
  },
  {
   "cell_type": "markdown",
   "metadata": {},
   "source": [
    "3. **¿Cuál de las siguientes declaraciones sobre el sobreajuste es incorrecta?**\n",
    "\n",
    "    1. Una característica de un patrón encontrado en un conjunto de datos específico que sólo existe en ese conjunto de datos, o una característica de un patrón que no se generaliza y sólo existe en unos datos específicos se denomina sobreajuste.\n",
    "    2. Los métodos de extracción utilizados para resolver el problema del sobreajuste incluyen el método holdout, el método de validación cruzada, el método bootstrap, etc.\n",
    "    3. En el método holdout, la validación cruzada se realiza dividiendo los datos de capacitación para el aprendizaje y la construcción del modelo y los datos de verificación para la evaluación del cumplimiento, y los resultados de los datos de verificación se utilizan únicamente para la medición del cumplimiento sin afectar al modelo.\n",
    "    4. ~~El método de validación cruzada es un método para volver a seleccionar los datos de capacitación repetidamente y basado en la extracción de restauración, y es adecuado cuando la cantidad total de datos no es grande.~~\n"
   ]
  },
  {
   "cell_type": "markdown",
   "metadata": {},
   "source": [
    "4. **¿Cuál de las siguientes afirmaciones sobre el modelo de árbol de decisión es incorrecta?**\n",
    "    1. Los árboles de decisión se utilizan para la predicción de la quiebra de empresas, la predicción del precio máximo de las acciones, la predicción de la tasa de cambio y la predicción de las perspectivas económicas.\n",
    "    2. El algoritmo CHAID(Detección Automática de Interacción Chi-cuadrado) es un algoritmo que realiza la separación utilizando el chi-cuadrado o la prueba F. \n",
    "    3. ~~El algoritmo CART(Árboles de clasificación y regresión) es un algoritmo que realiza la separación utilizando el índice de Gini, y 100 representa un nodo perfectamente puro entre 0 y 100.~~\n",
    "    4. El índice de entropía del algoritmo C4.5 puede obtenerse utilizando el estadístico de prueba de razón de verosimilitud en la distribución polinómica y restando la entropía del nodo hijo de la entropía del nodo padre. \n"
   ]
  },
  {
   "cell_type": "markdown",
   "metadata": {},
   "source": [
    "5. **Cuando he entrenado un clasificador SVM utilizando el núcleo RBF, parece que no se ajusta al conjunto de capacitación. ¿Deberíamos aumentar gamma o disminuir gamma? ¿Qué pasa con C?**\n",
    "\n",
    "    a) Gamma deberia de aumentar, al igual que C esto permitiendo que gamma capte patrones en los datos y C reduce el subajuste permitiendo que el modelo se ajuste de mejor manera al conjunto de entrenamiento"
   ]
  },
  {
   "cell_type": "markdown",
   "metadata": {},
   "source": [
    "6. **Utilice el algoritmo KNN para clasificar los datos del código siguiente y calcule la exactitud, la llamada y la\n",
    "precisión. Establezca el valor de adyacencia en 5**"
   ]
  },
  {
   "cell_type": "code",
   "execution_count": 24,
   "metadata": {},
   "outputs": [],
   "source": [
    "# Import all necessary libraries.\n",
    "import numpy as np\n",
    "from sklearn.datasets import load_breast_cancer\n",
    "from sklearn.model_selection import train_test_split, GridSearchCV\n",
    "from sklearn.neighbors import KNeighborsClassifier\n",
    "from sklearn import metrics, preprocessing"
   ]
  },
  {
   "cell_type": "code",
   "execution_count": 25,
   "metadata": {},
   "outputs": [],
   "source": [
    "# Cargar datos\n",
    "data = load_breast_cancer()\n",
    "X = data['data']\n",
    "Y = 1 - data['target'] # 0 = 'benign' y 1 = malignant.\n",
    "\n",
    "# Dividir el conjunto de datos en capacitación y pruebas.\n",
    "X_train, X_test, Y_train, Y_test = train_test_split(X, Y, test_size=0.4, random_state=1234)"
   ]
  },
  {
   "cell_type": "code",
   "execution_count": 26,
   "metadata": {},
   "outputs": [
    {
     "name": "stdout",
     "output_type": "stream",
     "text": [
      "Exactitud: 0.9254385964912281\n",
      "Recall: 0.8571428571428571\n",
      "Precisión: 0.935064935064935\n"
     ]
    }
   ],
   "source": [
    "knn5 = KNeighborsClassifier(n_neighbors=5) # Crear un clasificador KNN con 5 vecinos.\n",
    "knn5.fit(X_train, Y_train) # Ajustar el clasificador a los datos de entrenamiento.\n",
    "Y_pred = knn5.predict(X_test) # Predecir las etiquetas de clase en el conjunto de prueba.\n",
    "\n",
    "# Imprimir métricas de evaluación.\n",
    "print(\"Exactitud: \" + str(metrics.accuracy_score(Y_test, Y_pred)))\n",
    "print(\"Recall: \" + str(metrics.recall_score(Y_test, Y_pred)))\n",
    "print(\"Precisión: \" + str(metrics.precision_score(Y_test, Y_pred)))"
   ]
  },
  {
   "cell_type": "code",
   "execution_count": 27,
   "metadata": {},
   "outputs": [],
   "source": [
    "scaler = preprocessing.StandardScaler().fit(X_train)\n",
    "X_train_scaled = scaler.transform(X_train)\n",
    "X_test_scaled = scaler.transform(X_test)"
   ]
  },
  {
   "cell_type": "code",
   "execution_count": 28,
   "metadata": {},
   "outputs": [
    {
     "name": "stdout",
     "output_type": "stream",
     "text": [
      "Mejores parametros encontrados {'metric': 'euclidean', 'n_neighbors': 5, 'weights': 'uniform'}\n",
      "Exactitud: 0.9342105263157895\n",
      "Precision: 1.0\n",
      "Recall: 0.8214285714285714\n",
      "F1: 0.9019607843137255\n"
     ]
    }
   ],
   "source": [
    "knn = KNeighborsClassifier()\n",
    "param_grid = {\n",
    "    'n_neighbors': [3, 5, 7, 9, 11],\n",
    "    'weights': ['uniform', 'distance'],\n",
    "    'metric': ['euclidean', 'manhattan']\n",
    "}\n",
    "\n",
    "grid_search = GridSearchCV(knn, param_grid, cv=5, scoring='accuracy')\n",
    "grid_search.fit(X_train_scaled, Y_train)\n",
    "\n",
    "best_knn = grid_search.best_estimator_\n",
    "\n",
    "Y_pred = best_knn.predict(X_test_scaled)\n",
    "\n",
    "accuracy = metrics.accuracy_score(Y_test, Y_pred)\n",
    "precision = metrics.precision_score(Y_test, Y_pred)\n",
    "recall = metrics.recall_score(Y_test, Y_pred)\n",
    "f1 = metrics.f1_score(Y_test, Y_pred)\n",
    "\n",
    "print(f\"Mejores parametros encontrados {grid_search.best_params_}\")\n",
    "print(f\"Exactitud: {accuracy}\")\n",
    "print(f\"Precision: {precision}\")\n",
    "print(f\"Recall: {recall}\")\n",
    "print(f\"F1: {f1}\")"
   ]
  },
  {
   "cell_type": "markdown",
   "metadata": {},
   "source": []
  }
 ],
 "metadata": {
  "kernelspec": {
   "display_name": ".venv",
   "language": "python",
   "name": "python3"
  },
  "language_info": {
   "codemirror_mode": {
    "name": "ipython",
    "version": 3
   },
   "file_extension": ".py",
   "mimetype": "text/x-python",
   "name": "python",
   "nbconvert_exporter": "python",
   "pygments_lexer": "ipython3",
   "version": "3.12.8"
  }
 },
 "nbformat": 4,
 "nbformat_minor": 4
}
