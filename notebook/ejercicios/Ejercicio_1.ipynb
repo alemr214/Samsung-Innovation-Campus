{
 "cells": [
  {
   "cell_type": "code",
   "execution_count": 11,
   "metadata": {
    "id": "2-chGKgFVWLX"
   },
   "outputs": [],
   "source": [
    "import numpy as np\n",
    "\n",
    "A = np.array([[1,-4],[-4,1]])\n",
    "B = np.array([[1,-8],[-8,2]])"
   ]
  },
  {
   "cell_type": "markdown",
   "metadata": {
    "id": "IM8XE1YBZMnJ"
   },
   "source": [
    "# **Primera parte de los ejercicios**"
   ]
  },
  {
   "cell_type": "code",
   "execution_count": 12,
   "metadata": {
    "colab": {
     "base_uri": "https://localhost:8080/"
    },
    "id": "TBr21jMrWysg",
    "outputId": "fdab9180-5491-4a03-d80a-5f4177300fcb"
   },
   "outputs": [
    {
     "data": {
      "text/plain": [
       "array([[  2, -12],\n",
       "       [-12,   3]])"
      ]
     },
     "execution_count": 12,
     "metadata": {},
     "output_type": "execute_result"
    }
   ],
   "source": [
    "A + B"
   ]
  },
  {
   "cell_type": "code",
   "execution_count": 17,
   "metadata": {
    "colab": {
     "base_uri": "https://localhost:8080/"
    },
    "id": "XFHtc979W0pM",
    "outputId": "55c96d5f-4383-416d-c58a-1d7777738745"
   },
   "outputs": [
    {
     "data": {
      "text/plain": [
       "array([[-1.,  6.],\n",
       "       [ 9.,  1.]])"
      ]
     },
     "execution_count": 17,
     "metadata": {},
     "output_type": "execute_result"
    }
   ],
   "source": [
    "A - 0.5 * B"
   ]
  },
  {
   "cell_type": "code",
   "execution_count": 14,
   "metadata": {
    "colab": {
     "base_uri": "https://localhost:8080/"
    },
    "id": "-Voctd_QXD6g",
    "outputId": "d775e931-9138-444c-984f-fbe87f1e65ed"
   },
   "outputs": [
    {
     "data": {
      "text/plain": [
       "array([[  5, -20],\n",
       "       [-20,   5]])"
      ]
     },
     "execution_count": 14,
     "metadata": {},
     "output_type": "execute_result"
    }
   ],
   "source": [
    "5*A"
   ]
  },
  {
   "cell_type": "markdown",
   "metadata": {
    "id": "gNJM_CevZRCq"
   },
   "source": [
    "# **Segunda parte de los ejercicios**"
   ]
  },
  {
   "cell_type": "code",
   "execution_count": 15,
   "metadata": {
    "id": "5hcIaMJmYmrz"
   },
   "outputs": [],
   "source": [
    "A = np.array([[1,3],[5,7]])\n",
    "B = np.array([[4,-6],[-8,12]])"
   ]
  },
  {
   "cell_type": "code",
   "execution_count": 6,
   "metadata": {
    "colab": {
     "base_uri": "https://localhost:8080/"
    },
    "id": "dc2P4EJ8erp-",
    "outputId": "70a6adae-a96b-4f60-cc11-6f9e9e4ee240"
   },
   "outputs": [
    {
     "data": {
      "text/plain": [
       "np.float64(7.999999999999998)"
      ]
     },
     "execution_count": 6,
     "metadata": {},
     "output_type": "execute_result"
    }
   ],
   "source": [
    "np.absolute(np.linalg.det(A))"
   ]
  },
  {
   "cell_type": "code",
   "execution_count": 7,
   "metadata": {
    "colab": {
     "base_uri": "https://localhost:8080/"
    },
    "id": "hO-EPdure9ZT",
    "outputId": "3dc4e182-ebf9-44d4-caed-771aa2cb9ab1"
   },
   "outputs": [
    {
     "data": {
      "text/plain": [
       "array([[-0.875,  0.375],\n",
       "       [ 0.625, -0.125]])"
      ]
     },
     "execution_count": 7,
     "metadata": {},
     "output_type": "execute_result"
    }
   ],
   "source": [
    "np.linalg.inv(A)"
   ]
  },
  {
   "cell_type": "code",
   "execution_count": 8,
   "metadata": {
    "colab": {
     "base_uri": "https://localhost:8080/"
    },
    "id": "eQCcc5iMe3Lc",
    "outputId": "a64f7eeb-6152-415e-9515-eab52b32ecca"
   },
   "outputs": [
    {
     "name": "stdout",
     "output_type": "stream",
     "text": [
      "La matriz no tiene inversa, su determinante es 0\n"
     ]
    }
   ],
   "source": [
    "if np.linalg.det(B) != 0:\n",
    "    print(np.linalg.inv(B))\n",
    "else:\n",
    "    print(\"La matriz no tiene inversa, su determinante es 0\")"
   ]
  },
  {
   "cell_type": "code",
   "execution_count": 9,
   "metadata": {
    "colab": {
     "base_uri": "https://localhost:8080/"
    },
    "id": "VBXQgnhKf-_T",
    "outputId": "77bdabd2-e3b3-4dc2-b93e-d58413d8c457"
   },
   "outputs": [
    {
     "data": {
      "text/plain": [
       "array([[1., 0.],\n",
       "       [0., 1.]])"
      ]
     },
     "execution_count": 9,
     "metadata": {},
     "output_type": "execute_result"
    }
   ],
   "source": [
    "np.dot(A, np.linalg.inv(A))"
   ]
  },
  {
   "cell_type": "code",
   "execution_count": 10,
   "metadata": {
    "colab": {
     "base_uri": "https://localhost:8080/"
    },
    "id": "FcCcHj2qh4rF",
    "outputId": "33ca699f-d577-4cff-acb8-91fae2e93b5f"
   },
   "outputs": [
    {
     "data": {
      "text/plain": [
       "array([[1., 3.],\n",
       "       [5., 7.]])"
      ]
     },
     "execution_count": 10,
     "metadata": {},
     "output_type": "execute_result"
    }
   ],
   "source": [
    "np.linalg.inv(np.linalg.inv(A))"
   ]
  }
 ],
 "metadata": {
  "colab": {
   "provenance": []
  },
  "kernelspec": {
   "display_name": ".venv",
   "language": "python",
   "name": "python3"
  },
  "language_info": {
   "codemirror_mode": {
    "name": "ipython",
    "version": 3
   },
   "file_extension": ".py",
   "mimetype": "text/x-python",
   "name": "python",
   "nbconvert_exporter": "python",
   "pygments_lexer": "ipython3",
   "version": "3.13.0"
  }
 },
 "nbformat": 4,
 "nbformat_minor": 0
}
