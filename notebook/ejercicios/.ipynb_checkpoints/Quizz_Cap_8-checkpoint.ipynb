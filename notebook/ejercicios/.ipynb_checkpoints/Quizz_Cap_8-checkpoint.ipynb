{
  "cells": [
    {
      "cell_type": "markdown",
      "metadata": {
        "id": "zyAEew_c003B"
      },
      "source": [
        "1. ¿Cuál es el problema que se plantea cuando el número de nodos es pequeño al analizar redes neuronales artificiales?\n",
        "    1. Si el número de nodos es pequeño, el número de operaciones a procesar es pequeño, por lo que se realiza\n",
        "    Samsung Innovation Campus\n",
        "    rápidamente.\n",
        "    2. ~~No se pueden crear límites de decisión complejos al realizar un modelo de análisis.~~\n",
        "    3. No se puede realizar el algoritmo de retropropagación que ajusta pesos y umbrales.\n",
        "    4. El número de nodos no tiene nada que ver con el modelo de análisis."
      ]
    },
    {
      "cell_type": "markdown",
      "metadata": {
        "id": "Me0PnlGh003M"
      },
      "source": [
        "---"
      ]
    },
    {
      "cell_type": "markdown",
      "metadata": {
        "id": "tcwWRJxs003N"
      },
      "source": [
        "2. ¿Cuál es el concepto que se describe a continuación? (Matriz multidimensional con 3 componentes: Rango, Forma, Tipo)\n",
        "\n",
        "A: El concepto al que refiere es el de **Tensor** el cual se define como una matriz multidimensional que posee tres propiedades fundamentales:\n",
        "- Rango\n",
        "- Forma\n",
        "- Tipo"
      ]
    },
    {
      "cell_type": "markdown",
      "metadata": {
        "id": "GFFh9Lob003N"
      },
      "source": [
        "---"
      ]
    },
    {
      "cell_type": "markdown",
      "metadata": {
        "id": "gnvxW8I6003O"
      },
      "source": [
        "3. ¿Qué ocurre si el error de verificación aumenta constantemente cuando graficamos el error de verificación para cada\n",
        "época utilizando el método de descenso de pendiente por lotes? Además, ¿cómo se puede resolver este problema?\n",
        "\n",
        "\n",
        "A: Cuando el error de verificación aumenta constantemente durante el entrenamiento con descenso de pendiente por lotes, esto indica que el modelo está sobreajustándose (overfitting) a los datos de entrenamiento. En otras palabras, el modelo aprende patrones muy específicos (incluso ruido) de los datos de entrenamiento, lo que afecta negativamente su capacidad para generalizar a datos nuevos.\n",
        "\n",
        "Para resolver este problema se pueden aplicar varias estrategias:\n",
        "\n",
        "- **Early stopping**: Detener el entrenamiento en el momento en que el error de verificación comience a aumentar, evitando que el modelo se adapte en exceso a los datos de entrenamiento.\n",
        "- **Regularización**: Emplear técnicas como la regularización L1 o L2, o aplicar dropout, para penalizar la complejidad del modelo y mejorar su capacidad de generalización.\n",
        "- **Reducir la complejidad del modelo**: Simplificar la arquitectura de la red (por ejemplo, disminuyendo el número de nodos o capas) para evitar que el modelo aprenda demasiados detalles específicos de los datos de entrenamiento."
      ]
    },
    {
      "cell_type": "markdown",
      "metadata": {
        "id": "9e0QlhAC003O"
      },
      "source": [
        "---"
      ]
    },
    {
      "cell_type": "markdown",
      "metadata": {
        "id": "9Z7x-XVX003O"
      },
      "source": [
        "4. La figura de la página siguiente son datos con una estructura tridimensional.\n",
        "  1. Presente las ecuaciones de convolución para (a).\n",
        "  2. Presente las ecuaciones de convolución para (b).\n"
      ]
    },
    {
      "cell_type": "markdown",
      "metadata": {
        "id": "Z9acbKYd5f0o"
      },
      "source": [
        "A:\n",
        "\n",
        "(1) Ecuación de convolución para el caso (a)\n",
        "\n",
        "$$\n",
        "s(i, j)\n",
        "\\;=\\;\n",
        "\\sum_{p=0}^{h-1}\n",
        "\\sum_{q=0}^{h-1}\n",
        "x\\bigl(i + p,\\; j + q\\bigr)\\,w(p, q)\n",
        "\\;+\\; b,\n",
        "$$\n",
        "\n",
        "donde:\n",
        "- $ 0 \\le i \\le m - h$\n",
        "- $0 \\le j \\le n - h$\n",
        "\n",
        "(2) Ecuación de convolución para el caso (b)\n",
        "\n",
        "$$\n",
        "s(i, j)\n",
        "\\;=\\;\n",
        "\\sum_{c=0}^{k-1}\n",
        "\\sum_{p=0}^{h-1}\n",
        "\\sum_{q=0}^{h-1}\n",
        "x\\bigl(c,\\; i + p,\\; j + q\\bigr)\\,w\\bigl(c,\\; p,\\; q\\bigr)\n",
        "\\;+\\; b,\n",
        "$$\n",
        "\n",
        "donde:\n",
        "- $0 \\le i \\le m - h$\n",
        "- $0 \\le j \\le n - h$\n"
      ]
    },
    {
      "cell_type": "markdown",
      "metadata": {
        "id": "fqX9p_Ez003O"
      },
      "source": [
        "---"
      ]
    },
    {
      "cell_type": "markdown",
      "metadata": {
        "id": "Rt32jhP6003P"
      },
      "source": [
        "5. Aplicar la función softmax cuando la salida de la red neuronal es (0.4,2.0,0.001,0.32)𝑇 y escribir el resultado."
      ]
    },
    {
      "cell_type": "code",
      "execution_count": 5,
      "metadata": {
        "colab": {
          "base_uri": "https://localhost:8080/"
        },
        "id": "Ec__ssgV33-a",
        "outputId": "02ce0484-da50-472b-c02b-37b4717c60fe"
      },
      "outputs": [
        {
          "name": "stdout",
          "output_type": "stream",
          "text": [
            "Resultado del softmax: [0.13250051 0.6562794  0.08890663 0.12231339]\n"
          ]
        }
      ],
      "source": [
        "import tensorflow as tf\n",
        "\n",
        "# Definir la salida de la red neuronal como un tensor\n",
        "salida = tf.constant([0.4, 2.0, 0.001, 0.32], dtype=tf.float32)\n",
        "\n",
        "# Aplicar la función softmax\n",
        "resultado_softmax = tf.nn.softmax(salida)\n",
        "\n",
        "# Mostrar el resultado\n",
        "print(\"Resultado del softmax:\", resultado_softmax.numpy())"
      ]
    },
    {
      "cell_type": "markdown",
      "metadata": {
        "id": "pF_S3JG6003Q"
      },
      "source": [
        "---"
      ]
    },
    {
      "cell_type": "markdown",
      "metadata": {
        "id": "93BtOFSn003Q"
      },
      "source": [
        "6. Forme un modelo de predicción de series temporales basado en RNN con referencia al siguiente código."
      ]
    },
    {
      "cell_type": "code",
      "execution_count": 4,
      "metadata": {
        "colab": {
          "base_uri": "https://localhost:8080/",
          "height": 412
        },
        "id": "GGQAgBu62Oaj",
        "outputId": "50793b7a-7b42-4b42-9063-8f1c9ecb0ad4"
      },
      "outputs": [
        {
          "data": {
            "image/png": "[encoded data removed]",
            "text/plain": [
              "<Figure size 800x400 with 1 Axes>"
            ]
          },
          "metadata": {},
          "output_type": "display_data"
        }
      ],
      "source": [
        "import pandas as pd\n",
        "import numpy as np\n",
        "from sklearn.model_selection import train_test_split\n",
        "from sklearn.preprocessing import MinMaxScaler\n",
        "import tensorflow as tf\n",
        "import matplotlib.pyplot as plt\n",
        "\n",
        "# Leer datos (se utiliza solo la columna 'PRICE')\n",
        "df = pd.read_csv('/content/data_boston.csv', header='infer', encoding='latin1')\n",
        "df = df[['PRICE']]\n",
        "\n",
        "# Escalar los datos\n",
        "scaler = MinMaxScaler()\n",
        "ts_scaled = scaler.fit_transform(df)\n",
        "\n",
        "# Función para crear secuencias (ventanas) a partir de la serie\n",
        "def create_dataset(data, look_back=10):\n",
        "    X, y = [], []\n",
        "    for i in range(len(data) - look_back):\n",
        "        X.append(data[i:i+look_back])\n",
        "        y.append(data[i+look_back])\n",
        "    return np.array(X), np.array(y)\n",
        "\n",
        "# Definir el tamaño de la ventana (look_back)\n",
        "look_back = 10\n",
        "X, y = create_dataset(ts_scaled, look_back)\n",
        "\n",
        "# Dividir en conjuntos de entrenamiento y prueba (sin mezclar para respetar el orden temporal)\n",
        "X_train, X_test, y_train, y_test = train_test_split(X, y, test_size=0.2, shuffle=False)\n",
        "\n",
        "# Parámetros de entrenamiento\n",
        "batch_size = 1\n",
        "n_epochs = 1000\n",
        "learn_rate = 0.0001\n",
        "\n",
        "# Definir el modelo RNN basado en LSTM\n",
        "model = tf.keras.Sequential()\n",
        "# La forma de entrada es (look_back, 1) ya que cada secuencia tiene 'look_back' pasos y 1 característica\n",
        "model.add(tf.keras.Input(shape=(look_back, 1)))\n",
        "model.add(tf.keras.layers.LSTM(50, activation='tanh'))\n",
        "model.add(tf.keras.layers.Dense(1))\n",
        "\n",
        "# Compilar el modelo\n",
        "optimizer = tf.keras.optimizers.Adam(learning_rate=learn_rate)\n",
        "model.compile(optimizer=optimizer, loss='mse')\n",
        "\n",
        "# Entrenar el modelo\n",
        "history = model.fit(X_train, y_train, epochs=n_epochs, batch_size=batch_size,\n",
        "                    validation_data=(X_test, y_test), verbose=0)\n",
        "\n",
        "# Graficar la evolución del error\n",
        "plt.figure(figsize=(8, 4))\n",
        "plt.plot(history.history['loss'], label='Error de entrenamiento')\n",
        "plt.plot(history.history['val_loss'], label='Error de validación')\n",
        "plt.title('Evolución del Error durante el Entrenamiento')\n",
        "plt.xlabel('Época')\n",
        "plt.ylabel('MSE')\n",
        "plt.legend()\n",
        "plt.show()"
      ]
    }
  ],
  "metadata": {
    "accelerator": "GPU",
    "colab": {
      "gpuType": "A100",
      "machine_shape": "hm",
      "provenance": []
    },
    "kernelspec": {
      "display_name": ".venv",
      "language": "python",
      "name": "python3"
    },
    "language_info": {
      "codemirror_mode": {
        "name": "ipython",
        "version": 3
      },
      "file_extension": ".py",
      "mimetype": "text/x-python",
      "name": "python",
      "nbconvert_exporter": "python",
      "pygments_lexer": "ipython3",
      "version": "3.12.9"
    }
  },
  "nbformat": 4,
  "nbformat_minor": 0
}
