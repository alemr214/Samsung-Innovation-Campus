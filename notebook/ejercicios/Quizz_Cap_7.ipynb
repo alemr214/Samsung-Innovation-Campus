{
 "cells": [
  {
   "cell_type": "markdown",
   "metadata": {},
   "source": [
    "1. ¿Cuál de las siguientes declaraciones sobre la minería de textos es incorrecta?\n",
    "    1. Se puede conocer la reacción a un grupo específico.\n",
    "    2. Se puede obtener información sobre el liderazgo de ventas.\n",
    "    3. Se pueden establecer estrategias competitivas monitoreando otras marcas.\n",
    "    4. ~~Se puede aplicar el mismo método a varios idiomas.~~"
   ]
  },
  {
   "cell_type": "markdown",
   "metadata": {},
   "source": [
    "2. ¿Cuál de las siguientes afirmaciones no es cierta sobre el uso de las redes sociales?\n",
    "    1. Es posible conocer cuántos grupos componen la red.\n",
    "    2. Es posible conocer clientes influyentes.\n",
    "    3. Es posible saber ver el cambio a lo largo del tiempo.\n",
    "    4. ~~Es posible saber si los clientes se irán la próxima vez.~~"
   ]
  },
  {
   "cell_type": "markdown",
   "metadata": {},
   "source": [
    "3. ¿Qué término significa separar una raíz de una palabra cuya forma ha sido modificada para extraer la palabra que es objeto del análisis morfémico?\n",
    "\n",
    "R: El termino que permite realizar esto se le conoce como `lematizacion` el cual permite eliminar afijos de la palabra volviendolo a su raiz."
   ]
  },
  {
   "cell_type": "markdown",
   "metadata": {},
   "source": [
    "4. ¿Qué término designa un conjunto de materiales que pueden mostrar los aspectos esenciales de la lengua como material de investigación requerido en cada campo de la investigación lingüística?\n",
    "\n",
    "R: Se le conoce como `corpus` el cual es un conjunto  de uso para el analisis linguistico."
   ]
  },
  {
   "cell_type": "markdown",
   "metadata": {},
   "source": [
    "5. Explique qué es la TF (Term Frequency) y escriba cómo calcular la TF (fórmula).\n",
    "\n",
    "Indica la importancia relativa de cada palabra (termino) dentro de un documento.\n",
    "Entre mas aparezca una palabra en el documento a analizar mayor sera el valor del TF.\n",
    "\n",
    "La formula para calcularlo es:\n",
    "\n",
    "$$\n",
    "TF(t,d) = \\frac{f(t,d)}{\\sum_{w \\in d}f(w, d)}\n",
    "$$\n",
    "Donde\n",
    "- $f(t,d)$: Es el numero de veces que aparece el termino en el documento\n",
    "- $\\sum_{w \\in d} f(w,d)$: Es el numeor total de terminos en el documento"
   ]
  },
  {
   "cell_type": "markdown",
   "metadata": {},
   "source": [
    "6. Encuentre la declaración más similar utilizando TF-IDF y similitud coseno con referencia al siguiente código"
   ]
  },
  {
   "cell_type": "code",
   "execution_count": 15,
   "metadata": {},
   "outputs": [
    {
     "name": "stdout",
     "output_type": "stream",
     "text": [
      "Documentos más similares (similitud = 56.27%):\n",
      "\n",
      "Documento 1:\n",
      "i es un campo en rápido avance que implica el desarrollo de máquinas inteligentes\n",
      "\n",
      "Documento 5:\n",
      "las consideraciones éticas desempeñan un papel importante en el desarrollo de la ia\n"
     ]
    }
   ],
   "source": [
    "import nltk\n",
    "import numpy as np\n",
    "from nltk.corpus import stopwords\n",
    "from sklearn.feature_extraction.text import TfidfVectorizer\n",
    "from sklearn.metrics import pairwise_distances\n",
    "\n",
    "doc = [\n",
    "\"I es un campo en rápido avance que implica el desarrollo de máquinas inteligentes\",\n",
    "\"El aprendizaje automático es un subconjunto de la IA que se centra en la capacitación de máquinas para aprender de los datos.\",\n",
    "\" El aprendizaje profundo es un subcampo del aprendizaje automático que utiliza redes neuronales con múltiples capas\",\n",
    "\" La IA se aplica en diversos sectores, como la sanidad, el transporte y el ocio. \",\n",
    "\" Las consideraciones éticas desempeñan un papel importante en el desarrollo de la IA\",\n",
    "\" La inteligencia artificial puede revolucionar muchos aspectos de la sociedad\",\n",
    "\" Los sistemas de IA, como los chatbots y los asistentes virtuales, son cada vez más comunes\",\n",
    "\"El procesamiento del lenguaje natural es una rama de la IA que permite a las máquinas comprender el lenguaje humano\",\n",
    "\" El objetivo de la visión por computadora es que las máquinas comprendan la información visual\",\n",
    "]\n",
    "\n",
    "# preprocesamiento.\n",
    "doc = [x.lower().strip() for x in doc]\n",
    "\n",
    "# parámetros\n",
    "max_features = 18\n",
    "min_df = 1\n",
    "max_df = 3\n",
    "\n",
    "stop_words = stopwords.words('english')\n",
    "\n",
    "vectorizer = TfidfVectorizer(max_features=max_features,min_df=min_df,max_df=max_df,stop_words=stop_words)\n",
    "\n",
    "X = vectorizer.fit_transform(doc).toarray()\n",
    "\n",
    "# Calcular similitud coseno\n",
    "distance_matrix = pairwise_distances(X, metric='cosine')\n",
    "similarity_matrix = 1 - distance_matrix\n",
    "\n",
    "# Encontrar el par más similar\n",
    "np.fill_diagonal(similarity_matrix, 0)\n",
    "max_sim = np.max(similarity_matrix)\n",
    "indices = np.where(similarity_matrix == max_sim)\n",
    "doc1_idx, doc2_idx = indices[0][0], indices[1][0]\n",
    "print(\"Documentos más similares (similitud = {:.2f}%):\".format(max_sim * 100))\n",
    "print(\"\\nDocumento {}:\\n{}\".format(doc1_idx + 1, doc[doc1_idx]))\n",
    "print(\"\\nDocumento {}:\\n{}\".format(doc2_idx + 1, doc[doc2_idx]))"
   ]
  }
 ],
 "metadata": {
  "kernelspec": {
   "display_name": ".venv",
   "language": "python",
   "name": "python3"
  },
  "language_info": {
   "codemirror_mode": {
    "name": "ipython",
    "version": 3
   },
   "file_extension": ".py",
   "mimetype": "text/x-python",
   "name": "python",
   "nbconvert_exporter": "python",
   "pygments_lexer": "ipython3",
   "version": "3.12.9"
  }
 },
 "nbformat": 4,
 "nbformat_minor": 4
}
